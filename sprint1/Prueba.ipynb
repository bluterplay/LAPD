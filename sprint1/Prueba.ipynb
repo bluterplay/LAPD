{
 "cells": [
  {
   "cell_type": "markdown",
   "id": "58a2bf54",
   "metadata": {
    "id": "58a2bf54"
   },
   "source": [
    "# Ejemplo de uso de los datos"
   ]
  },
  {
   "cell_type": "code",
   "execution_count": 1,
   "id": "a4f6abff",
   "metadata": {
    "id": "a4f6abff"
   },
   "outputs": [],
   "source": [
    "import pandas as pd\n",
    "import numpy as np\n",
    "import csv\n",
    "from sklearn.preprocessing import MinMaxScaler\n",
    "from sklearn.neighbors import KNeighborsRegressor\n",
    "from sklearn.neighbors import KNeighborsClassifier\n",
    "from sklearn.model_selection import train_test_split\n",
    "from sklearn.model_selection import cross_val_score\n",
    "from sklearn.metrics import accuracy_score\n",
    "from sklearn.metrics import r2_score\n",
    "from sklearn.metrics import mean_squared_error\n",
    "from sklearn.linear_model import Ridge\n",
    "from sklearn import linear_model\n",
    "from sklearn.ensemble import RandomForestClassifier\n",
    "from sklearn.model_selection import RandomizedSearchCV\n",
    "import pickle"
   ]
  },
  {
   "cell_type": "code",
   "execution_count": 2,
   "id": "94fc0805",
   "metadata": {
    "id": "94fc0805"
   },
   "outputs": [],
   "source": [
    "class Limpieza():\n",
    "    def __init__(self,data):\n",
    "        self.df=data\n",
    "        self.df.loc[self.df.vict_age==0,'vict_age']=np.nan\n",
    "        self.df.loc[(self.df.vict_age<0)|(self.df.vict_age>100),'vict_age']=np.nan\n",
    "    def porcentaje(self):\n",
    "        return (self.df).isna().sum()/len(self.df)*100\n",
    "    def cantidad(self):\n",
    "        return (self.df).isna().sum()\n",
    "    def limpieza(self):\n",
    "        self.df.drop('cross_street',axis=1,inplace=True)\n",
    "        crm_cd_concat=self.df[['crm_cd_1','crm_cd_2','crm_cd_3','crm_cd_4']].fillna('').astype('string')\n",
    "        crm_cd_concat=crm_cd_concat['crm_cd_1']+crm_cd_concat['crm_cd_2']+crm_cd_concat['crm_cd_3']+crm_cd_concat['crm_cd_4']\n",
    "        self.df['crm_cd_concat']=crm_cd_concat\n",
    "        self.df.drop(['crm_cd_1','crm_cd_2','crm_cd_3','crm_cd_4'],axis=1,inplace=True)\n",
    "        self.df['weapon_desc'].fillna('NO WEAPON',inplace=True)\n",
    "        self.df['weapon_used_cd'].fillna('0',inplace=True)\n",
    "        self.df.loc[self.df.vict_sex.isna(),'vict_sex']='X'\n",
    "        self.df.loc[self.df.vict_descent.isna(),'vict_descent']='U'\n",
    "        self.df.loc[self.df.lon==0,['lat','lon']]=np.nan\n",
    "        #return self.df\n",
    "        self.df.location = self.df.location.str.strip()\n",
    "        self.df.location = self.df.location.apply(lambda x: \"  \".join(x.split()))\n",
    "        self.df.location = self.df.location.str.replace(\" \", \"\")\n",
    "        self.df.location = self.df.location.str.upper()\n",
    "        directorio = pd.read_excel('Directorio_Lat_Lon.xlsx')\n",
    "        directorio.location = directorio.location.str.replace(\" \", \"\")\n",
    "        directorio.location = directorio.location.str.upper()\n",
    "        loc_lat = dict(zip(directorio.location,directorio.lat))\n",
    "        loc_lon = dict(zip(directorio.location,directorio.lon))\n",
    "        self.df.lat.fillna(self.df.location.map(loc_lat),inplace=True)\n",
    "        self.df.lon.fillna(self.df.location.map(loc_lon),inplace=True)\n",
    "        self.df.drop('location',axis=1,inplace=True)\n",
    "        #poner columna de código y luego descripción del código\n",
    "        self.col_corr('area','area_name')\n",
    "        self.col_corr('crm_cd','crm_cd_desc')\n",
    "        self.col_corr('premis_cd','premis_desc')\n",
    "        self.col_corr('weapon_used_cd','weapon_desc')\n",
    "        self.col_corr('status','status_desc')\n",
    "        self.df.loc[self.df.vict_sex=='H','vict_sex']=='X'\n",
    "        self.df.drop(self.df.loc[self.df.status=='CC'].index,inplace=True)\n",
    "\n",
    "    def imputar_edad(self):\n",
    "        ucr=pd.read_csv('ucr.csv')\n",
    "        ucr=ucr.astype({'Code':'string'})\n",
    "        self.df=self.df.astype({'crm_cd':'string'})\n",
    "        ucr=dict(zip(ucr['Code'],ucr['Subcategory']))\n",
    "        self.df['ucr']=self.df.crm_cd.map(ucr)\n",
    "        self.df.ucr=self.df.ucr.fillna('Other')\n",
    "        imputar=self.df.drop(['date_rptd', 'date_occ','area',\n",
    "                         'rpt_dist_no','part_1_2','crm_cd','mocodes','premis_cd',\n",
    "                         'weapon_used_cd','crm_cd_concat','rpt_dist_no'],axis=1).copy()#'dr_no', \n",
    "        dum1=pd.get_dummies(imputar['status']).drop('JO',axis=1)\n",
    "        imputar.drop('status',axis=1,inplace=True)\n",
    "        dum2=pd.get_dummies(imputar['vict_sex']).drop('X',axis=1)\n",
    "        imputar.drop('vict_sex',axis=1,inplace=True)\n",
    "        dum3=pd.get_dummies(imputar['vict_descent']).drop('Z',axis=1)\n",
    "        imputar.drop('vict_descent',axis=1,inplace=True)\n",
    "        dum4=pd.get_dummies(imputar['ucr']).drop('Other',axis=1)\n",
    "        imputar.drop('ucr',axis=1,inplace=True)\n",
    "        imputar=pd.concat([imputar,dum1,dum2,dum3,dum4],axis=1)\n",
    "        \n",
    "        \n",
    "        X=imputar[~imputar.vict_age.isna()]\n",
    "        y=X.vict_age.values\n",
    "        X=X.drop('vict_age',axis=1).values\n",
    "        X_train, X_test, y_train, y_test = train_test_split(X, y, test_size=0.3, random_state=0)\n",
    "        sc_X = MinMaxScaler()\n",
    "        X_train=sc_X.fit_transform(X_train)\n",
    "        X_test=sc_X.transform(X_test)\n",
    "        \n",
    "        clf = Ridge(alpha=1.0)\n",
    "        clf.fit(X_train, y_train)\n",
    "        y_train_p=clf.predict(X_train)\n",
    "        y_test_p=clf.predict(X_test)\n",
    "        print(r2_score(y_test, y_test_p))\n",
    "        \n",
    "        print(mean_squared_error(y_train, y_train_p))\n",
    "        print(mean_squared_error(y_test, y_test_p))\n",
    "        \n",
    "        \n",
    "        X=imputar[imputar.vict_age.isna()]\n",
    "        X=X.drop('vict_age',axis=1).values\n",
    "        X=sc_X.transform(X)\n",
    "        y=clf.predict(X)\n",
    "        self.df.loc[self.df.vict_age.isna(),'vict_age']=y\n",
    "        filename = 'edad_regresion.sav'\n",
    "        pickle.dump(clf, open(filename, 'wb'))\n",
    "\n",
    "       \n",
    "    def col_corr(self,codigo,descripcion):\n",
    "        dicc=dict(zip(self.df[codigo],self.df[descripcion]))\n",
    "        w = csv.writer(open(codigo+\".csv\", \"w\"))\n",
    "        for key, val in dicc.items():\n",
    "            w.writerow([key, val])\n",
    "        self.df.drop(descripcion,axis=1,inplace=True)\n",
    "        \n",
    "    def actualizar(self):\n",
    "        return self.df\n",
    "    def categoricas(self):\n",
    "        features=['rpt_dist_no','weapon_used_cd','premis']\n",
    "        for feature in features:\n",
    "            aux = self.df[feature].value_counts(True,dropna=False)\n",
    "            ls_categories = [category for category, freq in aux.items() if freq > 0.03 or category is np.nan]\n",
    "            self.df.loc[:,feature] = self.df[feature].map(lambda x: x if (x in ls_categories or x is np.nan) else \"Others\")\n",
    "    def lugar(self):\n",
    "        pl=[[[119,120,121,145,146.0,150.0,501.0, 502.0, 504.0,507.0, 508.0, 509.0, 510.0,511,515.0, 516.0,707],['vivienda']],\n",
    "            [[101.0, 102.0, 103.0, 104.0, 105.0, 106.0, 109.0, 110.0,116,117,\n",
    "              124.0, 125.0,128,136.0, 137.0,152,154,158,415,705.0,748.0],['calle']],\n",
    "            [[725.0, 726.0,240.0,732.0,752,753,756.0],['gobierno']],\n",
    "            [[123,142,156,204.0, 213.0],['estacionamiento']],\n",
    "            [[151.0,157.0,238,241,254,302,303,304.0, 305.0,702],['establecimiento']],\n",
    "            [[201.0, 202.0, 203.0,205.0, 206.0,208,209.0, 210.0, 211.0,217.0, 218.0,\n",
    "                                219.0, 220.0, 221.0, 222.0, 223.0, 224.0, 225.0,228,233.0,242,244.0, 245.0,\n",
    "                                247.0, 248.0, 249.0,250.0, 251.0, 252.0,255,401.0, 402.0, 404.0, 405.0,\n",
    "                                406.0, 407.0, 408.0,409.0, 410.0, 411.0, 412.0, 413.0, 414.0,417.0,703,\n",
    "                                148.0,709,301,216\n",
    "                                ],['establecimiento_publico']],\n",
    "            [[207,706.0,733.0,735.0],['nocturno']],\n",
    "            [[503,505,519.0],['hotel']],\n",
    "            [[111.0, 112.0, 113.0, 114.0, 115.0,122,126,212.0, 214.0, 215.0,801.0, 802.0,804,809.0, 810.0,\n",
    "                 811.0, 834.0, 835.0, 836.0, 868.0, 869.0, 870.0, 871.0, 872.0, 873.0,\n",
    "                 874.0, 875.0, 876.0, 877.0, 878.0, 879.0, 880.0, 882.0, 883.0, 884.0,\n",
    "                                885.0, 889.0, 890.0, 891.0, 892.0, 893.0, 894.0, 895.0, 896.0, 897.0,\n",
    "                                898.0, 900.0, 901.0, 902.0, 903.0, 904.0, 905.0, 906.0, 907.0, 908.0,\n",
    "                                909.0, 910.0, 911.0, 912.0, 913.0, 915.0, 916.0, 917.0, 918.0, 919.0,\n",
    "                                920.0, 921.0, 922.0, 931.0, 932.0, 933.0, 934.0, 935.0, 936.0, 937.0,\n",
    "                                940.0, 941.0, 942.0, 943.0, 944.0, 945.0, 946.0, 947.0, 948.0, 949.0,\n",
    "                                950.0, 951.0, 952.0, 953.0, 954.0, 956.0, 957.0, 958.0, 961.0, 962.0,\n",
    "                                963.0, 964.0, 965.0, 966.0, 967.0, 968.0, 969.0, 970.0, 971.0,129,135\n",
    "                               ],['transporte']],\n",
    "            [[138,143,727,140],['escaleras']],\n",
    "            [[139,108,147.0,712.0,713,144,714.0, 715.0, 716.0, 717.0, 718.0,711,734.0, 736.0, 737.0, 738.0, 739.0,\n",
    "                  742.0, 743.0,754,757.0, 758.0],['recreacion']],\n",
    "            [[141,149,155,745.0,107.0,118,506.0,518.0,127],['espacio_abierto']],\n",
    "            [[227.0,234.0, 235.0, 236.0, 237.0,239,246.0,253,403,701.0,719,755],['medico']],\n",
    "            [[229,601,602.0, 603.0, 604.0, 605.0, 606.0, 607.0, 608.0],['financiero']],\n",
    "            [[230.0, 512.0,514,517],['cuidado_personas']],\n",
    "            [[231.0,704.0,720.0, 721.0, 722.0, 723.0,724.0,729],['escuela']],\n",
    "            [[232.0,245.0,513,710,744.0,746.0],['otro']],\n",
    "            [[709.0, 730.0, 731.0,740],['iglesia']],\n",
    "            [[750.0, 751.0],['internet']]]\n",
    "        premis=[]\n",
    "        for secc in pl:\n",
    "            premis+=list(zip(secc[0],secc[1]*len(secc[0])))\n",
    "        premis=dict(premis)\n",
    "        self.df['premis']=self.df.premis_cd.map(premis)\n",
    "        \n",
    "    def imputar_premis(self):\n",
    "        imputar=self.df.drop([ 'date_rptd', 'date_occ','area',\n",
    "                         'rpt_dist_no','part_1_2','crm_cd','mocodes',\n",
    "                         'weapon_used_cd','rpt_dist_no','premis_cd','crm_cd_concat'],axis=1).copy()#'dr_no',\n",
    "        dum1=pd.get_dummies(imputar['status']).drop('JO',axis=1)\n",
    "        imputar.drop('status',axis=1,inplace=True)\n",
    "        dum2=pd.get_dummies(imputar['vict_sex']).drop('X',axis=1)\n",
    "        imputar.drop('vict_sex',axis=1,inplace=True)\n",
    "        dum3=pd.get_dummies(imputar['vict_descent']).drop('Z',axis=1)\n",
    "        imputar.drop('vict_descent',axis=1,inplace=True)\n",
    "        dum4=pd.get_dummies(imputar['ucr']).drop('Other',axis=1)\n",
    "        imputar.drop('ucr',axis=1,inplace=True)\n",
    "        imputar=pd.concat([imputar,dum1,dum2,dum3,dum4],axis=1)\n",
    "        \n",
    "        sc_x = MinMaxScaler()\n",
    "        X=imputar.loc[~self.df.premis.isna(),imputar.columns!='premis']\n",
    "        y=imputar.loc[~self.df.premis.isna(),'premis']\n",
    "        X_train, X_test, y_train, y_test = train_test_split(X, y, test_size=0.3, random_state=0)\n",
    "        X_train=pd.DataFrame(sc_x.fit_transform(X_train),columns=X.columns)\n",
    "        X_test=pd.DataFrame(sc_x.transform(X_test),columns=X.columns)\n",
    "        \n",
    "        \n",
    "        \n",
    "        clf = RandomForestClassifier(random_state=0, max_depth=6)\n",
    "        clf.fit(X_train,y_train)\n",
    "        y_predict=clf.predict(X_test)\n",
    "        print(accuracy_score(y_test, y_predict))\n",
    "        \n",
    "        \n",
    "        X=imputar.loc[self.df.premis.isna(),imputar.columns!='premis']\n",
    "        self.df.loc[self.df.premis.isna(),'premis']=clf.predict(X)\n",
    "        filename = 'premis_clasificacion.sav'\n",
    "        pickle.dump(clf, open(filename, 'wb'))\n",
    "        \n",
    " \n",
    "        \n",
    "        \n",
    "        #estimados=neigh.predict(imputar.loc[imputar.premis_cd.isna(),imputar.columns!='premis_cd'].values)\n",
    "        \n",
    "        #estimados=pd.Series(index=imputar.loc[imputar.premis_cd.isna(),'premis_cd'].index,data=estimados)\n",
    "        #self.df.loc[imputar.premis_cd.isna(),'premis_cd']=estimados\n",
    "        #self.df['premis_cd']=pd.DataFrame(scaler.inverse_transform(imputar.drop('premis_cd')),columns=imputar.columns)['premis_cd']\n",
    "    def clipping(self):\n",
    "        self.df['lon']=self.df['lon'].clip(-118.7, -118.1)\n",
    "        self.df['lat']=self.df['lat'].clip(33.6, 34.4)"
   ]
  },
  {
   "cell_type": "code",
   "execution_count": 3,
   "id": "fdaaed57",
   "metadata": {
    "id": "fdaaed57"
   },
   "outputs": [],
   "source": [
    "df=pd.read_csv('datos_prueba.csv',index_col=0)"
   ]
  },
  {
   "cell_type": "code",
   "execution_count": 4,
   "id": "96b0ab7a",
   "metadata": {},
   "outputs": [],
   "source": [
    "#df=pd.read_csv('datos_limpios.csv',index_col=0)"
   ]
  },
  {
   "cell_type": "code",
   "execution_count": 5,
   "id": "6e827ed8",
   "metadata": {},
   "outputs": [],
   "source": [
    "#df['premis_cd']=df2['premis_cd']"
   ]
  },
  {
   "cell_type": "markdown",
   "id": "05820bec",
   "metadata": {
    "id": "05820bec"
   },
   "source": [
    "## Empieza mi parte"
   ]
  },
  {
   "cell_type": "code",
   "execution_count": 6,
   "id": "35bdd567",
   "metadata": {},
   "outputs": [],
   "source": [
    "#nulos=Limpieza(df2)"
   ]
  },
  {
   "cell_type": "code",
   "execution_count": 7,
   "id": "466d3b98",
   "metadata": {
    "colab": {
     "base_uri": "https://localhost:8080/"
    },
    "id": "466d3b98",
    "outputId": "faffe965-5033-4d6c-e6d9-9f5bbd905787"
   },
   "outputs": [],
   "source": [
    "nulos=Limpieza(df)\n"
   ]
  },
  {
   "cell_type": "code",
   "execution_count": 8,
   "id": "dbce3722",
   "metadata": {},
   "outputs": [
    {
     "data": {
      "text/plain": [
       "date_rptd          0.000000\n",
       "date_occ           0.000000\n",
       "time_occ           0.000000\n",
       "area               0.000000\n",
       "area_name          0.000000\n",
       "rpt_dist_no        0.000000\n",
       "part_1_2           0.000000\n",
       "crm_cd             0.000000\n",
       "crm_cd_desc        0.000000\n",
       "mocodes           13.746887\n",
       "vict_age          24.200176\n",
       "vict_sex          13.108008\n",
       "vict_descent      13.108751\n",
       "premis_cd          0.001188\n",
       "premis_desc        0.050938\n",
       "weapon_used_cd    65.185404\n",
       "weapon_desc       65.185404\n",
       "status             0.000000\n",
       "status_desc        0.000000\n",
       "crm_cd_1           0.001188\n",
       "location           0.000000\n",
       "lat                0.000000\n",
       "lon                0.000000\n",
       "crm_cd_2          92.516562\n",
       "cross_street      83.664629\n",
       "crm_cd_3          99.747240\n",
       "crm_cd_4          99.992426\n",
       "dtype: float64"
      ]
     },
     "execution_count": 8,
     "metadata": {},
     "output_type": "execute_result"
    }
   ],
   "source": [
    "nulos.porcentaje()"
   ]
  },
  {
   "cell_type": "code",
   "execution_count": 9,
   "id": "0051e677",
   "metadata": {},
   "outputs": [],
   "source": [
    "nulos.limpieza()"
   ]
  },
  {
   "cell_type": "code",
   "execution_count": 10,
   "id": "dd165b8b",
   "metadata": {},
   "outputs": [
    {
     "name": "stdout",
     "output_type": "stream",
     "text": [
      "0.06872195918810797\n",
      "224.57141104879486\n",
      "224.29446525048078\n"
     ]
    }
   ],
   "source": [
    "nulos.imputar_edad()"
   ]
  },
  {
   "cell_type": "code",
   "execution_count": 11,
   "id": "9e35775c",
   "metadata": {},
   "outputs": [],
   "source": [
    "nulos.clipping()"
   ]
  },
  {
   "cell_type": "code",
   "execution_count": 12,
   "id": "2d00495e",
   "metadata": {},
   "outputs": [],
   "source": [
    "nulos.lugar()"
   ]
  },
  {
   "cell_type": "code",
   "execution_count": 13,
   "id": "5b489950",
   "metadata": {},
   "outputs": [],
   "source": [
    "nulos.categoricas()"
   ]
  },
  {
   "cell_type": "code",
   "execution_count": 14,
   "id": "17f7ee58",
   "metadata": {},
   "outputs": [
    {
     "data": {
      "text/plain": [
       "vivienda                   228235\n",
       "calle                      226394\n",
       "establecimiento_publico     79431\n",
       "Others                      54518\n",
       "recreacion                  51392\n",
       "transporte                  30381\n",
       "Name: premis, dtype: int64"
      ]
     },
     "execution_count": 14,
     "metadata": {},
     "output_type": "execute_result"
    }
   ],
   "source": [
    "nulos.df.premis.value_counts()"
   ]
  },
  {
   "cell_type": "code",
   "execution_count": 15,
   "id": "bf6cd66d",
   "metadata": {},
   "outputs": [
    {
     "name": "stdout",
     "output_type": "stream",
     "text": [
      "0.5580688790985848\n"
     ]
    }
   ],
   "source": [
    "nulos.imputar_premis()"
   ]
  },
  {
   "cell_type": "code",
   "execution_count": 16,
   "id": "d2c038bf",
   "metadata": {},
   "outputs": [
    {
     "data": {
      "text/plain": [
       "date_rptd          0.000000\n",
       "date_occ           0.000000\n",
       "time_occ           0.000000\n",
       "area               0.000000\n",
       "rpt_dist_no        0.000000\n",
       "part_1_2           0.000000\n",
       "crm_cd             0.000000\n",
       "mocodes           13.746928\n",
       "vict_age           0.000000\n",
       "vict_sex           0.000000\n",
       "vict_descent       0.000000\n",
       "premis_cd          0.001188\n",
       "weapon_used_cd     0.000000\n",
       "status             0.000000\n",
       "lat                0.000000\n",
       "lon                0.000000\n",
       "crm_cd_concat      0.000000\n",
       "ucr                0.000000\n",
       "premis             0.000000\n",
       "dtype: float64"
      ]
     },
     "execution_count": 16,
     "metadata": {},
     "output_type": "execute_result"
    }
   ],
   "source": [
    "nulos.porcentaje()"
   ]
  },
  {
   "cell_type": "code",
   "execution_count": 17,
   "id": "046837c2",
   "metadata": {},
   "outputs": [],
   "source": [
    "nulos.df.to_csv('DatosLimpios.csv')"
   ]
  },
  {
   "cell_type": "code",
   "execution_count": null,
   "id": "fe019b55",
   "metadata": {},
   "outputs": [],
   "source": []
  }
 ],
 "metadata": {
  "colab": {
   "provenance": []
  },
  "kernelspec": {
   "display_name": "Python 3 (ipykernel)",
   "language": "python",
   "name": "python3"
  },
  "language_info": {
   "codemirror_mode": {
    "name": "ipython",
    "version": 3
   },
   "file_extension": ".py",
   "mimetype": "text/x-python",
   "name": "python",
   "nbconvert_exporter": "python",
   "pygments_lexer": "ipython3",
   "version": "3.10.6"
  }
 },
 "nbformat": 4,
 "nbformat_minor": 5
}
