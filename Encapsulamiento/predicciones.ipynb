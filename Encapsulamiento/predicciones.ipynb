{
 "cells": [
  {
   "cell_type": "code",
   "execution_count": 1,
   "id": "7bf5d104-6ca2-4d5c-b62d-e008add4ceb9",
   "metadata": {
    "tags": []
   },
   "outputs": [],
   "source": [
    "import pandas as pd"
   ]
  },
  {
   "cell_type": "markdown",
   "id": "7a750f0a-746e-45e1-85d5-9c6bc173d07b",
   "metadata": {},
   "source": [
    "## Class"
   ]
  },
  {
   "cell_type": "code",
   "execution_count": 89,
   "id": "f74eb372-173c-4b6a-8a3a-1622e67f6361",
   "metadata": {
    "tags": []
   },
   "outputs": [],
   "source": [
    "from datetime import datetime,timedelta\n",
    "from pandas import date_range,concat,DataFrame\n",
    "from pickle import load\n",
    "from numpy import ceil\n",
    "\n",
    "class Predictions():\n",
    "    def __init__(self,df):\n",
    "        start=(pd.to_datetime(df[\"date\"].max()) + timedelta(days=1)).strftime('%Y-%m-%d')\n",
    "        end= ( datetime.strptime(start, '%Y-%m-%d') + timedelta(days=6)).strftime('%Y-%m-%d')\n",
    "        date_index = date_range(start=start, end=end, freq=\"D\")\n",
    "        aux=DataFrame(columns=df.columns[1:], index=date_index)\n",
    "        #aux.iloc[:,-12:-4]=df.iloc[-7:,-12:-4]\n",
    "        self.df =concat([df.iloc[-50:,:],aux.reset_index().rename(columns={'index':'date'})],ignore_index=True)\n",
    "        self.ls_predictions=[]\n",
    "    \n",
    "    def loadScaler(self,column):\n",
    "        zone=column[8]\n",
    "        crime=column[10:]\n",
    "        scx_file=\"NewModels/sc_x_\"+crime+\"_\"+zone+\".pkl\"\n",
    "        scy_file=\"NewModels/sc_y_\"+crime+\"_\"+zone+\".pkl\"\n",
    "        with open(scx_file, \"rb\") as fp:\n",
    "            sc= load(fp)\n",
    "        with open(scy_file, \"rb\") as fp:\n",
    "            sc2= load(fp)\n",
    "        self.sc= sc\n",
    "        self.sc2= sc2\n",
    "    \n",
    "    def loadLSTM(self,column):\n",
    "        zone=column[8]\n",
    "        crime=column[10:]\n",
    "        with open(\"NewModels/XGBoost/modeloSem_\"+zone+\"_\"+crime+\".pkl\", \"rb\") as m:\n",
    "            model = load(m)\n",
    "        self.model= model\n",
    "        \n",
    "    def scalerData(self,column,row):\n",
    "        X,y=self.df.drop([\"Target\",'date'],axis=1).iloc[row,:].to_numpy(),self.df[[\"Target\"]].iloc[row,:].to_numpy()\n",
    "\n",
    "        X=self.sc.transform(X.reshape(1,-1))\n",
    "        y=self.sc2.transform(y.reshape(-1,1))\n",
    "        X= X.reshape(-1,X.shape[1])\n",
    "        #X= X.reshape(X.shape[0], 1, X.shape[1])\n",
    "        return X, y\n",
    "    \n",
    "    def forecast(self,X):\n",
    "        #self.tomorrow=ceil(self.sc2.inverse_transform(self.model.predict(X)))[0][0]\n",
    "        self.tomorrow= ceil(self.sc2.inverse_transform((self.model.predict(X)).reshape(-1,1)))[0][0]\n",
    "        self.ls_predictions.append(self.tomorrow)\n",
    "        \n",
    "    def createMA(self,column):\n",
    "        for i in range(10,50,10):\n",
    "            self.df.iloc[:, int((i/10))-6]= self.df[column].rolling(window =i).mean()\n",
    "            \n",
    "    def generateNewDay(self,column,row):\n",
    "        self.df.iloc[row, 1]= self.tomorrow\n",
    "        self.df.iloc[row,2:35]=self.df.iloc[row-1,1:34]\n",
    "        self.createMA(column)"
   ]
  },
  {
   "cell_type": "markdown",
   "id": "8c4d8999-e728-4b93-a421-3d8b0f802717",
   "metadata": {},
   "source": [
    "## Test"
   ]
  },
  {
   "cell_type": "code",
   "execution_count": 90,
   "id": "b20d8804-34c6-4227-b1f7-f4d57d7f8aeb",
   "metadata": {
    "tags": []
   },
   "outputs": [],
   "source": [
    "df_feature= pd.read_csv(\"FeatureWE.csv\")"
   ]
  },
  {
   "cell_type": "code",
   "execution_count": 91,
   "id": "afc201f0-f794-4684-bc7d-a3852e606672",
   "metadata": {
    "tags": []
   },
   "outputs": [],
   "source": [
    "predicter= Predictions(df_feature.iloc[:-7,:])"
   ]
  },
  {
   "cell_type": "code",
   "execution_count": 92,
   "id": "0dcf48a2-e56c-4957-9a84-5aa6b1d5bc71",
   "metadata": {
    "tags": []
   },
   "outputs": [],
   "source": [
    "column=\"Crimes_Z4T100\""
   ]
  },
  {
   "cell_type": "code",
   "execution_count": 93,
   "id": "ca04ba85-8e59-4db8-a92b-5cd2dd5ef30c",
   "metadata": {
    "tags": []
   },
   "outputs": [],
   "source": [
    "predicter.loadScaler(column)"
   ]
  },
  {
   "cell_type": "code",
   "execution_count": 94,
   "id": "6b1852f4-ceb4-4834-bd82-eb34e92f7541",
   "metadata": {
    "tags": []
   },
   "outputs": [],
   "source": [
    "predicter.loadLSTM(column)"
   ]
  },
  {
   "cell_type": "code",
   "execution_count": 95,
   "id": "0c57c93c-0922-4410-88db-920ceb8c72d0",
   "metadata": {
    "tags": []
   },
   "outputs": [],
   "source": [
    "for row in range(-8,0):\n",
    "    X,y=predicter.scalerData(column,row)\n",
    "    predicter.forecast(X)\n",
    "    predicter.generateNewDay(column,row+1)"
   ]
  },
  {
   "cell_type": "code",
   "execution_count": 96,
   "id": "d4cea43a-8e22-4977-bee1-0980eddc11ae",
   "metadata": {
    "tags": []
   },
   "outputs": [
    {
     "data": {
      "text/plain": [
       "[7.0, 8.0, 8.0, 7.0, 7.0, 7.0, 8.0, 8.0]"
      ]
     },
     "execution_count": 96,
     "metadata": {},
     "output_type": "execute_result"
    }
   ],
   "source": [
    "predicter.ls_predictions"
   ]
  },
  {
   "cell_type": "code",
   "execution_count": 99,
   "id": "1966f4a6-04cb-4d7f-9529-4d95630b7adf",
   "metadata": {},
   "outputs": [
    {
     "data": {
      "text/html": [
       "<div>\n",
       "<style scoped>\n",
       "    .dataframe tbody tr th:only-of-type {\n",
       "        vertical-align: middle;\n",
       "    }\n",
       "\n",
       "    .dataframe tbody tr th {\n",
       "        vertical-align: top;\n",
       "    }\n",
       "\n",
       "    .dataframe thead th {\n",
       "        text-align: right;\n",
       "    }\n",
       "</style>\n",
       "<table border=\"1\" class=\"dataframe\">\n",
       "  <thead>\n",
       "    <tr style=\"text-align: right;\">\n",
       "      <th></th>\n",
       "      <th>date</th>\n",
       "      <th>Crimes_Z4T100</th>\n",
       "    </tr>\n",
       "  </thead>\n",
       "  <tbody>\n",
       "    <tr>\n",
       "      <th>1107</th>\n",
       "      <td>2023-02-20</td>\n",
       "      <td>4.0</td>\n",
       "    </tr>\n",
       "    <tr>\n",
       "      <th>1108</th>\n",
       "      <td>2023-02-21</td>\n",
       "      <td>0.0</td>\n",
       "    </tr>\n",
       "    <tr>\n",
       "      <th>1109</th>\n",
       "      <td>2023-02-22</td>\n",
       "      <td>6.0</td>\n",
       "    </tr>\n",
       "    <tr>\n",
       "      <th>1110</th>\n",
       "      <td>2023-02-23</td>\n",
       "      <td>5.0</td>\n",
       "    </tr>\n",
       "    <tr>\n",
       "      <th>1111</th>\n",
       "      <td>2023-02-24</td>\n",
       "      <td>2.0</td>\n",
       "    </tr>\n",
       "    <tr>\n",
       "      <th>1112</th>\n",
       "      <td>2023-02-25</td>\n",
       "      <td>8.0</td>\n",
       "    </tr>\n",
       "    <tr>\n",
       "      <th>1113</th>\n",
       "      <td>2023-02-26</td>\n",
       "      <td>9.0</td>\n",
       "    </tr>\n",
       "  </tbody>\n",
       "</table>\n",
       "</div>"
      ],
      "text/plain": [
       "            date  Crimes_Z4T100\n",
       "1107  2023-02-20            4.0\n",
       "1108  2023-02-21            0.0\n",
       "1109  2023-02-22            6.0\n",
       "1110  2023-02-23            5.0\n",
       "1111  2023-02-24            2.0\n",
       "1112  2023-02-25            8.0\n",
       "1113  2023-02-26            9.0"
      ]
     },
     "execution_count": 99,
     "metadata": {},
     "output_type": "execute_result"
    }
   ],
   "source": [
    "df_feature.iloc[-7:][[\"date\",\"Crimes_Z4T100\"]]"
   ]
  },
  {
   "cell_type": "code",
   "execution_count": 97,
   "id": "c56d35bf-6c4e-459e-b424-38d063c5d97d",
   "metadata": {},
   "outputs": [
    {
     "data": {
      "text/html": [
       "<div>\n",
       "<style scoped>\n",
       "    .dataframe tbody tr th:only-of-type {\n",
       "        vertical-align: middle;\n",
       "    }\n",
       "\n",
       "    .dataframe tbody tr th {\n",
       "        vertical-align: top;\n",
       "    }\n",
       "\n",
       "    .dataframe thead th {\n",
       "        text-align: right;\n",
       "    }\n",
       "</style>\n",
       "<table border=\"1\" class=\"dataframe\">\n",
       "  <thead>\n",
       "    <tr style=\"text-align: right;\">\n",
       "      <th></th>\n",
       "      <th>date</th>\n",
       "      <th>Crimes_Z4T100</th>\n",
       "    </tr>\n",
       "  </thead>\n",
       "  <tbody>\n",
       "    <tr>\n",
       "      <th>50</th>\n",
       "      <td>2023-02-20 00:00:00</td>\n",
       "      <td>7.0</td>\n",
       "    </tr>\n",
       "    <tr>\n",
       "      <th>51</th>\n",
       "      <td>2023-02-21 00:00:00</td>\n",
       "      <td>8.0</td>\n",
       "    </tr>\n",
       "    <tr>\n",
       "      <th>52</th>\n",
       "      <td>2023-02-22 00:00:00</td>\n",
       "      <td>8.0</td>\n",
       "    </tr>\n",
       "    <tr>\n",
       "      <th>53</th>\n",
       "      <td>2023-02-23 00:00:00</td>\n",
       "      <td>7.0</td>\n",
       "    </tr>\n",
       "    <tr>\n",
       "      <th>54</th>\n",
       "      <td>2023-02-24 00:00:00</td>\n",
       "      <td>7.0</td>\n",
       "    </tr>\n",
       "    <tr>\n",
       "      <th>55</th>\n",
       "      <td>2023-02-25 00:00:00</td>\n",
       "      <td>7.0</td>\n",
       "    </tr>\n",
       "    <tr>\n",
       "      <th>56</th>\n",
       "      <td>2023-02-26 00:00:00</td>\n",
       "      <td>8.0</td>\n",
       "    </tr>\n",
       "  </tbody>\n",
       "</table>\n",
       "</div>"
      ],
      "text/plain": [
       "                   date  Crimes_Z4T100\n",
       "50  2023-02-20 00:00:00            7.0\n",
       "51  2023-02-21 00:00:00            8.0\n",
       "52  2023-02-22 00:00:00            8.0\n",
       "53  2023-02-23 00:00:00            7.0\n",
       "54  2023-02-24 00:00:00            7.0\n",
       "55  2023-02-25 00:00:00            7.0\n",
       "56  2023-02-26 00:00:00            8.0"
      ]
     },
     "execution_count": 97,
     "metadata": {},
     "output_type": "execute_result"
    }
   ],
   "source": [
    "predicter.df.iloc[-7:,:][[\"date\",\"Crimes_Z4T100\"]]"
   ]
  },
  {
   "cell_type": "code",
   "execution_count": null,
   "id": "80913224-e193-4ae4-b616-69c79b899047",
   "metadata": {},
   "outputs": [],
   "source": []
  }
 ],
 "metadata": {
  "kernelspec": {
   "display_name": "vlapd",
   "language": "python",
   "name": "vlapd"
  },
  "language_info": {
   "codemirror_mode": {
    "name": "ipython",
    "version": 3
   },
   "file_extension": ".py",
   "mimetype": "text/x-python",
   "name": "python",
   "nbconvert_exporter": "python",
   "pygments_lexer": "ipython3",
   "version": "3.10.6"
  }
 },
 "nbformat": 4,
 "nbformat_minor": 5
}
