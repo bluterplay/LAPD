{
 "cells": [
  {
   "cell_type": "markdown",
   "id": "be019fe7-8c3e-4a80-a9f1-aa14ecca9aec",
   "metadata": {},
   "source": [
    "# Modules"
   ]
  },
  {
   "cell_type": "code",
   "execution_count": 100,
   "id": "304124f4-1da9-4950-b2ea-f23a52ac4971",
   "metadata": {
    "tags": []
   },
   "outputs": [],
   "source": [
    "import missingno  as msno\n",
    "import seaborn as sns\n",
    "import matplotlib.pyplot as plt\n",
    "import warnings\n",
    "warnings.filterwarnings('ignore')"
   ]
  },
  {
   "cell_type": "markdown",
   "id": "78c0b8aa-2225-4605-a9d3-1b312d6fccff",
   "metadata": {},
   "source": [
    "## Get data"
   ]
  },
  {
   "cell_type": "code",
   "execution_count": 2,
   "id": "54842035-736e-4eb0-92e5-984f7cfd9dec",
   "metadata": {
    "tags": []
   },
   "outputs": [],
   "source": [
    "import json\n",
    "import pandas as pd\n",
    "from sodapy import Socrata\n",
    "from datetime import datetime,timedelta\n",
    "\n",
    "\n",
    "class Get_Data():\n",
    "    def __init__(self, df= pd.DataFrame()):\n",
    "        self.df= df\n",
    "    \n",
    "    def create_df(self):\n",
    "        \n",
    "        client = Socrata(\"data.lacity.org\", None)\n",
    "        results = client.get(\"2nrs-mtv8\", limit=800000)\n",
    "        results_df = pd.DataFrame.from_records(results)\n",
    "        results_df.to_csv(r'lapd.csv')\n",
    "        self.df = results_df\n",
    "    \n",
    "    \n",
    "    def create_df_n_days(self,n):\n",
    "        client = Socrata(\"data.lacity.org\", None)\n",
    "        # filtro para traer los ultimos n días\n",
    "        date_filter = (datetime.utcnow() - timedelta(days=n)).strftime(\"%Y-%m-%dT%H:%M:%S.%f\")\n",
    "        results = client.get(\"2nrs-mtv8\", where=f\"date_rptd >= '{date_filter}'\", limit=800000)\n",
    "        results_df = pd.DataFrame.from_records(results)\n",
    "        results_df.to_csv(r'lapd_'+str(n)+'_days.csv')\n",
    "        self.df = results_df       \n",
    "\n",
    "        \n",
    "    def infer_dtypes(self):\n",
    "        ls_dates=[\"date_rptd\", \"date_occ\"]\n",
    "        ls_numeric=[\"vict_age\",\"lat\", \"lon\"]\n",
    "        ls_strings=[x for x in self.df.columns if x not in ls_dates+ls_numeric]\n",
    "        for date in ls_dates:\n",
    "            self.df[date]= pd.to_datetime(self.df[date])\n",
    "        for num in ls_numeric:\n",
    "            self.df[num]= pd.to_numeric(self.df[num])\n",
    "        for s in ls_strings:\n",
    "            self.df[s].apply(lambda x: str(x).split(','))\n",
    "        self.df[\"time_occ\"]=self.df[\"time_occ\"].apply(lambda x: int(x[0:2])*60+int(x[2:]))"
   ]
  },
  {
   "cell_type": "code",
   "execution_count": 3,
   "id": "6f57646e-55ff-41f0-a632-77331f9620c1",
   "metadata": {
    "tags": []
   },
   "outputs": [],
   "source": [
    "data_loader= Get_Data()"
   ]
  },
  {
   "cell_type": "code",
   "execution_count": 7,
   "id": "4d31ce1a-2136-48fb-8fb2-5114e466fdc7",
   "metadata": {
    "tags": []
   },
   "outputs": [
    {
     "name": "stderr",
     "output_type": "stream",
     "text": [
      "WARNING:root:Requests made without an app_token will be subject to strict throttling limits.\n"
     ]
    }
   ],
   "source": [
    "data_loader.create_df_n_days(70)"
   ]
  },
  {
   "cell_type": "code",
   "execution_count": 8,
   "id": "f425515c-8e54-4c11-afa9-dc4301ac6d02",
   "metadata": {
    "tags": []
   },
   "outputs": [],
   "source": [
    "data_loader.infer_dtypes()"
   ]
  },
  {
   "cell_type": "code",
   "execution_count": 9,
   "id": "2ef10e72-64e6-489f-a0b8-a23294b75a46",
   "metadata": {
    "tags": []
   },
   "outputs": [],
   "source": [
    "data=data_loader.df"
   ]
  },
  {
   "cell_type": "markdown",
   "id": "de34c32e-8724-4f0d-b483-deec42799407",
   "metadata": {},
   "source": [
    "## Cleaner"
   ]
  },
  {
   "cell_type": "code",
   "execution_count": 69,
   "id": "199fae62-87d3-4ee3-9f43-f638e8f9c827",
   "metadata": {
    "tags": []
   },
   "outputs": [],
   "source": [
    "from pandas import DataFrame, read_excel, read_csv\n",
    "from numpy import nan\n",
    "import csv\n",
    "import pickle\n",
    "\n",
    "\n",
    "class ProductionCleaner():\n",
    "\n",
    "    def __init__(self,data):\n",
    "        self.df=data.copy()\n",
    "\n",
    "        \n",
    "    def manageNan(self):\n",
    "        # fill nan's and typos\n",
    "        #self.df.loc[self.df.vict_age==0,'vict_age']=nan\n",
    "        #self.df.loc[(self.df.vict_age<0)|(self.df.vict_age>100),'vict_age']=nan\n",
    "        self.df['weapon_used_cd'].fillna('0',inplace=True)\n",
    "        #self.df[\"premis_cd\"].fillna('746',inplace=True)\n",
    "        self.df.loc[self.df.vict_sex.isna(),'vict_sex']='X'\n",
    "        self.df.loc[self.df.vict_sex=='H','vict_sex']=='X'\n",
    "        self.df.loc[self.df.vict_descent.isna(),'vict_descent']='U'\n",
    "        self.df.loc[self.df.lon==0,['lat','lon']]=nan\n",
    "    \n",
    "    def dropColumns(self):\n",
    "        # Drop columns\n",
    "        self.df.drop(['crm_cd_1','crm_cd_2','crm_cd_3','crm_cd_4','area_name','time_occ',\n",
    "                      'crm_cd_desc','premis_desc','weapon_desc', 'status_desc','area_name',\n",
    "                      'date_occ','area','rpt_dist_no','part_1_2','mocodes', \"vict_age\"],axis=1,inplace=True)\n",
    "        try:\n",
    "            self.df.drop(self.df.loc[self.df.status=='CC'].index,inplace=True)\n",
    "        except:\n",
    "            pass\n",
    "        \n",
    "    def manageLocation(self):\n",
    "        # Delete spaces\n",
    "        self.df.location = self.df.location.str.strip()\n",
    "        self.df.location = self.df.location.apply(lambda x: \"  \".join(x.split()))\n",
    "        self.df.location = self.df.location.str.replace(\" \", \"\")\n",
    "        self.df.location = self.df.location.str.upper()\n",
    "        # Replace with dictonary values\n",
    "        directorio = read_csv('Data/Cleaner/Directorio_Lat_Lon.csv')\n",
    "        directorio.location = directorio.location.str.replace(\" \", \"\")\n",
    "        directorio.location = directorio.location.str.upper()\n",
    "        loc_lat = dict(zip(directorio.location,directorio.lat))\n",
    "        loc_lon = dict(zip(directorio.location,directorio.lon))\n",
    "    \n",
    "        # Verificar si las columnas \"lat\" o \"lon\" tienen valores faltantes\n",
    "        mask = self.df['lat'].isna() | self.df['lon'].isna()\n",
    "        # Verificar si los valores de la columna \"location\" están en las claves del diccionario \"loc_lat\"\n",
    "        not_found = ~self.df.loc[mask, 'location'].isin(loc_lat.keys())\n",
    "        self.df.loc[mask & ~not_found, 'lat'] = self.df.loc[mask & ~not_found, 'location'].map(loc_lat)\n",
    "        self.df.loc[mask & ~not_found, 'lon'] = self.df.loc[mask & ~not_found, 'location'].map(loc_lon)\n",
    "        ## Aqui duda, borramos los que no estan en el diccionario y son nulos o que sugieren?\n",
    "        self.df.drop('location',axis=1,inplace=True)\n",
    "        \n",
    "    def clean(self):\n",
    "        ## Esta funcion ya nos deja los datos sin nulos\n",
    "        self.df.drop('cross_street',axis=1,inplace=True)\n",
    "        self.manageNan()\n",
    "        self.dropColumns()\n",
    "        print(self.df.columns)\n",
    "        self.manageLocation()\n",
    "        \n",
    "    \n",
    "            \n",
    "    def clipping(self):\n",
    "        self.df['lon']=self.df['lon'].clip(-118.7, -118.1)\n",
    "        self.df['lat']=self.df['lat'].clip(33.6, 34.4)\n",
    "        \n",
    "    def lugar(self):\n",
    "        pl=[[[119,120,121,145,146.0,150.0,501.0, 502.0, 504.0,507.0, 508.0, 509.0, 510.0,511,515.0, 516.0,707],['vivienda']],\n",
    "            [[101.0, 102.0, 103.0, 104.0, 105.0, 106.0, 109.0, 110.0,116,117,\n",
    "              124.0, 125.0,128,136.0, 137.0,152,154,158,415,705.0,748.0],['calle']],\n",
    "            [[725.0, 726.0,240.0,732.0,752,753,756.0],['gobierno']],\n",
    "            [[123,142,156,204.0, 213.0],['estacionamiento']],\n",
    "            [[151.0,157.0,238,241,254,302,303,304.0, 305.0,702],['establecimiento']],\n",
    "            [[201.0, 202.0, 203.0,205.0, 206.0,208,209.0, 210.0, 211.0,217.0, 218.0,\n",
    "                                219.0, 220.0, 221.0, 222.0, 223.0, 224.0, 225.0,228,233.0,242,244.0, 245.0,\n",
    "                                247.0, 248.0, 249.0,250.0, 251.0, 252.0,255,401.0, 402.0, 404.0, 405.0,\n",
    "                                406.0, 407.0, 408.0,409.0, 410.0, 411.0, 412.0, 413.0, 414.0,417.0,703,\n",
    "                                148.0,709,301,216\n",
    "                                ],['establecimiento_publico']],\n",
    "            [[207,706.0,733.0,735.0],['nocturno']],\n",
    "            [[503,505,519.0],['hotel']],\n",
    "            [[111.0, 112.0, 113.0, 114.0, 115.0,122,126,212.0, 214.0, 215.0,801.0, 802.0,804,809.0, 810.0,\n",
    "                 811.0, 834.0, 835.0, 836.0, 868.0, 869.0, 870.0, 871.0, 872.0, 873.0,\n",
    "                 874.0, 875.0, 876.0, 877.0, 878.0, 879.0, 880.0, 882.0, 883.0, 884.0,\n",
    "                                885.0, 889.0, 890.0, 891.0, 892.0, 893.0, 894.0, 895.0, 896.0, 897.0,\n",
    "                                898.0, 900.0, 901.0, 902.0, 903.0, 904.0, 905.0, 906.0, 907.0, 908.0,\n",
    "                                909.0, 910.0, 911.0, 912.0, 913.0, 915.0, 916.0, 917.0, 918.0, 919.0,\n",
    "                                920.0, 921.0, 922.0, 931.0, 932.0, 933.0, 934.0, 935.0, 936.0, 937.0,\n",
    "                                940.0, 941.0, 942.0, 943.0, 944.0, 945.0, 946.0, 947.0, 948.0, 949.0,\n",
    "                                950.0, 951.0, 952.0, 953.0, 954.0, 956.0, 957.0, 958.0, 961.0, 962.0,\n",
    "                                963.0, 964.0, 965.0, 966.0, 967.0, 968.0, 969.0, 970.0, 971.0,129,135\n",
    "                               ],['transporte']],\n",
    "            [[138,143,727,140],['escaleras']],\n",
    "            [[139,108,147.0,712.0,713,144,714.0, 715.0, 716.0, 717.0, 718.0,711,734.0, 736.0, 737.0, 738.0, 739.0,\n",
    "                  742.0, 743.0,754,757.0, 758.0],['recreacion']],\n",
    "            [[141,149,155,745.0,107.0,118,506.0,518.0,127],['espacio_abierto']],\n",
    "            [[227.0,234.0, 235.0, 236.0, 237.0,239,246.0,253,403,701.0,719,755],['medico']],\n",
    "            [[229,601,602.0, 603.0, 604.0, 605.0, 606.0, 607.0, 608.0],['financiero']],\n",
    "            [[230.0, 512.0,514,517],['cuidado_personas']],\n",
    "            [[231.0,704.0,720.0, 721.0, 722.0, 723.0,724.0,729],['escuela']],\n",
    "            [[232.0,245.0,513,710,744.0,746.0],['otro']],\n",
    "            [[709.0, 730.0, 731.0,740],['iglesia']],\n",
    "            [[750.0, 751.0],['internet']]]\n",
    "        premis=[]\n",
    "        for secc in pl:\n",
    "            premis+=list(zip(secc[0],secc[1]*len(secc[0])))\n",
    "        premis=dict(premis)\n",
    "        self.df.premis_cd= self.df.premis_cd.astype(\"float\")\n",
    "        self.df['premis']=self.df[\"premis_cd\"].apply(lambda x: premis[x] if x in premis.keys() else \"otro\")\n",
    "    def zonas(self):\n",
    "        clusters=pickle.load(open('models/Cleaner/cluster5.sav','rb'))\n",
    "        self.df['zonas']=clusters.predict(self.df[['lat','lon']])\n",
    "    def categorias(self):\n",
    "        columnas=['weapon_used_cd','premis']\n",
    "        for col in columnas:\n",
    "            with open(\"Data/Cleaner/\"+col+\"_categorias\", \"rb\") as fp:  \n",
    "                lista = pickle.load(fp)\n",
    "            self.df[col]=self.df[col].apply(lambda x: x if x in lista else 'Others')\n",
    "    def simple_imp(self):\n",
    "        with open(\"Data/Cleaner/imputer_mode\", \"rb\") as fp:\n",
    "            imputador= pickle.load(fp)\n",
    "        self.df[['premis_cd','crm_cd','status']]=imputador.transform(self.df[['premis_cd','crm_cd','status']])\n",
    "    def super_clases(self):\n",
    "        temp=read_csv('Data/Cleaner/crcode_Supclass.csv')\n",
    "        #temp.drop('NewCode',axis=1,inplace=True)\n",
    "        self.df.crm_cd= self.df.crm_cd.astype(\"int\")\n",
    "        self.df=self.df.merge(temp, how='left', left_on='crm_cd', right_on='crm_cd')\n",
    "        self.df.drop('crm_cd',axis=1,inplace=True)\n",
    "        self.df.rename(columns = {'Superclass':'crime', 'NewCode': 'crm_cd'}, inplace = True)\n"
   ]
  },
  {
   "cell_type": "markdown",
   "id": "457b9aba-e5c2-4c85-b3f3-a71930a12136",
   "metadata": {
    "tags": []
   },
   "source": [
    "### Clean"
   ]
  },
  {
   "cell_type": "code",
   "execution_count": 70,
   "id": "e8552305-f0a2-4d8d-937d-e750a7d2d347",
   "metadata": {
    "tags": []
   },
   "outputs": [],
   "source": [
    "cleaner= ProductionCleaner(data)"
   ]
  },
  {
   "cell_type": "code",
   "execution_count": 71,
   "id": "a6199756-b9d4-4fb2-b41e-5e36a9ea6f95",
   "metadata": {
    "tags": []
   },
   "outputs": [
    {
     "name": "stdout",
     "output_type": "stream",
     "text": [
      "Index(['dr_no', 'date_rptd', 'crm_cd', 'vict_sex', 'vict_descent', 'premis_cd',\n",
      "       'status', 'location', 'lat', 'lon', 'weapon_used_cd'],\n",
      "      dtype='object')\n"
     ]
    }
   ],
   "source": [
    "cleaner.clean()"
   ]
  },
  {
   "cell_type": "code",
   "execution_count": 72,
   "id": "8d1efbe0-d7af-4d00-aa8a-3d0514a8121b",
   "metadata": {
    "tags": []
   },
   "outputs": [
    {
     "data": {
      "text/plain": [
       "<Axes: >"
      ]
     },
     "execution_count": 72,
     "metadata": {},
     "output_type": "execute_result"
    },
    {
     "data": {
      "image/png": "[encoded data removed]",
      "text/plain": [
       "<Figure size 2500x1000 with 2 Axes>"
      ]
     },
     "metadata": {},
     "output_type": "display_data"
    }
   ],
   "source": [
    "msno.matrix(data)"
   ]
  },
  {
   "cell_type": "code",
   "execution_count": 73,
   "id": "d740cd36-df4d-4cc0-9546-902a2b78117f",
   "metadata": {
    "tags": []
   },
   "outputs": [
    {
     "data": {
      "text/plain": [
       "<Axes: >"
      ]
     },
     "execution_count": 73,
     "metadata": {},
     "output_type": "execute_result"
    },
    {
     "data": {
      "image/png": "[encoded data removed]",
      "text/plain": [
       "<Figure size 2500x1000 with 2 Axes>"
      ]
     },
     "metadata": {},
     "output_type": "display_data"
    }
   ],
   "source": [
    "msno.matrix(cleaner.df)"
   ]
  },
  {
   "cell_type": "markdown",
   "id": "a23709b9-b8eb-47d2-87d7-3513c8a0e4b2",
   "metadata": {
    "tags": []
   },
   "source": [
    "### Clipping"
   ]
  },
  {
   "cell_type": "code",
   "execution_count": 74,
   "id": "4408c437-46cd-45c8-8e99-9bf8baacc511",
   "metadata": {
    "tags": []
   },
   "outputs": [],
   "source": [
    "cleaner.clipping()"
   ]
  },
  {
   "cell_type": "code",
   "execution_count": 75,
   "id": "b6436934-008f-4e58-a92f-c58326e7b657",
   "metadata": {
    "tags": []
   },
   "outputs": [
    {
     "data": {
      "text/plain": [
       "array([[<Axes: title={'center': 'date_rptd'}>,\n",
       "        <Axes: title={'center': 'date_occ'}>],\n",
       "       [<Axes: title={'center': 'time_occ'}>,\n",
       "        <Axes: title={'center': 'vict_age'}>],\n",
       "       [<Axes: title={'center': 'lat'}>, <Axes: title={'center': 'lon'}>]],\n",
       "      dtype=object)"
      ]
     },
     "execution_count": 75,
     "metadata": {},
     "output_type": "execute_result"
    },
    {
     "data": {
      "image/png": "[encoded data removed]",
      "text/plain": [
       "<Figure size 640x480 with 6 Axes>"
      ]
     },
     "metadata": {},
     "output_type": "display_data"
    }
   ],
   "source": [
    "data.hist(bins=30)"
   ]
  },
  {
   "cell_type": "code",
   "execution_count": 76,
   "id": "f44efb60-23c9-4277-8cbf-abb5007f53f0",
   "metadata": {
    "tags": []
   },
   "outputs": [
    {
     "data": {
      "text/plain": [
       "array([[<Axes: title={'center': 'date_rptd'}>,\n",
       "        <Axes: title={'center': 'lat'}>],\n",
       "       [<Axes: title={'center': 'lon'}>, <Axes: >]], dtype=object)"
      ]
     },
     "execution_count": 76,
     "metadata": {},
     "output_type": "execute_result"
    },
    {
     "data": {
      "image/png": "[encoded data removed]",
      "text/plain": [
       "<Figure size 640x480 with 4 Axes>"
      ]
     },
     "metadata": {},
     "output_type": "display_data"
    }
   ],
   "source": [
    "cleaner.df.hist(bins=30)"
   ]
  },
  {
   "cell_type": "markdown",
   "id": "b2f5d177-f7b9-4540-a54b-b1156b5f3b52",
   "metadata": {},
   "source": [
    "### Imputación"
   ]
  },
  {
   "cell_type": "code",
   "execution_count": 77,
   "id": "0dc56a59-188f-457e-9983-6535a1428e03",
   "metadata": {
    "tags": []
   },
   "outputs": [],
   "source": [
    "cleaner.simple_imp()"
   ]
  },
  {
   "cell_type": "code",
   "execution_count": 78,
   "id": "b9da89cc-34a7-4c3d-8daa-aab4c18bb7ce",
   "metadata": {
    "tags": []
   },
   "outputs": [
    {
     "data": {
      "text/plain": [
       "dr_no             0.0\n",
       "date_rptd         0.0\n",
       "crm_cd            0.0\n",
       "vict_sex          0.0\n",
       "vict_descent      0.0\n",
       "premis_cd         0.0\n",
       "status            0.0\n",
       "lat               0.0\n",
       "lon               0.0\n",
       "weapon_used_cd    0.0\n",
       "dtype: float64"
      ]
     },
     "execution_count": 78,
     "metadata": {},
     "output_type": "execute_result"
    }
   ],
   "source": [
    "cleaner.df.isna().mean()"
   ]
  },
  {
   "cell_type": "markdown",
   "id": "fe96928f-b5a8-484a-8db0-3b5c756d285a",
   "metadata": {},
   "source": [
    "### Lugar"
   ]
  },
  {
   "cell_type": "code",
   "execution_count": 79,
   "id": "bc5065fd-cc6b-4a22-8c71-d00ce9138cfd",
   "metadata": {
    "tags": []
   },
   "outputs": [],
   "source": [
    "cleaner.lugar()"
   ]
  },
  {
   "cell_type": "code",
   "execution_count": 80,
   "id": "a331f42a-5310-4a74-b33a-ea2b2dd995b6",
   "metadata": {
    "tags": []
   },
   "outputs": [
    {
     "data": {
      "text/plain": [
       "<Axes: xlabel='premis_cd', ylabel='count'>"
      ]
     },
     "execution_count": 80,
     "metadata": {},
     "output_type": "execute_result"
    },
    {
     "data": {
      "image/png": "[encoded data removed]",
      "text/plain": [
       "<Figure size 640x480 with 1 Axes>"
      ]
     },
     "metadata": {},
     "output_type": "display_data"
    }
   ],
   "source": [
    "sns.countplot(data, x=\"premis_cd\")"
   ]
  },
  {
   "cell_type": "code",
   "execution_count": 49,
   "id": "98ce3d16-3091-4763-b98e-e173bcea67f5",
   "metadata": {
    "tags": []
   },
   "outputs": [
    {
     "data": {
      "text/plain": [
       "<module 'matplotlib.pyplot' from '/home/bluterplay/jupyter/vlapd/lib/python3.10/site-packages/matplotlib/pyplot.py'>"
      ]
     },
     "execution_count": 49,
     "metadata": {},
     "output_type": "execute_result"
    },
    {
     "data": {
      "image/png": "[encoded data removed]",
      "text/plain": [
       "<Figure size 640x480 with 1 Axes>"
      ]
     },
     "metadata": {},
     "output_type": "display_data"
    }
   ],
   "source": [
    "g=sns.countplot(cleaner.df,x=\"premis\")\n",
    "g.set_xticklabels(g.get_xticklabels(),rotation=90)\n",
    "plt"
   ]
  },
  {
   "cell_type": "markdown",
   "id": "bd86a4d0-ab99-47bb-aca6-ab109a9c8604",
   "metadata": {},
   "source": [
    "### Zonas"
   ]
  },
  {
   "cell_type": "code",
   "execution_count": 81,
   "id": "9b9dca67-c261-4bbf-ae2b-eb8ea30fb894",
   "metadata": {
    "tags": []
   },
   "outputs": [],
   "source": [
    "cleaner.zonas()"
   ]
  },
  {
   "cell_type": "code",
   "execution_count": 82,
   "id": "4f9b0af3-1977-4f1c-93b8-6771a7ff3b4d",
   "metadata": {
    "tags": []
   },
   "outputs": [
    {
     "data": {
      "text/plain": [
       "0    0.489316\n",
       "1    0.176394\n",
       "3    0.175143\n",
       "2    0.116876\n",
       "4    0.042271\n",
       "Name: zonas, dtype: float64"
      ]
     },
     "execution_count": 82,
     "metadata": {},
     "output_type": "execute_result"
    }
   ],
   "source": [
    "cleaner.df[\"zonas\"].value_counts()/len(cleaner.df)"
   ]
  },
  {
   "cell_type": "markdown",
   "id": "861b1b8a-763b-4d78-b402-cb7204157ef6",
   "metadata": {},
   "source": [
    "### Categoricas"
   ]
  },
  {
   "cell_type": "code",
   "execution_count": 83,
   "id": "ba0a8d08-fe1e-4faf-b2cd-a22a1150978c",
   "metadata": {
    "tags": []
   },
   "outputs": [],
   "source": [
    "cleaner.categorias()"
   ]
  },
  {
   "cell_type": "code",
   "execution_count": 84,
   "id": "f257dacd-cdeb-4c76-a555-0db37c60d6a4",
   "metadata": {
    "tags": []
   },
   "outputs": [
    {
     "data": {
      "text/plain": [
       "vivienda                   0.346189\n",
       "calle                      0.311155\n",
       "establecimiento_publico    0.140109\n",
       "Others                     0.079414\n",
       "recreacion                 0.071441\n",
       "transporte                 0.051692\n",
       "Name: premis, dtype: float64"
      ]
     },
     "execution_count": 84,
     "metadata": {},
     "output_type": "execute_result"
    }
   ],
   "source": [
    "cleaner.df[\"premis\"].value_counts()/len(cleaner.df)"
   ]
  },
  {
   "cell_type": "markdown",
   "id": "80c69dce-7a2a-4369-bedc-d6c4d440ce79",
   "metadata": {},
   "source": [
    "### Super clases"
   ]
  },
  {
   "cell_type": "code",
   "execution_count": 85,
   "id": "a97af935-a2ae-4912-8162-182825b70c76",
   "metadata": {
    "tags": []
   },
   "outputs": [],
   "source": [
    "cleaner.super_clases()"
   ]
  },
  {
   "cell_type": "code",
   "execution_count": 86,
   "id": "2dd99868-aa04-431a-8a4a-bb4d5214ba4b",
   "metadata": {
    "tags": []
   },
   "outputs": [
    {
     "data": {
      "text/html": [
       "<div>\n",
       "<style scoped>\n",
       "    .dataframe tbody tr th:only-of-type {\n",
       "        vertical-align: middle;\n",
       "    }\n",
       "\n",
       "    .dataframe tbody tr th {\n",
       "        vertical-align: top;\n",
       "    }\n",
       "\n",
       "    .dataframe thead th {\n",
       "        text-align: right;\n",
       "    }\n",
       "</style>\n",
       "<table border=\"1\" class=\"dataframe\">\n",
       "  <thead>\n",
       "    <tr style=\"text-align: right;\">\n",
       "      <th></th>\n",
       "      <th>dr_no</th>\n",
       "      <th>date_rptd</th>\n",
       "      <th>vict_sex</th>\n",
       "      <th>vict_descent</th>\n",
       "      <th>premis_cd</th>\n",
       "      <th>status</th>\n",
       "      <th>lat</th>\n",
       "      <th>lon</th>\n",
       "      <th>weapon_used_cd</th>\n",
       "      <th>premis</th>\n",
       "      <th>zonas</th>\n",
       "      <th>crime</th>\n",
       "      <th>crm_cd</th>\n",
       "    </tr>\n",
       "  </thead>\n",
       "  <tbody>\n",
       "    <tr>\n",
       "      <th>0</th>\n",
       "      <td>232006471</td>\n",
       "      <td>2023-02-24</td>\n",
       "      <td>F</td>\n",
       "      <td>O</td>\n",
       "      <td>719.0</td>\n",
       "      <td>IC</td>\n",
       "      <td>34.0628</td>\n",
       "      <td>-118.2917</td>\n",
       "      <td>0</td>\n",
       "      <td>Others</td>\n",
       "      <td>0</td>\n",
       "      <td>Robo</td>\n",
       "      <td>103</td>\n",
       "    </tr>\n",
       "    <tr>\n",
       "      <th>1</th>\n",
       "      <td>231208405</td>\n",
       "      <td>2023-02-24</td>\n",
       "      <td>F</td>\n",
       "      <td>B</td>\n",
       "      <td>501.0</td>\n",
       "      <td>IC</td>\n",
       "      <td>33.9618</td>\n",
       "      <td>-118.3025</td>\n",
       "      <td>0</td>\n",
       "      <td>vivienda</td>\n",
       "      <td>0</td>\n",
       "      <td>Falta a la ley</td>\n",
       "      <td>102</td>\n",
       "    </tr>\n",
       "    <tr>\n",
       "      <th>2</th>\n",
       "      <td>230606306</td>\n",
       "      <td>2023-02-24</td>\n",
       "      <td>F</td>\n",
       "      <td>W</td>\n",
       "      <td>501.0</td>\n",
       "      <td>IC</td>\n",
       "      <td>34.1162</td>\n",
       "      <td>-118.3738</td>\n",
       "      <td>0</td>\n",
       "      <td>vivienda</td>\n",
       "      <td>3</td>\n",
       "      <td>Falta a la ley</td>\n",
       "      <td>102</td>\n",
       "    </tr>\n",
       "    <tr>\n",
       "      <th>3</th>\n",
       "      <td>231605764</td>\n",
       "      <td>2023-02-24</td>\n",
       "      <td>M</td>\n",
       "      <td>H</td>\n",
       "      <td>502.0</td>\n",
       "      <td>IC</td>\n",
       "      <td>34.2166</td>\n",
       "      <td>-118.3919</td>\n",
       "      <td>0</td>\n",
       "      <td>vivienda</td>\n",
       "      <td>1</td>\n",
       "      <td>Falta a la ley</td>\n",
       "      <td>102</td>\n",
       "    </tr>\n",
       "    <tr>\n",
       "      <th>4</th>\n",
       "      <td>230906092</td>\n",
       "      <td>2023-02-24</td>\n",
       "      <td>M</td>\n",
       "      <td>W</td>\n",
       "      <td>501.0</td>\n",
       "      <td>IC</td>\n",
       "      <td>34.1649</td>\n",
       "      <td>-118.4225</td>\n",
       "      <td>0</td>\n",
       "      <td>vivienda</td>\n",
       "      <td>1</td>\n",
       "      <td>Robo</td>\n",
       "      <td>103</td>\n",
       "    </tr>\n",
       "  </tbody>\n",
       "</table>\n",
       "</div>"
      ],
      "text/plain": [
       "       dr_no  date_rptd vict_sex vict_descent  premis_cd status      lat  \\\n",
       "0  232006471 2023-02-24        F            O      719.0     IC  34.0628   \n",
       "1  231208405 2023-02-24        F            B      501.0     IC  33.9618   \n",
       "2  230606306 2023-02-24        F            W      501.0     IC  34.1162   \n",
       "3  231605764 2023-02-24        M            H      502.0     IC  34.2166   \n",
       "4  230906092 2023-02-24        M            W      501.0     IC  34.1649   \n",
       "\n",
       "        lon weapon_used_cd    premis  zonas           crime  crm_cd  \n",
       "0 -118.2917              0    Others      0            Robo     103  \n",
       "1 -118.3025              0  vivienda      0  Falta a la ley     102  \n",
       "2 -118.3738              0  vivienda      3  Falta a la ley     102  \n",
       "3 -118.3919              0  vivienda      1  Falta a la ley     102  \n",
       "4 -118.4225              0  vivienda      1            Robo     103  "
      ]
     },
     "execution_count": 86,
     "metadata": {},
     "output_type": "execute_result"
    }
   ],
   "source": [
    "cleaner.df.head()"
   ]
  },
  {
   "cell_type": "markdown",
   "id": "2cd72c8f-3784-4c8f-9519-c929dc37fcde",
   "metadata": {},
   "source": [
    "## Cubo"
   ]
  },
  {
   "cell_type": "code",
   "execution_count": 95,
   "id": "adfde279-2324-449f-b52e-341c3db6bc60",
   "metadata": {
    "tags": []
   },
   "outputs": [],
   "source": [
    "from datetime import datetime\n",
    "from pandas import date_range, read_csv, DataFrame\n",
    "from statsmodels.tsa.api import SimpleExpSmoothing\n",
    "\n",
    "class CubeCrimesGenerator():\n",
    "    \n",
    "    def __init__(self,df):\n",
    "        self.df = df.copy()\n",
    "        data= self.df.copy()\n",
    "        data[\"Date\"]=data[\"date_rptd\"]\n",
    "        self.start= str(data[\"Date\"].min())\n",
    "        self.end= str(data[\"Date\"].max())\n",
    "        self.ls_dfs=[]\n",
    "    \n",
    "    def checkDates(self,data,zone,crimeType):\n",
    "        data[\"Date\"]=data[\"date_rptd\"]\n",
    "        date_index = date_range(start=self.start, end=self.end, freq=\"D\")\n",
    "        data = data.set_index(\"Date\").reindex(date_index)\n",
    "        data.drop(columns=[\"date_rptd\"], inplace=True)\n",
    "        field = \"Crimes_Z\"+str(zone)+\"T\"+str(crimeType)\n",
    "        data.rename(columns={0: field}, inplace= True)\n",
    "        data[field]= data[field].fillna(0)\n",
    "        return data\n",
    "    \n",
    "    \n",
    "    def generateDataframes(self):\n",
    "        ls_dfs= []\n",
    "        for zone in range(5):\n",
    "            test = self.df[self.df['zonas']==zone].copy()\n",
    "            for crime in range(100,105):\n",
    "                test2 = test[test['crm_cd']==crime].copy()\n",
    "                temp =test2.groupby('date_rptd').size().copy()\n",
    "                temp= temp.to_frame()\n",
    "                temp= temp.reset_index()\n",
    "                data= self.checkDates(temp,zone,crime)\n",
    "                self.ls_dfs.append(data)\n",
    "                \n",
    "    def generateCube(self):\n",
    "        self.generateDataframes()\n",
    "        df_final= self.ls_dfs[0]\n",
    "\n",
    "        for i in range(1, len(self.ls_dfs)):\n",
    "            column= self.ls_dfs[i].columns[0]\n",
    "            df_final[column]= list(self.ls_dfs[i][column])\n",
    "            \n",
    "        return df_final"
   ]
  },
  {
   "cell_type": "code",
   "execution_count": 92,
   "id": "732d42e3-43ba-4e1c-a757-a7a64cd136e7",
   "metadata": {},
   "outputs": [],
   "source": [
    "cubo= CubeCrimesGenerator(cleaner.df)"
   ]
  },
  {
   "cell_type": "code",
   "execution_count": 93,
   "id": "1e895bbe-fa6f-4d89-ba64-74604f475715",
   "metadata": {},
   "outputs": [],
   "source": [
    "df_cubo=cubo.generateCube()"
   ]
  },
  {
   "cell_type": "code",
   "execution_count": 94,
   "id": "6e82db4c-456d-4011-ad44-6d134fb8ee9c",
   "metadata": {
    "tags": []
   },
   "outputs": [
    {
     "data": {
      "text/html": [
       "<div>\n",
       "<style scoped>\n",
       "    .dataframe tbody tr th:only-of-type {\n",
       "        vertical-align: middle;\n",
       "    }\n",
       "\n",
       "    .dataframe tbody tr th {\n",
       "        vertical-align: top;\n",
       "    }\n",
       "\n",
       "    .dataframe thead th {\n",
       "        text-align: right;\n",
       "    }\n",
       "</style>\n",
       "<table border=\"1\" class=\"dataframe\">\n",
       "  <thead>\n",
       "    <tr style=\"text-align: right;\">\n",
       "      <th></th>\n",
       "      <th>Crimes_Z0T100</th>\n",
       "      <th>Crimes_Z0T101</th>\n",
       "      <th>Crimes_Z0T102</th>\n",
       "      <th>Crimes_Z0T103</th>\n",
       "      <th>Crimes_Z0T104</th>\n",
       "      <th>Crimes_Z1T100</th>\n",
       "      <th>Crimes_Z1T101</th>\n",
       "      <th>Crimes_Z1T102</th>\n",
       "      <th>Crimes_Z1T103</th>\n",
       "      <th>Crimes_Z1T104</th>\n",
       "      <th>...</th>\n",
       "      <th>Crimes_Z3T100</th>\n",
       "      <th>Crimes_Z3T101</th>\n",
       "      <th>Crimes_Z3T102</th>\n",
       "      <th>Crimes_Z3T103</th>\n",
       "      <th>Crimes_Z3T104</th>\n",
       "      <th>Crimes_Z4T100</th>\n",
       "      <th>Crimes_Z4T101</th>\n",
       "      <th>Crimes_Z4T102</th>\n",
       "      <th>Crimes_Z4T103</th>\n",
       "      <th>Crimes_Z4T104</th>\n",
       "    </tr>\n",
       "  </thead>\n",
       "  <tbody>\n",
       "    <tr>\n",
       "      <th>2023-02-24</th>\n",
       "      <td>50</td>\n",
       "      <td>34</td>\n",
       "      <td>18</td>\n",
       "      <td>70</td>\n",
       "      <td>92</td>\n",
       "      <td>12</td>\n",
       "      <td>9</td>\n",
       "      <td>2.0</td>\n",
       "      <td>25</td>\n",
       "      <td>32</td>\n",
       "      <td>...</td>\n",
       "      <td>11</td>\n",
       "      <td>10</td>\n",
       "      <td>8</td>\n",
       "      <td>37</td>\n",
       "      <td>35</td>\n",
       "      <td>2</td>\n",
       "      <td>3.0</td>\n",
       "      <td>2.0</td>\n",
       "      <td>10.0</td>\n",
       "      <td>14</td>\n",
       "    </tr>\n",
       "    <tr>\n",
       "      <th>2023-02-25</th>\n",
       "      <td>54</td>\n",
       "      <td>37</td>\n",
       "      <td>9</td>\n",
       "      <td>62</td>\n",
       "      <td>81</td>\n",
       "      <td>8</td>\n",
       "      <td>3</td>\n",
       "      <td>1.0</td>\n",
       "      <td>7</td>\n",
       "      <td>19</td>\n",
       "      <td>...</td>\n",
       "      <td>11</td>\n",
       "      <td>2</td>\n",
       "      <td>3</td>\n",
       "      <td>24</td>\n",
       "      <td>28</td>\n",
       "      <td>8</td>\n",
       "      <td>2.0</td>\n",
       "      <td>1.0</td>\n",
       "      <td>3.0</td>\n",
       "      <td>4</td>\n",
       "    </tr>\n",
       "    <tr>\n",
       "      <th>2023-02-26</th>\n",
       "      <td>52</td>\n",
       "      <td>41</td>\n",
       "      <td>10</td>\n",
       "      <td>50</td>\n",
       "      <td>89</td>\n",
       "      <td>25</td>\n",
       "      <td>15</td>\n",
       "      <td>13.0</td>\n",
       "      <td>27</td>\n",
       "      <td>47</td>\n",
       "      <td>...</td>\n",
       "      <td>14</td>\n",
       "      <td>8</td>\n",
       "      <td>5</td>\n",
       "      <td>33</td>\n",
       "      <td>34</td>\n",
       "      <td>9</td>\n",
       "      <td>4.0</td>\n",
       "      <td>1.0</td>\n",
       "      <td>2.0</td>\n",
       "      <td>12</td>\n",
       "    </tr>\n",
       "    <tr>\n",
       "      <th>2023-02-27</th>\n",
       "      <td>59</td>\n",
       "      <td>44</td>\n",
       "      <td>19</td>\n",
       "      <td>99</td>\n",
       "      <td>118</td>\n",
       "      <td>19</td>\n",
       "      <td>13</td>\n",
       "      <td>17.0</td>\n",
       "      <td>31</td>\n",
       "      <td>42</td>\n",
       "      <td>...</td>\n",
       "      <td>25</td>\n",
       "      <td>25</td>\n",
       "      <td>11</td>\n",
       "      <td>31</td>\n",
       "      <td>41</td>\n",
       "      <td>5</td>\n",
       "      <td>3.0</td>\n",
       "      <td>2.0</td>\n",
       "      <td>6.0</td>\n",
       "      <td>13</td>\n",
       "    </tr>\n",
       "    <tr>\n",
       "      <th>2023-02-28</th>\n",
       "      <td>75</td>\n",
       "      <td>40</td>\n",
       "      <td>19</td>\n",
       "      <td>61</td>\n",
       "      <td>87</td>\n",
       "      <td>28</td>\n",
       "      <td>20</td>\n",
       "      <td>11.0</td>\n",
       "      <td>25</td>\n",
       "      <td>36</td>\n",
       "      <td>...</td>\n",
       "      <td>8</td>\n",
       "      <td>15</td>\n",
       "      <td>11</td>\n",
       "      <td>40</td>\n",
       "      <td>41</td>\n",
       "      <td>17</td>\n",
       "      <td>6.0</td>\n",
       "      <td>3.0</td>\n",
       "      <td>4.0</td>\n",
       "      <td>11</td>\n",
       "    </tr>\n",
       "    <tr>\n",
       "      <th>...</th>\n",
       "      <td>...</td>\n",
       "      <td>...</td>\n",
       "      <td>...</td>\n",
       "      <td>...</td>\n",
       "      <td>...</td>\n",
       "      <td>...</td>\n",
       "      <td>...</td>\n",
       "      <td>...</td>\n",
       "      <td>...</td>\n",
       "      <td>...</td>\n",
       "      <td>...</td>\n",
       "      <td>...</td>\n",
       "      <td>...</td>\n",
       "      <td>...</td>\n",
       "      <td>...</td>\n",
       "      <td>...</td>\n",
       "      <td>...</td>\n",
       "      <td>...</td>\n",
       "      <td>...</td>\n",
       "      <td>...</td>\n",
       "      <td>...</td>\n",
       "    </tr>\n",
       "    <tr>\n",
       "      <th>2023-04-27</th>\n",
       "      <td>74</td>\n",
       "      <td>60</td>\n",
       "      <td>20</td>\n",
       "      <td>71</td>\n",
       "      <td>110</td>\n",
       "      <td>27</td>\n",
       "      <td>11</td>\n",
       "      <td>9.0</td>\n",
       "      <td>18</td>\n",
       "      <td>34</td>\n",
       "      <td>...</td>\n",
       "      <td>11</td>\n",
       "      <td>8</td>\n",
       "      <td>6</td>\n",
       "      <td>28</td>\n",
       "      <td>28</td>\n",
       "      <td>4</td>\n",
       "      <td>1.0</td>\n",
       "      <td>0.0</td>\n",
       "      <td>2.0</td>\n",
       "      <td>10</td>\n",
       "    </tr>\n",
       "    <tr>\n",
       "      <th>2023-04-28</th>\n",
       "      <td>52</td>\n",
       "      <td>34</td>\n",
       "      <td>16</td>\n",
       "      <td>58</td>\n",
       "      <td>106</td>\n",
       "      <td>21</td>\n",
       "      <td>9</td>\n",
       "      <td>8.0</td>\n",
       "      <td>33</td>\n",
       "      <td>38</td>\n",
       "      <td>...</td>\n",
       "      <td>13</td>\n",
       "      <td>20</td>\n",
       "      <td>6</td>\n",
       "      <td>34</td>\n",
       "      <td>31</td>\n",
       "      <td>7</td>\n",
       "      <td>3.0</td>\n",
       "      <td>1.0</td>\n",
       "      <td>7.0</td>\n",
       "      <td>11</td>\n",
       "    </tr>\n",
       "    <tr>\n",
       "      <th>2023-04-29</th>\n",
       "      <td>73</td>\n",
       "      <td>45</td>\n",
       "      <td>11</td>\n",
       "      <td>55</td>\n",
       "      <td>94</td>\n",
       "      <td>20</td>\n",
       "      <td>17</td>\n",
       "      <td>2.0</td>\n",
       "      <td>30</td>\n",
       "      <td>31</td>\n",
       "      <td>...</td>\n",
       "      <td>25</td>\n",
       "      <td>9</td>\n",
       "      <td>5</td>\n",
       "      <td>28</td>\n",
       "      <td>28</td>\n",
       "      <td>3</td>\n",
       "      <td>3.0</td>\n",
       "      <td>1.0</td>\n",
       "      <td>3.0</td>\n",
       "      <td>6</td>\n",
       "    </tr>\n",
       "    <tr>\n",
       "      <th>2023-04-30</th>\n",
       "      <td>69</td>\n",
       "      <td>41</td>\n",
       "      <td>7</td>\n",
       "      <td>54</td>\n",
       "      <td>75</td>\n",
       "      <td>21</td>\n",
       "      <td>9</td>\n",
       "      <td>3.0</td>\n",
       "      <td>11</td>\n",
       "      <td>22</td>\n",
       "      <td>...</td>\n",
       "      <td>19</td>\n",
       "      <td>15</td>\n",
       "      <td>1</td>\n",
       "      <td>24</td>\n",
       "      <td>23</td>\n",
       "      <td>7</td>\n",
       "      <td>3.0</td>\n",
       "      <td>1.0</td>\n",
       "      <td>2.0</td>\n",
       "      <td>8</td>\n",
       "    </tr>\n",
       "    <tr>\n",
       "      <th>2023-05-01</th>\n",
       "      <td>40</td>\n",
       "      <td>32</td>\n",
       "      <td>12</td>\n",
       "      <td>37</td>\n",
       "      <td>91</td>\n",
       "      <td>20</td>\n",
       "      <td>7</td>\n",
       "      <td>12.0</td>\n",
       "      <td>13</td>\n",
       "      <td>32</td>\n",
       "      <td>...</td>\n",
       "      <td>7</td>\n",
       "      <td>3</td>\n",
       "      <td>2</td>\n",
       "      <td>16</td>\n",
       "      <td>30</td>\n",
       "      <td>6</td>\n",
       "      <td>1.0</td>\n",
       "      <td>0.0</td>\n",
       "      <td>2.0</td>\n",
       "      <td>7</td>\n",
       "    </tr>\n",
       "  </tbody>\n",
       "</table>\n",
       "<p>67 rows × 25 columns</p>\n",
       "</div>"
      ],
      "text/plain": [
       "            Crimes_Z0T100  Crimes_Z0T101  Crimes_Z0T102  Crimes_Z0T103  \\\n",
       "2023-02-24             50             34             18             70   \n",
       "2023-02-25             54             37              9             62   \n",
       "2023-02-26             52             41             10             50   \n",
       "2023-02-27             59             44             19             99   \n",
       "2023-02-28             75             40             19             61   \n",
       "...                   ...            ...            ...            ...   \n",
       "2023-04-27             74             60             20             71   \n",
       "2023-04-28             52             34             16             58   \n",
       "2023-04-29             73             45             11             55   \n",
       "2023-04-30             69             41              7             54   \n",
       "2023-05-01             40             32             12             37   \n",
       "\n",
       "            Crimes_Z0T104  Crimes_Z1T100  Crimes_Z1T101  Crimes_Z1T102  \\\n",
       "2023-02-24             92             12              9            2.0   \n",
       "2023-02-25             81              8              3            1.0   \n",
       "2023-02-26             89             25             15           13.0   \n",
       "2023-02-27            118             19             13           17.0   \n",
       "2023-02-28             87             28             20           11.0   \n",
       "...                   ...            ...            ...            ...   \n",
       "2023-04-27            110             27             11            9.0   \n",
       "2023-04-28            106             21              9            8.0   \n",
       "2023-04-29             94             20             17            2.0   \n",
       "2023-04-30             75             21              9            3.0   \n",
       "2023-05-01             91             20              7           12.0   \n",
       "\n",
       "            Crimes_Z1T103  Crimes_Z1T104  ...  Crimes_Z3T100  Crimes_Z3T101  \\\n",
       "2023-02-24             25             32  ...             11             10   \n",
       "2023-02-25              7             19  ...             11              2   \n",
       "2023-02-26             27             47  ...             14              8   \n",
       "2023-02-27             31             42  ...             25             25   \n",
       "2023-02-28             25             36  ...              8             15   \n",
       "...                   ...            ...  ...            ...            ...   \n",
       "2023-04-27             18             34  ...             11              8   \n",
       "2023-04-28             33             38  ...             13             20   \n",
       "2023-04-29             30             31  ...             25              9   \n",
       "2023-04-30             11             22  ...             19             15   \n",
       "2023-05-01             13             32  ...              7              3   \n",
       "\n",
       "            Crimes_Z3T102  Crimes_Z3T103  Crimes_Z3T104  Crimes_Z4T100  \\\n",
       "2023-02-24              8             37             35              2   \n",
       "2023-02-25              3             24             28              8   \n",
       "2023-02-26              5             33             34              9   \n",
       "2023-02-27             11             31             41              5   \n",
       "2023-02-28             11             40             41             17   \n",
       "...                   ...            ...            ...            ...   \n",
       "2023-04-27              6             28             28              4   \n",
       "2023-04-28              6             34             31              7   \n",
       "2023-04-29              5             28             28              3   \n",
       "2023-04-30              1             24             23              7   \n",
       "2023-05-01              2             16             30              6   \n",
       "\n",
       "            Crimes_Z4T101  Crimes_Z4T102  Crimes_Z4T103  Crimes_Z4T104  \n",
       "2023-02-24            3.0            2.0           10.0             14  \n",
       "2023-02-25            2.0            1.0            3.0              4  \n",
       "2023-02-26            4.0            1.0            2.0             12  \n",
       "2023-02-27            3.0            2.0            6.0             13  \n",
       "2023-02-28            6.0            3.0            4.0             11  \n",
       "...                   ...            ...            ...            ...  \n",
       "2023-04-27            1.0            0.0            2.0             10  \n",
       "2023-04-28            3.0            1.0            7.0             11  \n",
       "2023-04-29            3.0            1.0            3.0              6  \n",
       "2023-04-30            3.0            1.0            2.0              8  \n",
       "2023-05-01            1.0            0.0            2.0              7  \n",
       "\n",
       "[67 rows x 25 columns]"
      ]
     },
     "execution_count": 94,
     "metadata": {},
     "output_type": "execute_result"
    }
   ],
   "source": [
    "df_cubo"
   ]
  },
  {
   "cell_type": "markdown",
   "id": "6c042653-c384-44ff-bc73-56188e8f6115",
   "metadata": {},
   "source": [
    "## Feature engineering"
   ]
  },
  {
   "cell_type": "code",
   "execution_count": 147,
   "id": "b4b95dcb-c5db-453f-bfd7-8b57445503a4",
   "metadata": {},
   "outputs": [],
   "source": [
    "class FeatureEngineering():\n",
    "    \n",
    "    def __init__(self,df):\n",
    "        self.df= df\n",
    "        self.temp= DataFrame()\n",
    "        \n",
    "    def createLags(self,column):\n",
    "        temp= self.df[[column]]\n",
    "        for i in range(1,34):\n",
    "            temp[column+\"_\"+str(i)] = temp[column].shift(i)\n",
    "        self.temp=temp\n",
    "    \n",
    "    def smoothing(self, column):\n",
    "        for i in range(2,10,1):\n",
    "            j=i/10\n",
    "            fit1 = SimpleExpSmoothing(self.temp[column], initialization_method=\"heuristic\").fit(smoothing_level=j, optimized=False)\n",
    "            lista=fit1.fittedvalues\n",
    "            self.temp['exp'+str(j)]=lista\n",
    "            \n",
    "    def createMA(self,column):\n",
    "        for i in range(10,50,10):\n",
    "            self.temp[\"MA\"+str(i)]= self.temp[column].rolling(window =i).mean()\n",
    "    \n",
    "    def scalerData(self,column,sc,sc2):\n",
    "        X,y=self.temp.drop([column],axis=1).to_numpy(),self.temp[[column]].to_numpy(),\n",
    "\n",
    "        X=sc.transform(X)\n",
    "        y=sc2.transform(y)\n",
    "\n",
    "\n",
    "        X= X.reshape(X.shape[0], 1, X.shape[1])\n",
    "        return X, y\n",
    "    \n",
    "    def createVariables(self,column):\n",
    "        self.createLags(column)\n",
    "        self.smoothing(column)\n",
    "        self.createMA(column)\n",
    "        self.temp.dropna(inplace=True)\n",
    "        zone=colummn[8]\n",
    "        crime=colummn[10:]\n",
    "        scx_file=\"models/FeatureEngineer/Scalers/sc_x_\"+crime+\"_\"+zone+\".pkl\"\n",
    "        scy_file=\"models/FeatureEngineer/Scalers/sc_y_\"+crime+\"_\"+zone+\".pkl\"\n",
    "        with open(scx_file, \"rb\") as fp:\n",
    "            sc= pickle.load(fp)\n",
    "        with open(scy_file, \"rb\") as fp:\n",
    "            sc2= pickle.load(fp)\n",
    "        return self.scalerData(colummn,sc,sc2)"
   ]
  },
  {
   "cell_type": "markdown",
   "id": "a31d0a6f-7730-43ac-b1de-671a6d1a3dac",
   "metadata": {},
   "source": [
    "### Create lags"
   ]
  },
  {
   "cell_type": "code",
   "execution_count": 133,
   "id": "14e82fec-fd88-43a4-8229-d8fe9181c226",
   "metadata": {
    "tags": []
   },
   "outputs": [],
   "source": [
    "feature= FeatureEngineering(df_cubo)"
   ]
  },
  {
   "cell_type": "code",
   "execution_count": 134,
   "id": "7ba1038b-e476-4bee-9d4a-a267584f26f2",
   "metadata": {
    "tags": []
   },
   "outputs": [],
   "source": [
    "column=\"Crimes_Z0T100\""
   ]
  },
  {
   "cell_type": "code",
   "execution_count": 135,
   "id": "82d747a7-9fd8-45ee-8985-92e2141b24f5",
   "metadata": {
    "tags": []
   },
   "outputs": [],
   "source": [
    "feature.createLags(column)"
   ]
  },
  {
   "cell_type": "code",
   "execution_count": 136,
   "id": "e7b2919f-2a5f-4c8b-8761-927ec7ecf2a6",
   "metadata": {
    "tags": []
   },
   "outputs": [
    {
     "data": {
      "text/html": [
       "<div>\n",
       "<style scoped>\n",
       "    .dataframe tbody tr th:only-of-type {\n",
       "        vertical-align: middle;\n",
       "    }\n",
       "\n",
       "    .dataframe tbody tr th {\n",
       "        vertical-align: top;\n",
       "    }\n",
       "\n",
       "    .dataframe thead th {\n",
       "        text-align: right;\n",
       "    }\n",
       "</style>\n",
       "<table border=\"1\" class=\"dataframe\">\n",
       "  <thead>\n",
       "    <tr style=\"text-align: right;\">\n",
       "      <th></th>\n",
       "      <th>Crimes_Z0T100</th>\n",
       "      <th>Crimes_Z0T100_1</th>\n",
       "      <th>Crimes_Z0T100_2</th>\n",
       "      <th>Crimes_Z0T100_3</th>\n",
       "      <th>Crimes_Z0T100_4</th>\n",
       "      <th>Crimes_Z0T100_5</th>\n",
       "      <th>Crimes_Z0T100_6</th>\n",
       "      <th>Crimes_Z0T100_7</th>\n",
       "      <th>Crimes_Z0T100_8</th>\n",
       "      <th>Crimes_Z0T100_9</th>\n",
       "      <th>...</th>\n",
       "      <th>Crimes_Z0T100_24</th>\n",
       "      <th>Crimes_Z0T100_25</th>\n",
       "      <th>Crimes_Z0T100_26</th>\n",
       "      <th>Crimes_Z0T100_27</th>\n",
       "      <th>Crimes_Z0T100_28</th>\n",
       "      <th>Crimes_Z0T100_29</th>\n",
       "      <th>Crimes_Z0T100_30</th>\n",
       "      <th>Crimes_Z0T100_31</th>\n",
       "      <th>Crimes_Z0T100_32</th>\n",
       "      <th>Crimes_Z0T100_33</th>\n",
       "    </tr>\n",
       "  </thead>\n",
       "  <tbody>\n",
       "    <tr>\n",
       "      <th>2023-02-24</th>\n",
       "      <td>50</td>\n",
       "      <td>NaN</td>\n",
       "      <td>NaN</td>\n",
       "      <td>NaN</td>\n",
       "      <td>NaN</td>\n",
       "      <td>NaN</td>\n",
       "      <td>NaN</td>\n",
       "      <td>NaN</td>\n",
       "      <td>NaN</td>\n",
       "      <td>NaN</td>\n",
       "      <td>...</td>\n",
       "      <td>NaN</td>\n",
       "      <td>NaN</td>\n",
       "      <td>NaN</td>\n",
       "      <td>NaN</td>\n",
       "      <td>NaN</td>\n",
       "      <td>NaN</td>\n",
       "      <td>NaN</td>\n",
       "      <td>NaN</td>\n",
       "      <td>NaN</td>\n",
       "      <td>NaN</td>\n",
       "    </tr>\n",
       "    <tr>\n",
       "      <th>2023-02-25</th>\n",
       "      <td>54</td>\n",
       "      <td>50.0</td>\n",
       "      <td>NaN</td>\n",
       "      <td>NaN</td>\n",
       "      <td>NaN</td>\n",
       "      <td>NaN</td>\n",
       "      <td>NaN</td>\n",
       "      <td>NaN</td>\n",
       "      <td>NaN</td>\n",
       "      <td>NaN</td>\n",
       "      <td>...</td>\n",
       "      <td>NaN</td>\n",
       "      <td>NaN</td>\n",
       "      <td>NaN</td>\n",
       "      <td>NaN</td>\n",
       "      <td>NaN</td>\n",
       "      <td>NaN</td>\n",
       "      <td>NaN</td>\n",
       "      <td>NaN</td>\n",
       "      <td>NaN</td>\n",
       "      <td>NaN</td>\n",
       "    </tr>\n",
       "    <tr>\n",
       "      <th>2023-02-26</th>\n",
       "      <td>52</td>\n",
       "      <td>54.0</td>\n",
       "      <td>50.0</td>\n",
       "      <td>NaN</td>\n",
       "      <td>NaN</td>\n",
       "      <td>NaN</td>\n",
       "      <td>NaN</td>\n",
       "      <td>NaN</td>\n",
       "      <td>NaN</td>\n",
       "      <td>NaN</td>\n",
       "      <td>...</td>\n",
       "      <td>NaN</td>\n",
       "      <td>NaN</td>\n",
       "      <td>NaN</td>\n",
       "      <td>NaN</td>\n",
       "      <td>NaN</td>\n",
       "      <td>NaN</td>\n",
       "      <td>NaN</td>\n",
       "      <td>NaN</td>\n",
       "      <td>NaN</td>\n",
       "      <td>NaN</td>\n",
       "    </tr>\n",
       "    <tr>\n",
       "      <th>2023-02-27</th>\n",
       "      <td>59</td>\n",
       "      <td>52.0</td>\n",
       "      <td>54.0</td>\n",
       "      <td>50.0</td>\n",
       "      <td>NaN</td>\n",
       "      <td>NaN</td>\n",
       "      <td>NaN</td>\n",
       "      <td>NaN</td>\n",
       "      <td>NaN</td>\n",
       "      <td>NaN</td>\n",
       "      <td>...</td>\n",
       "      <td>NaN</td>\n",
       "      <td>NaN</td>\n",
       "      <td>NaN</td>\n",
       "      <td>NaN</td>\n",
       "      <td>NaN</td>\n",
       "      <td>NaN</td>\n",
       "      <td>NaN</td>\n",
       "      <td>NaN</td>\n",
       "      <td>NaN</td>\n",
       "      <td>NaN</td>\n",
       "    </tr>\n",
       "    <tr>\n",
       "      <th>2023-02-28</th>\n",
       "      <td>75</td>\n",
       "      <td>59.0</td>\n",
       "      <td>52.0</td>\n",
       "      <td>54.0</td>\n",
       "      <td>50.0</td>\n",
       "      <td>NaN</td>\n",
       "      <td>NaN</td>\n",
       "      <td>NaN</td>\n",
       "      <td>NaN</td>\n",
       "      <td>NaN</td>\n",
       "      <td>...</td>\n",
       "      <td>NaN</td>\n",
       "      <td>NaN</td>\n",
       "      <td>NaN</td>\n",
       "      <td>NaN</td>\n",
       "      <td>NaN</td>\n",
       "      <td>NaN</td>\n",
       "      <td>NaN</td>\n",
       "      <td>NaN</td>\n",
       "      <td>NaN</td>\n",
       "      <td>NaN</td>\n",
       "    </tr>\n",
       "  </tbody>\n",
       "</table>\n",
       "<p>5 rows × 34 columns</p>\n",
       "</div>"
      ],
      "text/plain": [
       "            Crimes_Z0T100  Crimes_Z0T100_1  Crimes_Z0T100_2  Crimes_Z0T100_3  \\\n",
       "2023-02-24             50              NaN              NaN              NaN   \n",
       "2023-02-25             54             50.0              NaN              NaN   \n",
       "2023-02-26             52             54.0             50.0              NaN   \n",
       "2023-02-27             59             52.0             54.0             50.0   \n",
       "2023-02-28             75             59.0             52.0             54.0   \n",
       "\n",
       "            Crimes_Z0T100_4  Crimes_Z0T100_5  Crimes_Z0T100_6  \\\n",
       "2023-02-24              NaN              NaN              NaN   \n",
       "2023-02-25              NaN              NaN              NaN   \n",
       "2023-02-26              NaN              NaN              NaN   \n",
       "2023-02-27              NaN              NaN              NaN   \n",
       "2023-02-28             50.0              NaN              NaN   \n",
       "\n",
       "            Crimes_Z0T100_7  Crimes_Z0T100_8  Crimes_Z0T100_9  ...  \\\n",
       "2023-02-24              NaN              NaN              NaN  ...   \n",
       "2023-02-25              NaN              NaN              NaN  ...   \n",
       "2023-02-26              NaN              NaN              NaN  ...   \n",
       "2023-02-27              NaN              NaN              NaN  ...   \n",
       "2023-02-28              NaN              NaN              NaN  ...   \n",
       "\n",
       "            Crimes_Z0T100_24  Crimes_Z0T100_25  Crimes_Z0T100_26  \\\n",
       "2023-02-24               NaN               NaN               NaN   \n",
       "2023-02-25               NaN               NaN               NaN   \n",
       "2023-02-26               NaN               NaN               NaN   \n",
       "2023-02-27               NaN               NaN               NaN   \n",
       "2023-02-28               NaN               NaN               NaN   \n",
       "\n",
       "            Crimes_Z0T100_27  Crimes_Z0T100_28  Crimes_Z0T100_29  \\\n",
       "2023-02-24               NaN               NaN               NaN   \n",
       "2023-02-25               NaN               NaN               NaN   \n",
       "2023-02-26               NaN               NaN               NaN   \n",
       "2023-02-27               NaN               NaN               NaN   \n",
       "2023-02-28               NaN               NaN               NaN   \n",
       "\n",
       "            Crimes_Z0T100_30  Crimes_Z0T100_31  Crimes_Z0T100_32  \\\n",
       "2023-02-24               NaN               NaN               NaN   \n",
       "2023-02-25               NaN               NaN               NaN   \n",
       "2023-02-26               NaN               NaN               NaN   \n",
       "2023-02-27               NaN               NaN               NaN   \n",
       "2023-02-28               NaN               NaN               NaN   \n",
       "\n",
       "            Crimes_Z0T100_33  \n",
       "2023-02-24               NaN  \n",
       "2023-02-25               NaN  \n",
       "2023-02-26               NaN  \n",
       "2023-02-27               NaN  \n",
       "2023-02-28               NaN  \n",
       "\n",
       "[5 rows x 34 columns]"
      ]
     },
     "execution_count": 136,
     "metadata": {},
     "output_type": "execute_result"
    }
   ],
   "source": [
    "feature.temp.head()"
   ]
  },
  {
   "cell_type": "markdown",
   "id": "934629e8-2e19-4d0d-a3d2-4b172e28f766",
   "metadata": {},
   "source": [
    "### Smothing"
   ]
  },
  {
   "cell_type": "code",
   "execution_count": 137,
   "id": "4cfb5a5d-f4ae-4914-b09f-ec3fb53c8ce1",
   "metadata": {
    "tags": []
   },
   "outputs": [],
   "source": [
    "feature.smoothing(column)"
   ]
  },
  {
   "cell_type": "code",
   "execution_count": 138,
   "id": "69ce0a42-98d6-4ea3-ac9c-c1cdb3afa8ac",
   "metadata": {
    "tags": []
   },
   "outputs": [
    {
     "data": {
      "text/html": [
       "<div>\n",
       "<style scoped>\n",
       "    .dataframe tbody tr th:only-of-type {\n",
       "        vertical-align: middle;\n",
       "    }\n",
       "\n",
       "    .dataframe tbody tr th {\n",
       "        vertical-align: top;\n",
       "    }\n",
       "\n",
       "    .dataframe thead th {\n",
       "        text-align: right;\n",
       "    }\n",
       "</style>\n",
       "<table border=\"1\" class=\"dataframe\">\n",
       "  <thead>\n",
       "    <tr style=\"text-align: right;\">\n",
       "      <th></th>\n",
       "      <th>Crimes_Z0T100</th>\n",
       "      <th>Crimes_Z0T100_1</th>\n",
       "      <th>Crimes_Z0T100_2</th>\n",
       "      <th>Crimes_Z0T100_3</th>\n",
       "      <th>Crimes_Z0T100_4</th>\n",
       "      <th>Crimes_Z0T100_5</th>\n",
       "      <th>Crimes_Z0T100_6</th>\n",
       "      <th>Crimes_Z0T100_7</th>\n",
       "      <th>Crimes_Z0T100_8</th>\n",
       "      <th>Crimes_Z0T100_9</th>\n",
       "      <th>...</th>\n",
       "      <th>Crimes_Z0T100_32</th>\n",
       "      <th>Crimes_Z0T100_33</th>\n",
       "      <th>exp0.2</th>\n",
       "      <th>exp0.3</th>\n",
       "      <th>exp0.4</th>\n",
       "      <th>exp0.5</th>\n",
       "      <th>exp0.6</th>\n",
       "      <th>exp0.7</th>\n",
       "      <th>exp0.8</th>\n",
       "      <th>exp0.9</th>\n",
       "    </tr>\n",
       "  </thead>\n",
       "  <tbody>\n",
       "    <tr>\n",
       "      <th>2023-02-24</th>\n",
       "      <td>50</td>\n",
       "      <td>NaN</td>\n",
       "      <td>NaN</td>\n",
       "      <td>NaN</td>\n",
       "      <td>NaN</td>\n",
       "      <td>NaN</td>\n",
       "      <td>NaN</td>\n",
       "      <td>NaN</td>\n",
       "      <td>NaN</td>\n",
       "      <td>NaN</td>\n",
       "      <td>...</td>\n",
       "      <td>NaN</td>\n",
       "      <td>NaN</td>\n",
       "      <td>52.733333</td>\n",
       "      <td>52.733333</td>\n",
       "      <td>52.733333</td>\n",
       "      <td>52.733333</td>\n",
       "      <td>52.733333</td>\n",
       "      <td>52.733333</td>\n",
       "      <td>52.733333</td>\n",
       "      <td>52.733333</td>\n",
       "    </tr>\n",
       "    <tr>\n",
       "      <th>2023-02-25</th>\n",
       "      <td>54</td>\n",
       "      <td>50.0</td>\n",
       "      <td>NaN</td>\n",
       "      <td>NaN</td>\n",
       "      <td>NaN</td>\n",
       "      <td>NaN</td>\n",
       "      <td>NaN</td>\n",
       "      <td>NaN</td>\n",
       "      <td>NaN</td>\n",
       "      <td>NaN</td>\n",
       "      <td>...</td>\n",
       "      <td>NaN</td>\n",
       "      <td>NaN</td>\n",
       "      <td>52.186667</td>\n",
       "      <td>51.913333</td>\n",
       "      <td>51.640000</td>\n",
       "      <td>51.366667</td>\n",
       "      <td>51.093333</td>\n",
       "      <td>50.820000</td>\n",
       "      <td>50.546667</td>\n",
       "      <td>50.273333</td>\n",
       "    </tr>\n",
       "    <tr>\n",
       "      <th>2023-02-26</th>\n",
       "      <td>52</td>\n",
       "      <td>54.0</td>\n",
       "      <td>50.0</td>\n",
       "      <td>NaN</td>\n",
       "      <td>NaN</td>\n",
       "      <td>NaN</td>\n",
       "      <td>NaN</td>\n",
       "      <td>NaN</td>\n",
       "      <td>NaN</td>\n",
       "      <td>NaN</td>\n",
       "      <td>...</td>\n",
       "      <td>NaN</td>\n",
       "      <td>NaN</td>\n",
       "      <td>52.549333</td>\n",
       "      <td>52.539333</td>\n",
       "      <td>52.584000</td>\n",
       "      <td>52.683333</td>\n",
       "      <td>52.837333</td>\n",
       "      <td>53.046000</td>\n",
       "      <td>53.309333</td>\n",
       "      <td>53.627333</td>\n",
       "    </tr>\n",
       "    <tr>\n",
       "      <th>2023-02-27</th>\n",
       "      <td>59</td>\n",
       "      <td>52.0</td>\n",
       "      <td>54.0</td>\n",
       "      <td>50.0</td>\n",
       "      <td>NaN</td>\n",
       "      <td>NaN</td>\n",
       "      <td>NaN</td>\n",
       "      <td>NaN</td>\n",
       "      <td>NaN</td>\n",
       "      <td>NaN</td>\n",
       "      <td>...</td>\n",
       "      <td>NaN</td>\n",
       "      <td>NaN</td>\n",
       "      <td>52.439467</td>\n",
       "      <td>52.377533</td>\n",
       "      <td>52.350400</td>\n",
       "      <td>52.341667</td>\n",
       "      <td>52.334933</td>\n",
       "      <td>52.313800</td>\n",
       "      <td>52.261867</td>\n",
       "      <td>52.162733</td>\n",
       "    </tr>\n",
       "    <tr>\n",
       "      <th>2023-02-28</th>\n",
       "      <td>75</td>\n",
       "      <td>59.0</td>\n",
       "      <td>52.0</td>\n",
       "      <td>54.0</td>\n",
       "      <td>50.0</td>\n",
       "      <td>NaN</td>\n",
       "      <td>NaN</td>\n",
       "      <td>NaN</td>\n",
       "      <td>NaN</td>\n",
       "      <td>NaN</td>\n",
       "      <td>...</td>\n",
       "      <td>NaN</td>\n",
       "      <td>NaN</td>\n",
       "      <td>53.751573</td>\n",
       "      <td>54.364273</td>\n",
       "      <td>55.010240</td>\n",
       "      <td>55.670833</td>\n",
       "      <td>56.333973</td>\n",
       "      <td>56.994140</td>\n",
       "      <td>57.652373</td>\n",
       "      <td>58.316273</td>\n",
       "    </tr>\n",
       "  </tbody>\n",
       "</table>\n",
       "<p>5 rows × 42 columns</p>\n",
       "</div>"
      ],
      "text/plain": [
       "            Crimes_Z0T100  Crimes_Z0T100_1  Crimes_Z0T100_2  Crimes_Z0T100_3  \\\n",
       "2023-02-24             50              NaN              NaN              NaN   \n",
       "2023-02-25             54             50.0              NaN              NaN   \n",
       "2023-02-26             52             54.0             50.0              NaN   \n",
       "2023-02-27             59             52.0             54.0             50.0   \n",
       "2023-02-28             75             59.0             52.0             54.0   \n",
       "\n",
       "            Crimes_Z0T100_4  Crimes_Z0T100_5  Crimes_Z0T100_6  \\\n",
       "2023-02-24              NaN              NaN              NaN   \n",
       "2023-02-25              NaN              NaN              NaN   \n",
       "2023-02-26              NaN              NaN              NaN   \n",
       "2023-02-27              NaN              NaN              NaN   \n",
       "2023-02-28             50.0              NaN              NaN   \n",
       "\n",
       "            Crimes_Z0T100_7  Crimes_Z0T100_8  Crimes_Z0T100_9  ...  \\\n",
       "2023-02-24              NaN              NaN              NaN  ...   \n",
       "2023-02-25              NaN              NaN              NaN  ...   \n",
       "2023-02-26              NaN              NaN              NaN  ...   \n",
       "2023-02-27              NaN              NaN              NaN  ...   \n",
       "2023-02-28              NaN              NaN              NaN  ...   \n",
       "\n",
       "            Crimes_Z0T100_32  Crimes_Z0T100_33     exp0.2     exp0.3  \\\n",
       "2023-02-24               NaN               NaN  52.733333  52.733333   \n",
       "2023-02-25               NaN               NaN  52.186667  51.913333   \n",
       "2023-02-26               NaN               NaN  52.549333  52.539333   \n",
       "2023-02-27               NaN               NaN  52.439467  52.377533   \n",
       "2023-02-28               NaN               NaN  53.751573  54.364273   \n",
       "\n",
       "               exp0.4     exp0.5     exp0.6     exp0.7     exp0.8     exp0.9  \n",
       "2023-02-24  52.733333  52.733333  52.733333  52.733333  52.733333  52.733333  \n",
       "2023-02-25  51.640000  51.366667  51.093333  50.820000  50.546667  50.273333  \n",
       "2023-02-26  52.584000  52.683333  52.837333  53.046000  53.309333  53.627333  \n",
       "2023-02-27  52.350400  52.341667  52.334933  52.313800  52.261867  52.162733  \n",
       "2023-02-28  55.010240  55.670833  56.333973  56.994140  57.652373  58.316273  \n",
       "\n",
       "[5 rows x 42 columns]"
      ]
     },
     "execution_count": 138,
     "metadata": {},
     "output_type": "execute_result"
    }
   ],
   "source": [
    "feature.temp.head()"
   ]
  },
  {
   "cell_type": "markdown",
   "id": "bf3e5310-9273-4d85-97b3-cb4640d2b7c2",
   "metadata": {},
   "source": [
    "### Create MA"
   ]
  },
  {
   "cell_type": "code",
   "execution_count": 139,
   "id": "5033aaa9-f378-4b99-8ac2-cbfd2da9bf6e",
   "metadata": {
    "tags": []
   },
   "outputs": [],
   "source": [
    "feature.createMA(column)"
   ]
  },
  {
   "cell_type": "code",
   "execution_count": 140,
   "id": "de7e7c02-da7a-43e1-80e8-2012d18d8ef1",
   "metadata": {
    "tags": []
   },
   "outputs": [
    {
     "data": {
      "text/html": [
       "<div>\n",
       "<style scoped>\n",
       "    .dataframe tbody tr th:only-of-type {\n",
       "        vertical-align: middle;\n",
       "    }\n",
       "\n",
       "    .dataframe tbody tr th {\n",
       "        vertical-align: top;\n",
       "    }\n",
       "\n",
       "    .dataframe thead th {\n",
       "        text-align: right;\n",
       "    }\n",
       "</style>\n",
       "<table border=\"1\" class=\"dataframe\">\n",
       "  <thead>\n",
       "    <tr style=\"text-align: right;\">\n",
       "      <th></th>\n",
       "      <th>Crimes_Z0T100</th>\n",
       "      <th>Crimes_Z0T100_1</th>\n",
       "      <th>Crimes_Z0T100_2</th>\n",
       "      <th>Crimes_Z0T100_3</th>\n",
       "      <th>Crimes_Z0T100_4</th>\n",
       "      <th>Crimes_Z0T100_5</th>\n",
       "      <th>Crimes_Z0T100_6</th>\n",
       "      <th>Crimes_Z0T100_7</th>\n",
       "      <th>Crimes_Z0T100_8</th>\n",
       "      <th>Crimes_Z0T100_9</th>\n",
       "      <th>...</th>\n",
       "      <th>exp0.4</th>\n",
       "      <th>exp0.5</th>\n",
       "      <th>exp0.6</th>\n",
       "      <th>exp0.7</th>\n",
       "      <th>exp0.8</th>\n",
       "      <th>exp0.9</th>\n",
       "      <th>MA10</th>\n",
       "      <th>MA20</th>\n",
       "      <th>MA30</th>\n",
       "      <th>MA40</th>\n",
       "    </tr>\n",
       "  </thead>\n",
       "  <tbody>\n",
       "    <tr>\n",
       "      <th>2023-04-27</th>\n",
       "      <td>74</td>\n",
       "      <td>57.0</td>\n",
       "      <td>73.0</td>\n",
       "      <td>68.0</td>\n",
       "      <td>75.0</td>\n",
       "      <td>71.0</td>\n",
       "      <td>82.0</td>\n",
       "      <td>64.0</td>\n",
       "      <td>53.0</td>\n",
       "      <td>68.0</td>\n",
       "      <td>...</td>\n",
       "      <td>65.742892</td>\n",
       "      <td>64.406305</td>\n",
       "      <td>62.975498</td>\n",
       "      <td>61.518699</td>\n",
       "      <td>60.051863</td>\n",
       "      <td>58.556691</td>\n",
       "      <td>68.5</td>\n",
       "      <td>68.80</td>\n",
       "      <td>66.433333</td>\n",
       "      <td>65.725</td>\n",
       "    </tr>\n",
       "    <tr>\n",
       "      <th>2023-04-28</th>\n",
       "      <td>52</td>\n",
       "      <td>74.0</td>\n",
       "      <td>57.0</td>\n",
       "      <td>73.0</td>\n",
       "      <td>68.0</td>\n",
       "      <td>75.0</td>\n",
       "      <td>71.0</td>\n",
       "      <td>82.0</td>\n",
       "      <td>64.0</td>\n",
       "      <td>53.0</td>\n",
       "      <td>...</td>\n",
       "      <td>69.045735</td>\n",
       "      <td>69.203153</td>\n",
       "      <td>69.590199</td>\n",
       "      <td>70.255610</td>\n",
       "      <td>71.210373</td>\n",
       "      <td>72.455669</td>\n",
       "      <td>66.9</td>\n",
       "      <td>67.85</td>\n",
       "      <td>66.100000</td>\n",
       "      <td>65.375</td>\n",
       "    </tr>\n",
       "    <tr>\n",
       "      <th>2023-04-29</th>\n",
       "      <td>73</td>\n",
       "      <td>52.0</td>\n",
       "      <td>74.0</td>\n",
       "      <td>57.0</td>\n",
       "      <td>73.0</td>\n",
       "      <td>68.0</td>\n",
       "      <td>75.0</td>\n",
       "      <td>71.0</td>\n",
       "      <td>82.0</td>\n",
       "      <td>64.0</td>\n",
       "      <td>...</td>\n",
       "      <td>62.227441</td>\n",
       "      <td>60.601576</td>\n",
       "      <td>59.036080</td>\n",
       "      <td>57.476683</td>\n",
       "      <td>55.842075</td>\n",
       "      <td>54.045567</td>\n",
       "      <td>68.9</td>\n",
       "      <td>68.40</td>\n",
       "      <td>66.466667</td>\n",
       "      <td>65.325</td>\n",
       "    </tr>\n",
       "    <tr>\n",
       "      <th>2023-04-30</th>\n",
       "      <td>69</td>\n",
       "      <td>73.0</td>\n",
       "      <td>52.0</td>\n",
       "      <td>74.0</td>\n",
       "      <td>57.0</td>\n",
       "      <td>73.0</td>\n",
       "      <td>68.0</td>\n",
       "      <td>75.0</td>\n",
       "      <td>71.0</td>\n",
       "      <td>82.0</td>\n",
       "      <td>...</td>\n",
       "      <td>66.536465</td>\n",
       "      <td>66.800788</td>\n",
       "      <td>67.414432</td>\n",
       "      <td>68.343005</td>\n",
       "      <td>69.568415</td>\n",
       "      <td>71.104557</td>\n",
       "      <td>69.4</td>\n",
       "      <td>67.95</td>\n",
       "      <td>66.633333</td>\n",
       "      <td>65.575</td>\n",
       "    </tr>\n",
       "    <tr>\n",
       "      <th>2023-05-01</th>\n",
       "      <td>40</td>\n",
       "      <td>69.0</td>\n",
       "      <td>73.0</td>\n",
       "      <td>52.0</td>\n",
       "      <td>74.0</td>\n",
       "      <td>57.0</td>\n",
       "      <td>73.0</td>\n",
       "      <td>68.0</td>\n",
       "      <td>75.0</td>\n",
       "      <td>71.0</td>\n",
       "      <td>...</td>\n",
       "      <td>67.521879</td>\n",
       "      <td>67.900394</td>\n",
       "      <td>68.365773</td>\n",
       "      <td>68.802901</td>\n",
       "      <td>69.113683</td>\n",
       "      <td>69.210456</td>\n",
       "      <td>65.2</td>\n",
       "      <td>66.40</td>\n",
       "      <td>65.933333</td>\n",
       "      <td>65.500</td>\n",
       "    </tr>\n",
       "  </tbody>\n",
       "</table>\n",
       "<p>5 rows × 46 columns</p>\n",
       "</div>"
      ],
      "text/plain": [
       "            Crimes_Z0T100  Crimes_Z0T100_1  Crimes_Z0T100_2  Crimes_Z0T100_3  \\\n",
       "2023-04-27             74             57.0             73.0             68.0   \n",
       "2023-04-28             52             74.0             57.0             73.0   \n",
       "2023-04-29             73             52.0             74.0             57.0   \n",
       "2023-04-30             69             73.0             52.0             74.0   \n",
       "2023-05-01             40             69.0             73.0             52.0   \n",
       "\n",
       "            Crimes_Z0T100_4  Crimes_Z0T100_5  Crimes_Z0T100_6  \\\n",
       "2023-04-27             75.0             71.0             82.0   \n",
       "2023-04-28             68.0             75.0             71.0   \n",
       "2023-04-29             73.0             68.0             75.0   \n",
       "2023-04-30             57.0             73.0             68.0   \n",
       "2023-05-01             74.0             57.0             73.0   \n",
       "\n",
       "            Crimes_Z0T100_7  Crimes_Z0T100_8  Crimes_Z0T100_9  ...     exp0.4  \\\n",
       "2023-04-27             64.0             53.0             68.0  ...  65.742892   \n",
       "2023-04-28             82.0             64.0             53.0  ...  69.045735   \n",
       "2023-04-29             71.0             82.0             64.0  ...  62.227441   \n",
       "2023-04-30             75.0             71.0             82.0  ...  66.536465   \n",
       "2023-05-01             68.0             75.0             71.0  ...  67.521879   \n",
       "\n",
       "               exp0.5     exp0.6     exp0.7     exp0.8     exp0.9  MA10  \\\n",
       "2023-04-27  64.406305  62.975498  61.518699  60.051863  58.556691  68.5   \n",
       "2023-04-28  69.203153  69.590199  70.255610  71.210373  72.455669  66.9   \n",
       "2023-04-29  60.601576  59.036080  57.476683  55.842075  54.045567  68.9   \n",
       "2023-04-30  66.800788  67.414432  68.343005  69.568415  71.104557  69.4   \n",
       "2023-05-01  67.900394  68.365773  68.802901  69.113683  69.210456  65.2   \n",
       "\n",
       "             MA20       MA30    MA40  \n",
       "2023-04-27  68.80  66.433333  65.725  \n",
       "2023-04-28  67.85  66.100000  65.375  \n",
       "2023-04-29  68.40  66.466667  65.325  \n",
       "2023-04-30  67.95  66.633333  65.575  \n",
       "2023-05-01  66.40  65.933333  65.500  \n",
       "\n",
       "[5 rows x 46 columns]"
      ]
     },
     "execution_count": 140,
     "metadata": {},
     "output_type": "execute_result"
    }
   ],
   "source": [
    "feature.temp.tail()"
   ]
  },
  {
   "cell_type": "code",
   "execution_count": 141,
   "id": "836f8cde-470f-4655-9281-61853e01ca0a",
   "metadata": {
    "tags": []
   },
   "outputs": [],
   "source": [
    "feature.temp.dropna(inplace=True)"
   ]
  },
  {
   "cell_type": "code",
   "execution_count": 142,
   "id": "950a5cf8-56ac-4448-b2cc-0ee59352bf10",
   "metadata": {
    "tags": []
   },
   "outputs": [
    {
     "data": {
      "text/html": [
       "<div>\n",
       "<style scoped>\n",
       "    .dataframe tbody tr th:only-of-type {\n",
       "        vertical-align: middle;\n",
       "    }\n",
       "\n",
       "    .dataframe tbody tr th {\n",
       "        vertical-align: top;\n",
       "    }\n",
       "\n",
       "    .dataframe thead th {\n",
       "        text-align: right;\n",
       "    }\n",
       "</style>\n",
       "<table border=\"1\" class=\"dataframe\">\n",
       "  <thead>\n",
       "    <tr style=\"text-align: right;\">\n",
       "      <th></th>\n",
       "      <th>Crimes_Z0T100</th>\n",
       "      <th>Crimes_Z0T100_1</th>\n",
       "      <th>Crimes_Z0T100_2</th>\n",
       "      <th>Crimes_Z0T100_3</th>\n",
       "      <th>Crimes_Z0T100_4</th>\n",
       "      <th>Crimes_Z0T100_5</th>\n",
       "      <th>Crimes_Z0T100_6</th>\n",
       "      <th>Crimes_Z0T100_7</th>\n",
       "      <th>Crimes_Z0T100_8</th>\n",
       "      <th>Crimes_Z0T100_9</th>\n",
       "      <th>...</th>\n",
       "      <th>exp0.4</th>\n",
       "      <th>exp0.5</th>\n",
       "      <th>exp0.6</th>\n",
       "      <th>exp0.7</th>\n",
       "      <th>exp0.8</th>\n",
       "      <th>exp0.9</th>\n",
       "      <th>MA10</th>\n",
       "      <th>MA20</th>\n",
       "      <th>MA30</th>\n",
       "      <th>MA40</th>\n",
       "    </tr>\n",
       "  </thead>\n",
       "  <tbody>\n",
       "    <tr>\n",
       "      <th>2023-04-04</th>\n",
       "      <td>61</td>\n",
       "      <td>75.0</td>\n",
       "      <td>55.0</td>\n",
       "      <td>61.0</td>\n",
       "      <td>64.0</td>\n",
       "      <td>62.0</td>\n",
       "      <td>62.0</td>\n",
       "      <td>65.0</td>\n",
       "      <td>65.0</td>\n",
       "      <td>72.0</td>\n",
       "      <td>...</td>\n",
       "      <td>65.695517</td>\n",
       "      <td>66.802463</td>\n",
       "      <td>68.114738</td>\n",
       "      <td>69.607224</td>\n",
       "      <td>71.261004</td>\n",
       "      <td>73.062803</td>\n",
       "      <td>64.2</td>\n",
       "      <td>63.65</td>\n",
       "      <td>64.966667</td>\n",
       "      <td>63.475</td>\n",
       "    </tr>\n",
       "    <tr>\n",
       "      <th>2023-04-05</th>\n",
       "      <td>69</td>\n",
       "      <td>61.0</td>\n",
       "      <td>75.0</td>\n",
       "      <td>55.0</td>\n",
       "      <td>61.0</td>\n",
       "      <td>64.0</td>\n",
       "      <td>62.0</td>\n",
       "      <td>62.0</td>\n",
       "      <td>65.0</td>\n",
       "      <td>65.0</td>\n",
       "      <td>...</td>\n",
       "      <td>63.817310</td>\n",
       "      <td>63.901232</td>\n",
       "      <td>63.845895</td>\n",
       "      <td>63.582167</td>\n",
       "      <td>63.052201</td>\n",
       "      <td>62.206280</td>\n",
       "      <td>63.9</td>\n",
       "      <td>63.40</td>\n",
       "      <td>64.733333</td>\n",
       "      <td>63.950</td>\n",
       "    </tr>\n",
       "    <tr>\n",
       "      <th>2023-04-06</th>\n",
       "      <td>51</td>\n",
       "      <td>69.0</td>\n",
       "      <td>61.0</td>\n",
       "      <td>75.0</td>\n",
       "      <td>55.0</td>\n",
       "      <td>61.0</td>\n",
       "      <td>64.0</td>\n",
       "      <td>62.0</td>\n",
       "      <td>62.0</td>\n",
       "      <td>65.0</td>\n",
       "      <td>...</td>\n",
       "      <td>65.890386</td>\n",
       "      <td>66.450616</td>\n",
       "      <td>66.938358</td>\n",
       "      <td>67.374650</td>\n",
       "      <td>67.810440</td>\n",
       "      <td>68.320628</td>\n",
       "      <td>62.5</td>\n",
       "      <td>63.40</td>\n",
       "      <td>64.433333</td>\n",
       "      <td>63.875</td>\n",
       "    </tr>\n",
       "    <tr>\n",
       "      <th>2023-04-07</th>\n",
       "      <td>57</td>\n",
       "      <td>51.0</td>\n",
       "      <td>69.0</td>\n",
       "      <td>61.0</td>\n",
       "      <td>75.0</td>\n",
       "      <td>55.0</td>\n",
       "      <td>61.0</td>\n",
       "      <td>64.0</td>\n",
       "      <td>62.0</td>\n",
       "      <td>62.0</td>\n",
       "      <td>...</td>\n",
       "      <td>59.934232</td>\n",
       "      <td>58.725308</td>\n",
       "      <td>57.375343</td>\n",
       "      <td>55.912395</td>\n",
       "      <td>54.362088</td>\n",
       "      <td>52.732063</td>\n",
       "      <td>61.7</td>\n",
       "      <td>62.65</td>\n",
       "      <td>63.900000</td>\n",
       "      <td>64.000</td>\n",
       "    </tr>\n",
       "    <tr>\n",
       "      <th>2023-04-08</th>\n",
       "      <td>71</td>\n",
       "      <td>57.0</td>\n",
       "      <td>51.0</td>\n",
       "      <td>69.0</td>\n",
       "      <td>61.0</td>\n",
       "      <td>75.0</td>\n",
       "      <td>55.0</td>\n",
       "      <td>61.0</td>\n",
       "      <td>64.0</td>\n",
       "      <td>62.0</td>\n",
       "      <td>...</td>\n",
       "      <td>58.760539</td>\n",
       "      <td>57.862654</td>\n",
       "      <td>57.150137</td>\n",
       "      <td>56.673719</td>\n",
       "      <td>56.472418</td>\n",
       "      <td>56.573206</td>\n",
       "      <td>62.6</td>\n",
       "      <td>62.90</td>\n",
       "      <td>63.900000</td>\n",
       "      <td>64.300</td>\n",
       "    </tr>\n",
       "  </tbody>\n",
       "</table>\n",
       "<p>5 rows × 46 columns</p>\n",
       "</div>"
      ],
      "text/plain": [
       "            Crimes_Z0T100  Crimes_Z0T100_1  Crimes_Z0T100_2  Crimes_Z0T100_3  \\\n",
       "2023-04-04             61             75.0             55.0             61.0   \n",
       "2023-04-05             69             61.0             75.0             55.0   \n",
       "2023-04-06             51             69.0             61.0             75.0   \n",
       "2023-04-07             57             51.0             69.0             61.0   \n",
       "2023-04-08             71             57.0             51.0             69.0   \n",
       "\n",
       "            Crimes_Z0T100_4  Crimes_Z0T100_5  Crimes_Z0T100_6  \\\n",
       "2023-04-04             64.0             62.0             62.0   \n",
       "2023-04-05             61.0             64.0             62.0   \n",
       "2023-04-06             55.0             61.0             64.0   \n",
       "2023-04-07             75.0             55.0             61.0   \n",
       "2023-04-08             61.0             75.0             55.0   \n",
       "\n",
       "            Crimes_Z0T100_7  Crimes_Z0T100_8  Crimes_Z0T100_9  ...     exp0.4  \\\n",
       "2023-04-04             65.0             65.0             72.0  ...  65.695517   \n",
       "2023-04-05             62.0             65.0             65.0  ...  63.817310   \n",
       "2023-04-06             62.0             62.0             65.0  ...  65.890386   \n",
       "2023-04-07             64.0             62.0             62.0  ...  59.934232   \n",
       "2023-04-08             61.0             64.0             62.0  ...  58.760539   \n",
       "\n",
       "               exp0.5     exp0.6     exp0.7     exp0.8     exp0.9  MA10  \\\n",
       "2023-04-04  66.802463  68.114738  69.607224  71.261004  73.062803  64.2   \n",
       "2023-04-05  63.901232  63.845895  63.582167  63.052201  62.206280  63.9   \n",
       "2023-04-06  66.450616  66.938358  67.374650  67.810440  68.320628  62.5   \n",
       "2023-04-07  58.725308  57.375343  55.912395  54.362088  52.732063  61.7   \n",
       "2023-04-08  57.862654  57.150137  56.673719  56.472418  56.573206  62.6   \n",
       "\n",
       "             MA20       MA30    MA40  \n",
       "2023-04-04  63.65  64.966667  63.475  \n",
       "2023-04-05  63.40  64.733333  63.950  \n",
       "2023-04-06  63.40  64.433333  63.875  \n",
       "2023-04-07  62.65  63.900000  64.000  \n",
       "2023-04-08  62.90  63.900000  64.300  \n",
       "\n",
       "[5 rows x 46 columns]"
      ]
     },
     "execution_count": 142,
     "metadata": {},
     "output_type": "execute_result"
    }
   ],
   "source": [
    "feature.temp.head()"
   ]
  },
  {
   "cell_type": "markdown",
   "id": "875ab52b-7102-45cf-ba2b-0ab8b2c459d4",
   "metadata": {},
   "source": [
    "### Scaler"
   ]
  },
  {
   "cell_type": "code",
   "execution_count": 143,
   "id": "de7cd689-93be-4abc-8e68-6fad5112c125",
   "metadata": {
    "tags": []
   },
   "outputs": [],
   "source": [
    "zone=colummn[8]\n",
    "crime=colummn[10:]\n",
    "scx_file=\"models/FeatureEngineer/Scalers/sc_x_\"+crime+\"_\"+zone+\".pkl\"\n",
    "scy_file=\"models/FeatureEngineer/Scalers/sc_y_\"+crime+\"_\"+zone+\".pkl\""
   ]
  },
  {
   "cell_type": "code",
   "execution_count": 144,
   "id": "a8d2da41-6e67-443d-8cc6-07e928b449ad",
   "metadata": {
    "tags": []
   },
   "outputs": [],
   "source": [
    "with open(scx_file, \"rb\") as fp:\n",
    "    sc= pickle.load(fp)\n",
    "with open(scy_file, \"rb\") as fp:\n",
    "    sc2= pickle.load(fp)"
   ]
  },
  {
   "cell_type": "code",
   "execution_count": 146,
   "id": "cff44858-4d57-4f4f-a75d-9c067816971b",
   "metadata": {
    "tags": []
   },
   "outputs": [],
   "source": [
    "X,y=feature.scalerData(colummn,sc,sc2)"
   ]
  },
  {
   "cell_type": "code",
   "execution_count": null,
   "id": "6974af7c-87a8-4980-a6bf-878d6741a93b",
   "metadata": {},
   "outputs": [],
   "source": []
  }
 ],
 "metadata": {
  "kernelspec": {
   "display_name": "vlapd",
   "language": "python",
   "name": "vlapd"
  },
  "language_info": {
   "codemirror_mode": {
    "name": "ipython",
    "version": 3
   },
   "file_extension": ".py",
   "mimetype": "text/x-python",
   "name": "python",
   "nbconvert_exporter": "python",
   "pygments_lexer": "ipython3",
   "version": "3.10.6"
  }
 },
 "nbformat": 4,
 "nbformat_minor": 5
}
