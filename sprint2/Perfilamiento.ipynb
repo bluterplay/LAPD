{
 "cells": [
  {
   "cell_type": "code",
   "execution_count": 20,
   "id": "fe0d22c4",
   "metadata": {},
   "outputs": [],
   "source": [
    "import pandas as pd\n",
    "import pickle\n",
    "import matplotlib.pyplot as plt"
   ]
  },
  {
   "cell_type": "code",
   "execution_count": 2,
   "id": "9e2d15a7",
   "metadata": {},
   "outputs": [],
   "source": [
    "df=pd.read_csv('DatosLimpios.csv')"
   ]
  },
  {
   "cell_type": "code",
   "execution_count": 3,
   "id": "15a51868",
   "metadata": {},
   "outputs": [],
   "source": [
    "zonas=pd.read_csv('clusters.csv')"
   ]
  },
  {
   "cell_type": "code",
   "execution_count": 4,
   "id": "99ffb76a",
   "metadata": {},
   "outputs": [],
   "source": [
    "df=df.merge(zonas,left_on='dr_no',right_on='dr_no')"
   ]
  },
  {
   "cell_type": "code",
   "execution_count": 5,
   "id": "22b6b25d",
   "metadata": {},
   "outputs": [],
   "source": [
    "df=df.set_index('dr_no')"
   ]
  },
  {
   "cell_type": "code",
   "execution_count": 6,
   "id": "ac9b1049",
   "metadata": {},
   "outputs": [
    {
     "name": "stdout",
     "output_type": "stream",
     "text": [
      "IC    81.205125\n",
      "AO    10.608220\n",
      "AA     7.758241\n",
      "JA     0.311602\n",
      "JO     0.116812\n",
      "Name: status, dtype: float64\n",
      "IC    75.380312\n",
      "AO    12.896385\n",
      "AA    11.222343\n",
      "JA     0.258829\n",
      "JO     0.242131\n",
      "Name: status, dtype: float64\n",
      "IC    75.852680\n",
      "AO    13.015991\n",
      "AA    10.440684\n",
      "JA     0.428996\n",
      "JO     0.261648\n",
      "Name: status, dtype: float64\n",
      "IC    84.994033\n",
      "AO     7.677873\n",
      "AA     6.942924\n",
      "JA     0.252664\n",
      "JO     0.132505\n",
      "Name: status, dtype: float64\n",
      "IC    74.961381\n",
      "AO    12.761099\n",
      "AA    11.767076\n",
      "JA     0.406340\n",
      "JO     0.104104\n",
      "Name: status, dtype: float64\n"
     ]
    }
   ],
   "source": [
    "for i in range(5):\n",
    "    temp=df[df.zonas==i]\n",
    "    print(100*temp.status.value_counts()/len(temp))\n",
    "    #print(temp.date_occ.value_counts())"
   ]
  },
  {
   "cell_type": "code",
   "execution_count": 7,
   "id": "072ba61d",
   "metadata": {},
   "outputs": [
    {
     "name": "stdout",
     "output_type": "stream",
     "text": [
      "2022-12-02    600\n",
      "2022-10-01    540\n",
      "2022-04-01    537\n",
      "2022-05-01    529\n",
      "2022-10-02    527\n",
      "             ... \n",
      "2020-03-21    198\n",
      "2023-02-26    197\n",
      "2021-01-24    193\n",
      "2020-12-29    191\n",
      "2023-02-27     73\n",
      "Name: date_occ, Length: 1154, dtype: int64\n",
      "2020-01-01    211\n",
      "2022-11-01    206\n",
      "2022-06-03    205\n",
      "2023-02-02    199\n",
      "2021-01-01    197\n",
      "             ... \n",
      "2020-04-04     64\n",
      "2020-03-19     63\n",
      "2023-02-25     58\n",
      "2023-02-26     57\n",
      "2023-02-27     19\n",
      "Name: date_occ, Length: 1154, dtype: int64\n",
      "2022-12-02    141\n",
      "2020-01-01    140\n",
      "2023-02-03    127\n",
      "2022-08-02    116\n",
      "2022-08-01    115\n",
      "             ... \n",
      "2021-03-14     37\n",
      "2023-02-26     35\n",
      "2020-10-07     35\n",
      "2023-02-25     26\n",
      "2023-02-27     14\n",
      "Name: date_occ, Length: 1154, dtype: int64\n",
      "2020-05-30    418\n",
      "2022-04-01    169\n",
      "2022-10-01    164\n",
      "2022-10-02    161\n",
      "2022-08-01    159\n",
      "             ... \n",
      "2023-02-24     60\n",
      "2023-02-25     58\n",
      "2020-03-24     58\n",
      "2023-02-26     53\n",
      "2023-02-27     23\n",
      "Name: date_occ, Length: 1154, dtype: int64\n",
      "2022-12-02    63\n",
      "2022-07-02    54\n",
      "2022-10-03    53\n",
      "2021-01-01    52\n",
      "2022-05-02    51\n",
      "              ..\n",
      "2020-11-21    11\n",
      "2020-01-14    10\n",
      "2023-02-13    10\n",
      "2022-05-22    10\n",
      "2023-02-27     7\n",
      "Name: date_occ, Length: 1154, dtype: int64\n"
     ]
    }
   ],
   "source": [
    "for i in range(5):\n",
    "    temp=df[df.zonas==i]\n",
    "    print(temp.date_occ.value_counts())"
   ]
  },
  {
   "cell_type": "code",
   "execution_count": 8,
   "id": "50722363",
   "metadata": {},
   "outputs": [
    {
     "name": "stdout",
     "output_type": "stream",
     "text": [
      "H    35.359611\n",
      "B    19.513485\n",
      "U    13.655434\n",
      "W    12.340835\n",
      "X     9.916825\n",
      "O     4.904899\n",
      "A     2.273561\n",
      "Name: vict_descent, dtype: float64\n",
      "H    37.278951\n",
      "W    24.168824\n",
      "U    14.260666\n",
      "O    12.017200\n",
      "B     6.843116\n",
      "X     3.156049\n",
      "A     1.403523\n",
      "Name: vict_descent, dtype: float64\n",
      "W    32.007385\n",
      "H    24.483345\n",
      "O    12.071668\n",
      "U    11.314615\n",
      "X     9.229400\n",
      "B     6.890506\n",
      "A     2.427881\n",
      "Name: vict_descent, dtype: float64\n",
      "W    33.603555\n",
      "H    14.380478\n",
      "B    14.020822\n",
      "X    12.368215\n",
      "U    10.976503\n",
      "O     9.986420\n",
      "A     2.704415\n",
      "Name: vict_descent, dtype: float64\n",
      "H    36.946739\n",
      "U    16.139432\n",
      "W    15.729733\n",
      "X    12.069313\n",
      "B    10.826785\n",
      "O     5.648465\n",
      "A     1.437303\n",
      "Name: vict_descent, dtype: float64\n"
     ]
    }
   ],
   "source": [
    "for i in range(5):\n",
    "    temp=df[df.zonas==i]\n",
    "    print((100*temp.vict_descent.value_counts()/len(temp))[0:7])"
   ]
  },
  {
   "cell_type": "code",
   "execution_count": 9,
   "id": "4743fb71",
   "metadata": {},
   "outputs": [
    {
     "name": "stdout",
     "output_type": "stream",
     "text": [
      "M    39.309217\n",
      "F    37.702893\n",
      "X    22.971684\n",
      "H     0.016207\n",
      "Name: vict_sex, dtype: float64\n",
      "M    45.689238\n",
      "F    37.506888\n",
      "X    16.792185\n",
      "H     0.011689\n",
      "Name: vict_sex, dtype: float64\n",
      "M    47.289221\n",
      "F    36.297349\n",
      "X    16.410774\n",
      "H     0.002656\n",
      "Name: vict_sex, dtype: float64\n",
      "M    42.106909\n",
      "F    34.948356\n",
      "X    22.938974\n",
      "H     0.005761\n",
      "Name: vict_sex, dtype: float64\n",
      "F    37.910538\n",
      "M    34.206461\n",
      "X    27.872926\n",
      "H     0.010075\n",
      "Name: vict_sex, dtype: float64\n"
     ]
    }
   ],
   "source": [
    "for i in range(5):\n",
    "    temp=df[df.zonas==i]\n",
    "    print((100*temp.vict_sex.value_counts()/len(temp))[0:7])"
   ]
  },
  {
   "cell_type": "code",
   "execution_count": 10,
   "id": "6b10a8ae",
   "metadata": {},
   "outputs": [
    {
     "data": {
      "text/plain": [
       "Index(['date_rptd', 'date_occ', 'time_occ', 'area', 'rpt_dist_no', 'part_1_2',\n",
       "       'crm_cd', 'mocodes', 'vict_age', 'vict_sex', 'vict_descent',\n",
       "       'premis_cd', 'weapon_used_cd', 'status', 'lat', 'lon', 'crm_cd_concat',\n",
       "       'ucr', 'premis', 'zonas'],\n",
       "      dtype='object')"
      ]
     },
     "execution_count": 10,
     "metadata": {},
     "output_type": "execute_result"
    }
   ],
   "source": [
    "df.columns"
   ]
  },
  {
   "cell_type": "code",
   "execution_count": 12,
   "id": "4cfaac72",
   "metadata": {},
   "outputs": [],
   "source": [
    "clusters = pickle.load(open('model_cluster.sav', 'rb'))"
   ]
  },
  {
   "cell_type": "code",
   "execution_count": 18,
   "id": "ab95e2c0",
   "metadata": {},
   "outputs": [],
   "source": [
    "centroides=clusters.cluster_centers_"
   ]
  },
  {
   "cell_type": "code",
   "execution_count": 27,
   "id": "4b380ad9",
   "metadata": {},
   "outputs": [],
   "source": [
    "x=[i[1] for i in centroides]\n",
    "y=[i[0] for i in centroides]"
   ]
  },
  {
   "cell_type": "code",
   "execution_count": 28,
   "id": "ce1923c6",
   "metadata": {},
   "outputs": [
    {
     "data": {
      "image/png": "[encoded data removed]",
      "text/plain": [
       "<Figure size 432x288 with 1 Axes>"
      ]
     },
     "metadata": {
      "needs_background": "light"
     },
     "output_type": "display_data"
    }
   ],
   "source": [
    "plt.scatter(df.lon,df.lat,c=df.zonas)\n",
    "plt.scatter(x,y,c='r')\n",
    "plt.show()"
   ]
  },
  {
   "cell_type": "code",
   "execution_count": null,
   "id": "762759a2",
   "metadata": {},
   "outputs": [],
   "source": []
  }
 ],
 "metadata": {
  "kernelspec": {
   "display_name": "Python 3 (ipykernel)",
   "language": "python",
   "name": "python3"
  },
  "language_info": {
   "codemirror_mode": {
    "name": "ipython",
    "version": 3
   },
   "file_extension": ".py",
   "mimetype": "text/x-python",
   "name": "python",
   "nbconvert_exporter": "python",
   "pygments_lexer": "ipython3",
   "version": "3.10.6"
  }
 },
 "nbformat": 4,
 "nbformat_minor": 5
}
