{
 "cells": [
  {
   "cell_type": "markdown",
   "id": "58a2bf54",
   "metadata": {
    "id": "58a2bf54"
   },
   "source": [
    "# Ejemplo de uso de los datos"
   ]
  },
  {
   "cell_type": "code",
   "execution_count": 1,
   "id": "cca65a01",
   "metadata": {
    "id": "cca65a01"
   },
   "outputs": [],
   "source": [
    "import pandas as pd"
   ]
  },
  {
   "cell_type": "code",
   "execution_count": 2,
   "id": "a4f6abff",
   "metadata": {
    "id": "a4f6abff"
   },
   "outputs": [],
   "source": [
    "import numpy as np"
   ]
  },
  {
   "cell_type": "code",
   "execution_count": 3,
   "id": "94fc0805",
   "metadata": {
    "id": "94fc0805"
   },
   "outputs": [],
   "source": [
    "class Nulo():\n",
    "    def __init__(self,data):\n",
    "        self.df=data\n",
    "        self.df.loc[self.df.vict_age==0,'vict_age']=np.nan\n",
    "        self.df.loc[(self.df.vict_age<0)|(self.df.vict_age>100),'vict_age']=np.nan\n",
    "    def porcentaje(self):\n",
    "        return (self.df).isna().sum()/len(self.df)*100\n",
    "    def cantidad(self):\n",
    "        return (self.df).isna().sum()\n",
    "    def limpieza(self):\n",
    "        self.df.drop('cross_street',axis=1,inplace=True)\n",
    "        crm_cd_concat=self.df[['crm_cd_1','crm_cd_2','crm_cd_3','crm_cd_4']].fillna('').astype('string')\n",
    "        crm_cd_concat=crm_cd_concat['crm_cd_1']+crm_cd_concat['crm_cd_2']+crm_cd_concat['crm_cd_3']+crm_cd_concat['crm_cd_4']\n",
    "        self.df['crm_cd_concat']=crm_cd_concat\n",
    "        self.df.drop(['crm_cd_1','crm_cd_2','crm_cd_3','crm_cd_4'],axis=1,inplace=True)\n",
    "        self.df['weapon_desc'].fillna('NO WEAPON',inplace=True)\n",
    "        self.df['weapon_used_cd'].fillna('0',inplace=True)\n",
    "        self.df.loc[self.df.vict_sex.isna(),'vict_sex']='X'\n",
    "        self.df.loc[self.df.vict_descent.isna(),'vict_descent']='U'\n",
    "        self.df.loc[self.df.lon==0,['lat','lon']]=np.nan\n",
    "        #return self.df"
   ]
  },
  {
   "cell_type": "code",
   "execution_count": 4,
   "id": "930a3c65",
   "metadata": {
    "colab": {
     "base_uri": "https://localhost:8080/",
     "height": 72
    },
    "id": "930a3c65",
    "outputId": "860a0b97-8621-469e-eb2c-25a9144d2c89"
   },
   "outputs": [
    {
     "data": {
      "text/plain": [
       "'#la api solo trae de 999 en 999\\n#histograma de edades\\nfrom Class_GetData import Get_Data\\nData= Get_Data()\\nData.create_df()\\nData.infer_dtypes()\\ndf= Data.df.copy()\\ndf.head()'"
      ]
     },
     "execution_count": 4,
     "metadata": {},
     "output_type": "execute_result"
    }
   ],
   "source": [
    "'''#la api solo trae de 999 en 999\n",
    "#histograma de edades\n",
    "from Class_GetData import Get_Data\n",
    "Data= Get_Data()\n",
    "Data.create_df()\n",
    "Data.infer_dtypes()\n",
    "df= Data.df.copy()\n",
    "df.head()'''"
   ]
  },
  {
   "cell_type": "code",
   "execution_count": 5,
   "id": "451e8519",
   "metadata": {
    "id": "451e8519"
   },
   "outputs": [],
   "source": [
    "#df.to_csv('datos_prueba.csv',index=False)"
   ]
  },
  {
   "cell_type": "code",
   "execution_count": 6,
   "id": "fdaaed57",
   "metadata": {
    "id": "fdaaed57"
   },
   "outputs": [],
   "source": [
    "df=pd.read_csv('lapd.csv')"
   ]
  },
  {
   "cell_type": "code",
   "execution_count": 7,
   "id": "fc06d1cb",
   "metadata": {
    "id": "fc06d1cb"
   },
   "outputs": [],
   "source": [
    "#data.columns"
   ]
  },
  {
   "cell_type": "code",
   "execution_count": 8,
   "id": "633d2228",
   "metadata": {
    "id": "633d2228"
   },
   "outputs": [],
   "source": [
    "#df=data.copy()"
   ]
  },
  {
   "cell_type": "code",
   "execution_count": 9,
   "id": "bbee44d4",
   "metadata": {
    "colab": {
     "base_uri": "https://localhost:8080/"
    },
    "id": "bbee44d4",
    "outputId": "84f7a075-2524-41ca-865e-84bb47f24193"
   },
   "outputs": [
    {
     "data": {
      "text/plain": [
       "Index(['dr_no', 'date_rptd', 'date_occ', 'time_occ', 'area', 'area_name',\n",
       "       'rpt_dist_no', 'part_1_2', 'crm_cd', 'crm_cd_desc', 'mocodes',\n",
       "       'vict_age', 'vict_sex', 'vict_descent', 'premis_cd', 'premis_desc',\n",
       "       'weapon_used_cd', 'weapon_desc', 'status', 'status_desc', 'crm_cd_1',\n",
       "       'location', 'lat', 'lon', 'crm_cd_2', 'cross_street'],\n",
       "      dtype='object')"
      ]
     },
     "execution_count": 9,
     "metadata": {},
     "output_type": "execute_result"
    }
   ],
   "source": [
    "df.columns"
   ]
  },
  {
   "cell_type": "code",
   "execution_count": null,
   "id": "7e7d22f9",
   "metadata": {
    "id": "7e7d22f9"
   },
   "outputs": [],
   "source": [
    "from Class_ContGraphs import Graphs_Cont"
   ]
  },
  {
   "cell_type": "code",
   "execution_count": null,
   "id": "00273b2c",
   "metadata": {
    "id": "00273b2c"
   },
   "outputs": [],
   "source": [
    "graphs= Graphs_Cont()"
   ]
  },
  {
   "cell_type": "code",
   "execution_count": null,
   "id": "1c4514a4",
   "metadata": {
    "id": "1c4514a4"
   },
   "outputs": [],
   "source": [
    "graphs.box(df)"
   ]
  },
  {
   "cell_type": "code",
   "execution_count": null,
   "id": "cba7703d",
   "metadata": {
    "id": "cba7703d"
   },
   "outputs": [],
   "source": [
    "graphs.heatMap(df)"
   ]
  },
  {
   "cell_type": "code",
   "execution_count": null,
   "id": "9a99787a",
   "metadata": {
    "id": "9a99787a"
   },
   "outputs": [],
   "source": [
    "graphs.scatter(df)"
   ]
  },
  {
   "cell_type": "code",
   "execution_count": null,
   "id": "d18e63c0",
   "metadata": {
    "id": "d18e63c0"
   },
   "outputs": [],
   "source": [
    "graphs.hist(df)"
   ]
  },
  {
   "cell_type": "code",
   "execution_count": null,
   "id": "436febca",
   "metadata": {
    "id": "436febca"
   },
   "outputs": [],
   "source": [
    "from eda.disc_graph import Discrete"
   ]
  },
  {
   "cell_type": "code",
   "execution_count": null,
   "id": "9c945c61",
   "metadata": {
    "id": "9c945c61"
   },
   "outputs": [],
   "source": [
    "gen = Discrete(df)\n",
    "gen.pie_chart()"
   ]
  },
  {
   "cell_type": "code",
   "execution_count": null,
   "id": "e80c8029",
   "metadata": {
    "id": "e80c8029"
   },
   "outputs": [],
   "source": [
    "gen.freq_table()"
   ]
  },
  {
   "cell_type": "code",
   "execution_count": null,
   "id": "0240199e",
   "metadata": {
    "id": "0240199e"
   },
   "outputs": [],
   "source": [
    "gen.bar_chart()"
   ]
  },
  {
   "cell_type": "code",
   "execution_count": null,
   "id": "d630f66e",
   "metadata": {
    "id": "d630f66e"
   },
   "outputs": [],
   "source": [
    "gen.time_series()"
   ]
  },
  {
   "cell_type": "markdown",
   "id": "05820bec",
   "metadata": {
    "id": "05820bec"
   },
   "source": [
    "## Empieza mi parte"
   ]
  },
  {
   "cell_type": "code",
   "execution_count": null,
   "id": "466d3b98",
   "metadata": {
    "colab": {
     "base_uri": "https://localhost:8080/"
    },
    "id": "466d3b98",
    "outputId": "faffe965-5033-4d6c-e6d9-9f5bbd905787"
   },
   "outputs": [],
   "source": [
    "nulos=Nulo(df)\n",
    "print(nulos.porcentaje())"
   ]
  },
  {
   "cell_type": "code",
   "execution_count": null,
   "id": "ef92c3e0",
   "metadata": {
    "colab": {
     "base_uri": "https://localhost:8080/"
    },
    "id": "ef92c3e0",
    "outputId": "e47abfc6-b480-48f4-81d6-eb904f5ce0dc"
   },
   "outputs": [],
   "source": [
    "print(nulos.cantidad())"
   ]
  },
  {
   "cell_type": "code",
   "execution_count": null,
   "id": "b511d6c0",
   "metadata": {
    "id": "b511d6c0"
   },
   "outputs": [],
   "source": [
    "nulos.limpieza()"
   ]
  },
  {
   "cell_type": "code",
   "execution_count": null,
   "id": "9521b0f6",
   "metadata": {
    "colab": {
     "base_uri": "https://localhost:8080/"
    },
    "id": "9521b0f6",
    "outputId": "b0995100-99ac-4687-c729-bd12337b437f"
   },
   "outputs": [],
   "source": [
    "nulos.porcentaje()"
   ]
  },
  {
   "cell_type": "markdown",
   "id": "G84YtSaf8K6J",
   "metadata": {
    "id": "G84YtSaf8K6J"
   },
   "source": [
    "# Tratamiento Nulos Latitud y Longitud"
   ]
  },
  {
   "cell_type": "code",
   "execution_count": null,
   "id": "b55ae9d4",
   "metadata": {
    "id": "b55ae9d4"
   },
   "outputs": [],
   "source": [
    "# Eliminar espacios para normalizar las direcciones\n",
    "df.location = df.location.str.strip()\n",
    "df.location = df.location.apply(lambda x: \"  \".join(x.split()))\n",
    "df.location = df.location.str.replace(\" \", \"\")\n",
    "df.location = df.location.str.upper()"
   ]
  },
  {
   "cell_type": "code",
   "execution_count": null,
   "id": "vBp0-cBw89gi",
   "metadata": {
    "colab": {
     "base_uri": "https://localhost:8080/"
    },
    "id": "vBp0-cBw89gi",
    "outputId": "e3ec4172-9d67-4c17-f80d-041362d95b04"
   },
   "outputs": [],
   "source": [
    "df.location.value_counts()"
   ]
  },
  {
   "cell_type": "code",
   "execution_count": null,
   "id": "JwsPqAXq9R8Y",
   "metadata": {
    "id": "JwsPqAXq9R8Y"
   },
   "outputs": [],
   "source": [
    "# Catalogo de direcciones con sus correspondientes latitudes y longitudes, debe actualizarse cada que haya nulos en lat y lon\n",
    "directorio = pd.read_excel('Directorio_Lat_Lon).xlsx')"
   ]
  },
  {
   "cell_type": "code",
   "execution_count": null,
   "id": "meT_Ao_CAr-O",
   "metadata": {
    "id": "meT_Ao_CAr-O"
   },
   "outputs": [],
   "source": [
    "directorio.location = directorio.location.str.replace(\" \", \"\")\n",
    "directorio.location = directorio.location.str.upper()"
   ]
  },
  {
   "cell_type": "code",
   "execution_count": null,
   "id": "q5D4qP15A6Od",
   "metadata": {
    "colab": {
     "base_uri": "https://localhost:8080/"
    },
    "id": "q5D4qP15A6Od",
    "outputId": "0a77127a-2daa-412f-ba61-1b0a3ed4f979"
   },
   "outputs": [],
   "source": [
    "directorio.value_counts()"
   ]
  },
  {
   "cell_type": "code",
   "execution_count": null,
   "id": "gD-5IMx9-Odf",
   "metadata": {
    "id": "gD-5IMx9-Odf"
   },
   "outputs": [],
   "source": [
    "loc_lat = dict(zip(directorio.location,directorio.lat))"
   ]
  },
  {
   "cell_type": "code",
   "execution_count": null,
   "id": "sQFcNRbL88A3",
   "metadata": {
    "id": "sQFcNRbL88A3"
   },
   "outputs": [],
   "source": [
    "loc_lon = dict(zip(directorio.location,directorio.lon))"
   ]
  },
  {
   "cell_type": "code",
   "execution_count": null,
   "id": "qauqnNLV-em_",
   "metadata": {
    "colab": {
     "base_uri": "https://localhost:8080/"
    },
    "id": "qauqnNLV-em_",
    "outputId": "67d90601-39f7-4dc6-97c0-5687801c855c"
   },
   "outputs": [],
   "source": [
    "df.isna().sum()"
   ]
  },
  {
   "cell_type": "code",
   "execution_count": null,
   "id": "KAACzI-j-gnA",
   "metadata": {
    "id": "KAACzI-j-gnA"
   },
   "outputs": [],
   "source": [
    "df['new_lat'] = df.location\n",
    "df['new_lon'] = df.location"
   ]
  },
  {
   "cell_type": "code",
   "execution_count": null,
   "id": "C9wL1mZg-xXX",
   "metadata": {
    "id": "C9wL1mZg-xXX"
   },
   "outputs": [],
   "source": [
    "df.new_lat = df.new_lat.map(loc_lat)\n",
    "df.new_lon = df.new_lon.map(loc_lon)"
   ]
  },
  {
   "cell_type": "code",
   "execution_count": null,
   "id": "nQtSE1qT-8zW",
   "metadata": {
    "colab": {
     "base_uri": "https://localhost:8080/"
    },
    "id": "nQtSE1qT-8zW",
    "outputId": "3dabc7fa-9b04-463d-8b00-d4ca782f8228"
   },
   "outputs": [],
   "source": [
    "df.isna().sum()"
   ]
  },
  {
   "cell_type": "code",
   "execution_count": null,
   "id": "u7yxYKkh-ta6",
   "metadata": {
    "id": "u7yxYKkh-ta6"
   },
   "outputs": [],
   "source": [
    "df.drop(['lat','lon','location'],axis=1,inplace=True)"
   ]
  },
  {
   "cell_type": "code",
   "execution_count": null,
   "id": "tkVWiegx_0p6",
   "metadata": {
    "colab": {
     "base_uri": "https://localhost:8080/",
     "height": 209
    },
    "id": "tkVWiegx_0p6",
    "outputId": "1d1f14e2-2065-45c2-dfc6-1e9383307c3d"
   },
   "outputs": [],
   "source": [
    "# Comprobacion de un valor anteriormente nulo\n",
    "df[df.dr_no==200311971]"
   ]
  },
  {
   "cell_type": "markdown",
   "id": "qxq6IUtFrK8N",
   "metadata": {
    "id": "qxq6IUtFrK8N"
   },
   "source": [
    "# Fin limpieza Nulos Latitud y Longitud"
   ]
  },
  {
   "cell_type": "code",
   "execution_count": null,
   "id": "JTTMq7h2-klg",
   "metadata": {
    "id": "JTTMq7h2-klg"
   },
   "outputs": [],
   "source": []
  },
  {
   "cell_type": "code",
   "execution_count": null,
   "id": "Yr2Q-fQY8ieo",
   "metadata": {
    "id": "Yr2Q-fQY8ieo"
   },
   "outputs": [],
   "source": []
  },
  {
   "cell_type": "code",
   "execution_count": null,
   "id": "d7f10b36",
   "metadata": {
    "id": "d7f10b36"
   },
   "outputs": [],
   "source": [
    "#time_occ,area,rpt_dist_no,part_1_2,mocodes,vict_age,vict_sex,vict_descent,premis_cd,weapon_used_cd,status,location,lat,lon\n",
    "#num=occ,area,vict_age,lat,lon\n",
    "#cat=area,rpt_dist_no,part_1_2,mocodes,vict_sex,vict_descent,premis_cd,weapon_used_cd,status,location"
   ]
  },
  {
   "cell_type": "code",
   "execution_count": null,
   "id": "6c7c1097",
   "metadata": {
    "id": "6c7c1097",
    "outputId": "542dbff2-8612-4272-a911-f58b7b47dd5a"
   },
   "outputs": [],
   "source": [
    "#df.mocodes.value_counts()"
   ]
  },
  {
   "cell_type": "code",
   "execution_count": null,
   "id": "b4bf2971",
   "metadata": {
    "id": "b4bf2971"
   },
   "outputs": [],
   "source": [
    "#premis=dict(zip(df['premis_cd'],df['premis_desc']))"
   ]
  },
  {
   "cell_type": "code",
   "execution_count": null,
   "id": "604bd4c5",
   "metadata": {
    "id": "604bd4c5"
   },
   "outputs": [],
   "source": [
    "#premis"
   ]
  },
  {
   "cell_type": "code",
   "execution_count": null,
   "id": "fc925625",
   "metadata": {
    "id": "fc925625"
   },
   "outputs": [],
   "source": [
    "#(df.loc[df.premis_desc.isna(),'premis_cd']).value_counts()#debo quitar la descripción y guardar el diccionario de arriba"
   ]
  },
  {
   "cell_type": "code",
   "execution_count": null,
   "id": "7e5e8fd5",
   "metadata": {
    "id": "7e5e8fd5"
   },
   "outputs": [],
   "source": [
    "#df[df.premis_cd.isna()]#no se tomaron los datos de la víctima porque fueron robos"
   ]
  },
  {
   "cell_type": "code",
   "execution_count": null,
   "id": "cb0f7a85",
   "metadata": {
    "id": "cb0f7a85"
   },
   "outputs": [],
   "source": [
    "#df.vict_age.value_counts()"
   ]
  },
  {
   "cell_type": "code",
   "execution_count": null,
   "id": "5f8b406e",
   "metadata": {
    "id": "5f8b406e"
   },
   "outputs": [],
   "source": [
    "#df[(df['vict_sex'].isna()) & (df['crm_cd']==510)].mocodes.value_counts(dropna=False)#.crm_cd.value_counts()"
   ]
  },
  {
   "cell_type": "code",
   "execution_count": null,
   "id": "bda0b37d",
   "metadata": {
    "id": "bda0b37d"
   },
   "outputs": [],
   "source": [
    "#len(df['premis_cd'].unique())"
   ]
  },
  {
   "cell_type": "code",
   "execution_count": null,
   "id": "473c46d1",
   "metadata": {
    "id": "473c46d1"
   },
   "outputs": [],
   "source": [
    "#df[df['premis_desc'].isna()]['premis_cd'].value_counts()"
   ]
  },
  {
   "cell_type": "code",
   "execution_count": null,
   "id": "95cb1f3c",
   "metadata": {
    "id": "95cb1f3c"
   },
   "outputs": [],
   "source": [
    "#len(df)"
   ]
  },
  {
   "cell_type": "markdown",
   "id": "675f2158",
   "metadata": {
    "id": "675f2158"
   },
   "source": [
    "### Datos víctimas"
   ]
  },
  {
   "cell_type": "code",
   "execution_count": null,
   "id": "f4cd2725",
   "metadata": {
    "id": "f4cd2725"
   },
   "outputs": [],
   "source": [
    "#df.vict_age.value_counts().sort_index()"
   ]
  },
  {
   "cell_type": "code",
   "execution_count": null,
   "id": "ed76fa47",
   "metadata": {
    "id": "ed76fa47"
   },
   "outputs": [],
   "source": [
    "#crm_ni=set(df[df.vict_age==2]['crm_cd'].unique())\n",
    "#len(crm_ni)"
   ]
  },
  {
   "cell_type": "code",
   "execution_count": null,
   "id": "bbca2630",
   "metadata": {
    "id": "bbca2630"
   },
   "outputs": [],
   "source": [
    "#crm_ni.update(df[df.vict_age==3]['crm_cd'].unique())\n",
    "#len(crm_ni)"
   ]
  },
  {
   "cell_type": "code",
   "execution_count": null,
   "id": "22e12b6b",
   "metadata": {
    "id": "22e12b6b",
    "outputId": "89d09999-d844-4c71-bf6e-4bf3f573d69d"
   },
   "outputs": [],
   "source": [
    "#sum(df.loc[df.vict_age==0,'crm_cd'].isin(crm_ni))"
   ]
  },
  {
   "cell_type": "code",
   "execution_count": null,
   "id": "fb93e676",
   "metadata": {
    "id": "fb93e676"
   },
   "outputs": [],
   "source": [
    "#df[df.vict_age==0]#['crm_cd_desc'].value_counts()"
   ]
  },
  {
   "cell_type": "code",
   "execution_count": null,
   "id": "c0f7da2c",
   "metadata": {
    "id": "c0f7da2c"
   },
   "outputs": [],
   "source": [
    "#lista=list(df.vict_age.unique())"
   ]
  },
  {
   "cell_type": "code",
   "execution_count": null,
   "id": "99497eb5",
   "metadata": {
    "id": "99497eb5"
   },
   "outputs": [],
   "source": [
    "#lista=[float(x) for x in lista]"
   ]
  },
  {
   "cell_type": "code",
   "execution_count": null,
   "id": "c6d61377",
   "metadata": {
    "id": "c6d61377"
   },
   "outputs": [],
   "source": [
    "#sorted(lista)"
   ]
  },
  {
   "cell_type": "code",
   "execution_count": null,
   "id": "427dc38e",
   "metadata": {
    "id": "427dc38e"
   },
   "outputs": [],
   "source": [
    "#df.vict_age.value_counts().sort_index()"
   ]
  },
  {
   "cell_type": "code",
   "execution_count": null,
   "id": "a745d41c",
   "metadata": {
    "id": "a745d41c"
   },
   "outputs": [],
   "source": [
    "#crear una lista con los crímenes ocurridos hasta los 3 años y si no está en el 0 se quita"
   ]
  },
  {
   "cell_type": "code",
   "execution_count": null,
   "id": "b39f5a78",
   "metadata": {
    "id": "b39f5a78"
   },
   "outputs": [],
   "source": [
    "#pd.to_numeric(df.area_name)"
   ]
  },
  {
   "cell_type": "code",
   "execution_count": null,
   "id": "7c267751",
   "metadata": {
    "id": "7c267751"
   },
   "outputs": [],
   "source": [
    "#df.vict_descent.value_counts()"
   ]
  },
  {
   "cell_type": "code",
   "execution_count": null,
   "id": "afc45790",
   "metadata": {
    "id": "afc45790"
   },
   "outputs": [],
   "source": []
  },
  {
   "cell_type": "code",
   "execution_count": null,
   "id": "de7f86f0",
   "metadata": {
    "id": "de7f86f0"
   },
   "outputs": [],
   "source": []
  }
 ],
 "metadata": {
  "colab": {
   "provenance": []
  },
  "kernelspec": {
   "display_name": "Python 3 (ipykernel)",
   "language": "python",
   "name": "python3"
  },
  "language_info": {
   "codemirror_mode": {
    "name": "ipython",
    "version": 3
   },
   "file_extension": ".py",
   "mimetype": "text/x-python",
   "name": "python",
   "nbconvert_exporter": "python",
   "pygments_lexer": "ipython3",
   "version": "3.10.6"
  }
 },
 "nbformat": 4,
 "nbformat_minor": 5
}
