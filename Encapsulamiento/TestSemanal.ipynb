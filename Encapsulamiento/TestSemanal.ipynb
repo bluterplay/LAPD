{
 "cells": [
  {
   "cell_type": "markdown",
   "id": "be019fe7-8c3e-4a80-a9f1-aa14ecca9aec",
   "metadata": {},
   "source": [
    "# Modules"
   ]
  },
  {
   "cell_type": "code",
   "execution_count": 79,
   "id": "304124f4-1da9-4950-b2ea-f23a52ac4971",
   "metadata": {
    "tags": []
   },
   "outputs": [],
   "source": [
    "import missingno  as msno\n",
    "import seaborn as sns\n",
    "import matplotlib.pyplot as plt\n",
    "import warnings\n",
    "warnings.filterwarnings('ignore')"
   ]
  },
  {
   "cell_type": "markdown",
   "id": "78c0b8aa-2225-4605-a9d3-1b312d6fccff",
   "metadata": {},
   "source": [
    "## Get data"
   ]
  },
  {
   "cell_type": "code",
   "execution_count": 80,
   "id": "54842035-736e-4eb0-92e5-984f7cfd9dec",
   "metadata": {
    "tags": []
   },
   "outputs": [],
   "source": [
    "import json\n",
    "import pandas as pd\n",
    "from sodapy import Socrata\n",
    "from datetime import datetime,timedelta\n",
    "\n",
    "\n",
    "class Get_Data():\n",
    "    def __init__(self, df= pd.DataFrame()):\n",
    "        self.df= df\n",
    "    \n",
    "    def create_df(self):\n",
    "        \n",
    "        client = Socrata(\"data.lacity.org\", None)\n",
    "        results = client.get(\"2nrs-mtv8\", limit=800000)\n",
    "        results_df = pd.DataFrame.from_records(results)\n",
    "        results_df.to_csv(r'lapd.csv')\n",
    "        self.df = results_df\n",
    "    \n",
    "    \n",
    "    def create_df_n_days(self,n):\n",
    "        client = Socrata(\"data.lacity.org\", None)\n",
    "        # filtro para traer los ultimos n días\n",
    "        date_filter = (datetime.utcnow() - timedelta(days=n)).strftime(\"%Y-%m-%dT%H:%M:%S.%f\")\n",
    "        results = client.get(\"2nrs-mtv8\", where=f\"date_rptd >= '{date_filter}'\", limit=800000)\n",
    "        results_df = pd.DataFrame.from_records(results)\n",
    "        results_df.to_csv(r'lapd_'+str(n)+'_days.csv')\n",
    "        self.df = results_df       \n",
    "\n",
    "        \n",
    "    def infer_dtypes(self):\n",
    "        ls_dates=[\"date_rptd\", \"date_occ\"]\n",
    "        ls_numeric=[\"vict_age\",\"lat\", \"lon\"]\n",
    "        ls_strings=[x for x in self.df.columns if x not in ls_dates+ls_numeric]\n",
    "        for date in ls_dates:\n",
    "            self.df[date]= pd.to_datetime(self.df[date])\n",
    "        for num in ls_numeric:\n",
    "            self.df[num]= pd.to_numeric(self.df[num])\n",
    "        for s in ls_strings:\n",
    "            self.df[s].apply(lambda x: str(x).split(','))\n",
    "        self.df[\"time_occ\"]=self.df[\"time_occ\"].apply(lambda x: int(x[0:2])*60+int(x[2:]))"
   ]
  },
  {
   "cell_type": "code",
   "execution_count": 81,
   "id": "6f57646e-55ff-41f0-a632-77331f9620c1",
   "metadata": {
    "tags": []
   },
   "outputs": [],
   "source": [
    "data_loader= Get_Data()"
   ]
  },
  {
   "cell_type": "code",
   "execution_count": 82,
   "id": "4d31ce1a-2136-48fb-8fb2-5114e466fdc7",
   "metadata": {
    "tags": []
   },
   "outputs": [
    {
     "name": "stderr",
     "output_type": "stream",
     "text": [
      "WARNING:root:Requests made without an app_token will be subject to strict throttling limits.\n"
     ]
    }
   ],
   "source": [
    "data_loader.create_df()"
   ]
  },
  {
   "cell_type": "code",
   "execution_count": 83,
   "id": "f425515c-8e54-4c11-afa9-dc4301ac6d02",
   "metadata": {
    "tags": []
   },
   "outputs": [],
   "source": [
    "data_loader.infer_dtypes()"
   ]
  },
  {
   "cell_type": "code",
   "execution_count": 84,
   "id": "2ef10e72-64e6-489f-a0b8-a23294b75a46",
   "metadata": {
    "tags": []
   },
   "outputs": [],
   "source": [
    "df_all=data_loader.df"
   ]
  },
  {
   "cell_type": "code",
   "execution_count": 85,
   "id": "62af2a43-1f14-4983-a6ad-9c769e7f4d3c",
   "metadata": {
    "tags": []
   },
   "outputs": [],
   "source": [
    "df=df_all.sort_values(\"date_rptd\").reset_index()"
   ]
  },
  {
   "cell_type": "code",
   "execution_count": 86,
   "id": "0e1fd3e0-3f16-40f8-ae17-006abc6fa76d",
   "metadata": {
    "tags": []
   },
   "outputs": [],
   "source": [
    "df=df[df[\"date_rptd\"]<=\"2023-02-27\"].drop(columns=[\"index\"])"
   ]
  },
  {
   "cell_type": "code",
   "execution_count": 132,
   "id": "b5e6829e-f8c3-4370-9cde-c769dd4586fb",
   "metadata": {
    "tags": []
   },
   "outputs": [],
   "source": [
    "df.to_csv(\"Train.csv\", index=False)"
   ]
  },
  {
   "cell_type": "code",
   "execution_count": 87,
   "id": "02396215-e475-47f3-8e78-d98d1aba9b22",
   "metadata": {
    "tags": []
   },
   "outputs": [],
   "source": [
    "data= df.copy()"
   ]
  },
  {
   "cell_type": "markdown",
   "id": "de34c32e-8724-4f0d-b483-deec42799407",
   "metadata": {},
   "source": [
    "## Cleaner"
   ]
  },
  {
   "cell_type": "code",
   "execution_count": 88,
   "id": "199fae62-87d3-4ee3-9f43-f638e8f9c827",
   "metadata": {
    "tags": []
   },
   "outputs": [],
   "source": [
    "from pandas import DataFrame, read_excel, read_csv\n",
    "from numpy import nan\n",
    "import csv\n",
    "import pickle\n",
    "\n",
    "\n",
    "class ProductionCleaner():\n",
    "\n",
    "    def __init__(self,data):\n",
    "        self.df=data.copy()\n",
    "\n",
    "        \n",
    "    def manageNan(self):\n",
    "        # fill nan's and typos\n",
    "        #self.df.loc[self.df.vict_age==0,'vict_age']=nan\n",
    "        #self.df.loc[(self.df.vict_age<0)|(self.df.vict_age>100),'vict_age']=nan\n",
    "        self.df['weapon_used_cd'].fillna('0',inplace=True)\n",
    "        #self.df[\"premis_cd\"].fillna('746',inplace=True)\n",
    "        self.df.loc[self.df.vict_sex.isna(),'vict_sex']='X'\n",
    "        self.df.loc[self.df.vict_sex=='H','vict_sex']=='X'\n",
    "        self.df.loc[self.df.vict_descent.isna(),'vict_descent']='U'\n",
    "        self.df.loc[self.df.lon==0,['lat','lon']]=nan\n",
    "    \n",
    "    def dropColumns(self):\n",
    "        # Drop columns\n",
    "        self.df.drop(['crm_cd_1','crm_cd_2','crm_cd_3','crm_cd_4','area_name','time_occ',\n",
    "                      'crm_cd_desc','premis_desc','weapon_desc', 'status_desc','area_name',\n",
    "                      'date_occ','area','rpt_dist_no','part_1_2','mocodes', \"vict_age\"],axis=1,inplace=True)\n",
    "        try:\n",
    "            self.df.drop(self.df.loc[self.df.status=='CC'].index,inplace=True)\n",
    "        except:\n",
    "            pass\n",
    "        \n",
    "    def manageLocation(self):\n",
    "        # Delete spaces\n",
    "        self.df.location = self.df.location.str.strip()\n",
    "        self.df.location = self.df.location.apply(lambda x: \"  \".join(x.split()))\n",
    "        self.df.location = self.df.location.str.replace(\" \", \"\")\n",
    "        self.df.location = self.df.location.str.upper()\n",
    "        # Replace with dictonary values\n",
    "        directorio = read_csv('Data/Cleaner/Directorio_Lat_Lon.csv')\n",
    "        directorio.location = directorio.location.str.replace(\" \", \"\")\n",
    "        directorio.location = directorio.location.str.upper()\n",
    "        loc_lat = dict(zip(directorio.location,directorio.lat))\n",
    "        loc_lon = dict(zip(directorio.location,directorio.lon))\n",
    "    \n",
    "        # Verificar si las columnas \"lat\" o \"lon\" tienen valores faltantes\n",
    "        mask = self.df['lat'].isna() | self.df['lon'].isna()\n",
    "        # Verificar si los valores de la columna \"location\" están en las claves del diccionario \"loc_lat\"\n",
    "        not_found = ~self.df.loc[mask, 'location'].isin(loc_lat.keys())\n",
    "        self.df.loc[mask & ~not_found, 'lat'] = self.df.loc[mask & ~not_found, 'location'].map(loc_lat)\n",
    "        self.df.loc[mask & ~not_found, 'lon'] = self.df.loc[mask & ~not_found, 'location'].map(loc_lon)\n",
    "        ## Aqui duda, borramos los que no estan en el diccionario y son nulos o que sugieren?\n",
    "        self.df.drop('location',axis=1,inplace=True)\n",
    "        \n",
    "    def clean(self):\n",
    "        ## Esta funcion ya nos deja los datos sin nulos\n",
    "        self.df.drop('cross_street',axis=1,inplace=True)\n",
    "        self.manageNan()\n",
    "        self.dropColumns()\n",
    "        print(self.df.columns)\n",
    "        self.manageLocation()\n",
    "        \n",
    "    \n",
    "            \n",
    "    def clipping(self):\n",
    "        self.df['lon']=self.df['lon'].clip(-118.7, -118.1)\n",
    "        self.df['lat']=self.df['lat'].clip(33.6, 34.4)\n",
    "        \n",
    "    def lugar(self):\n",
    "        pl=[[[119,120,121,145,146.0,150.0,501.0, 502.0, 504.0,507.0, 508.0, 509.0, 510.0,511,515.0, 516.0,707],['vivienda']],\n",
    "            [[101.0, 102.0, 103.0, 104.0, 105.0, 106.0, 109.0, 110.0,116,117,\n",
    "              124.0, 125.0,128,136.0, 137.0,152,154,158,415,705.0,748.0],['calle']],\n",
    "            [[725.0, 726.0,240.0,732.0,752,753,756.0],['gobierno']],\n",
    "            [[123,142,156,204.0, 213.0],['estacionamiento']],\n",
    "            [[151.0,157.0,238,241,254,302,303,304.0, 305.0,702],['establecimiento']],\n",
    "            [[201.0, 202.0, 203.0,205.0, 206.0,208,209.0, 210.0, 211.0,217.0, 218.0,\n",
    "                                219.0, 220.0, 221.0, 222.0, 223.0, 224.0, 225.0,228,233.0,242,244.0, 245.0,\n",
    "                                247.0, 248.0, 249.0,250.0, 251.0, 252.0,255,401.0, 402.0, 404.0, 405.0,\n",
    "                                406.0, 407.0, 408.0,409.0, 410.0, 411.0, 412.0, 413.0, 414.0,417.0,703,\n",
    "                                148.0,709,301,216\n",
    "                                ],['establecimiento_publico']],\n",
    "            [[207,706.0,733.0,735.0],['nocturno']],\n",
    "            [[503,505,519.0],['hotel']],\n",
    "            [[111.0, 112.0, 113.0, 114.0, 115.0,122,126,212.0, 214.0, 215.0,801.0, 802.0,804,809.0, 810.0,\n",
    "                 811.0, 834.0, 835.0, 836.0, 868.0, 869.0, 870.0, 871.0, 872.0, 873.0,\n",
    "                 874.0, 875.0, 876.0, 877.0, 878.0, 879.0, 880.0, 882.0, 883.0, 884.0,\n",
    "                                885.0, 889.0, 890.0, 891.0, 892.0, 893.0, 894.0, 895.0, 896.0, 897.0,\n",
    "                                898.0, 900.0, 901.0, 902.0, 903.0, 904.0, 905.0, 906.0, 907.0, 908.0,\n",
    "                                909.0, 910.0, 911.0, 912.0, 913.0, 915.0, 916.0, 917.0, 918.0, 919.0,\n",
    "                                920.0, 921.0, 922.0, 931.0, 932.0, 933.0, 934.0, 935.0, 936.0, 937.0,\n",
    "                                940.0, 941.0, 942.0, 943.0, 944.0, 945.0, 946.0, 947.0, 948.0, 949.0,\n",
    "                                950.0, 951.0, 952.0, 953.0, 954.0, 956.0, 957.0, 958.0, 961.0, 962.0,\n",
    "                                963.0, 964.0, 965.0, 966.0, 967.0, 968.0, 969.0, 970.0, 971.0,129,135\n",
    "                               ],['transporte']],\n",
    "            [[138,143,727,140],['escaleras']],\n",
    "            [[139,108,147.0,712.0,713,144,714.0, 715.0, 716.0, 717.0, 718.0,711,734.0, 736.0, 737.0, 738.0, 739.0,\n",
    "                  742.0, 743.0,754,757.0, 758.0],['recreacion']],\n",
    "            [[141,149,155,745.0,107.0,118,506.0,518.0,127],['espacio_abierto']],\n",
    "            [[227.0,234.0, 235.0, 236.0, 237.0,239,246.0,253,403,701.0,719,755],['medico']],\n",
    "            [[229,601,602.0, 603.0, 604.0, 605.0, 606.0, 607.0, 608.0],['financiero']],\n",
    "            [[230.0, 512.0,514,517],['cuidado_personas']],\n",
    "            [[231.0,704.0,720.0, 721.0, 722.0, 723.0,724.0,729],['escuela']],\n",
    "            [[232.0,245.0,513,710,744.0,746.0],['otro']],\n",
    "            [[709.0, 730.0, 731.0,740],['iglesia']],\n",
    "            [[750.0, 751.0],['internet']]]\n",
    "        premis=[]\n",
    "        for secc in pl:\n",
    "            premis+=list(zip(secc[0],secc[1]*len(secc[0])))\n",
    "        premis=dict(premis)\n",
    "        self.df.premis_cd= self.df.premis_cd.astype(\"float\")\n",
    "        self.df['premis']=self.df[\"premis_cd\"].apply(lambda x: premis[x] if x in premis.keys() else \"otro\")\n",
    "    def zonas(self):\n",
    "        clusters=pickle.load(open('models/Cleaner/cluster5.sav','rb'))\n",
    "        self.df['zonas']=clusters.predict(self.df[['lat','lon']])\n",
    "    def categorias(self):\n",
    "        columnas=['weapon_used_cd','premis']\n",
    "        for col in columnas:\n",
    "            with open(\"Data/Cleaner/\"+col+\"_categorias\", \"rb\") as fp:  \n",
    "                lista = pickle.load(fp)\n",
    "            self.df[col]=self.df[col].apply(lambda x: x if x in lista else 'Others')\n",
    "    def simple_imp(self):\n",
    "        with open(\"Data/Cleaner/imputer_mode\", \"rb\") as fp:\n",
    "            imputador= pickle.load(fp)\n",
    "        self.df[['premis_cd','crm_cd','status']]=imputador.transform(self.df[['premis_cd','crm_cd','status']])\n",
    "    def super_clases(self):\n",
    "        temp=read_csv('Data/Cleaner/crcode_Supclass.csv')\n",
    "        #temp.drop('NewCode',axis=1,inplace=True)\n",
    "        self.df.crm_cd= self.df.crm_cd.astype(\"int\")\n",
    "        self.df=self.df.merge(temp, how='left', left_on='crm_cd', right_on='crm_cd')\n",
    "        self.df.drop('crm_cd',axis=1,inplace=True)\n",
    "        self.df.rename(columns = {'Superclass':'crime', 'NewCode': 'crm_cd'}, inplace = True)\n"
   ]
  },
  {
   "cell_type": "markdown",
   "id": "457b9aba-e5c2-4c85-b3f3-a71930a12136",
   "metadata": {
    "tags": []
   },
   "source": [
    "### Clean"
   ]
  },
  {
   "cell_type": "code",
   "execution_count": 89,
   "id": "e8552305-f0a2-4d8d-937d-e750a7d2d347",
   "metadata": {
    "tags": []
   },
   "outputs": [],
   "source": [
    "cleaner= ProductionCleaner(data)"
   ]
  },
  {
   "cell_type": "code",
   "execution_count": 90,
   "id": "a6199756-b9d4-4fb2-b41e-5e36a9ea6f95",
   "metadata": {
    "tags": []
   },
   "outputs": [
    {
     "name": "stdout",
     "output_type": "stream",
     "text": [
      "Index(['dr_no', 'date_rptd', 'crm_cd', 'vict_sex', 'vict_descent', 'premis_cd',\n",
      "       'weapon_used_cd', 'status', 'location', 'lat', 'lon'],\n",
      "      dtype='object')\n"
     ]
    }
   ],
   "source": [
    "cleaner.clean()"
   ]
  },
  {
   "cell_type": "code",
   "execution_count": 91,
   "id": "8d1efbe0-d7af-4d00-aa8a-3d0514a8121b",
   "metadata": {
    "tags": []
   },
   "outputs": [
    {
     "data": {
      "text/plain": [
       "<Axes: >"
      ]
     },
     "execution_count": 91,
     "metadata": {},
     "output_type": "execute_result"
    },
    {
     "data": {
      "image/png": "[encoded data removed]",
      "text/plain": [
       "<Figure size 2500x1000 with 2 Axes>"
      ]
     },
     "metadata": {},
     "output_type": "display_data"
    }
   ],
   "source": [
    "msno.matrix(data)"
   ]
  },
  {
   "cell_type": "code",
   "execution_count": 92,
   "id": "d740cd36-df4d-4cc0-9546-902a2b78117f",
   "metadata": {
    "tags": []
   },
   "outputs": [
    {
     "data": {
      "text/plain": [
       "<Axes: >"
      ]
     },
     "execution_count": 92,
     "metadata": {},
     "output_type": "execute_result"
    },
    {
     "data": {
      "image/png": "[encoded data removed]",
      "text/plain": [
       "<Figure size 2500x1000 with 2 Axes>"
      ]
     },
     "metadata": {},
     "output_type": "display_data"
    }
   ],
   "source": [
    "msno.matrix(cleaner.df)"
   ]
  },
  {
   "cell_type": "markdown",
   "id": "a23709b9-b8eb-47d2-87d7-3513c8a0e4b2",
   "metadata": {
    "tags": []
   },
   "source": [
    "### Clipping"
   ]
  },
  {
   "cell_type": "code",
   "execution_count": 93,
   "id": "4408c437-46cd-45c8-8e99-9bf8baacc511",
   "metadata": {
    "tags": []
   },
   "outputs": [],
   "source": [
    "cleaner.clipping()"
   ]
  },
  {
   "cell_type": "code",
   "execution_count": 94,
   "id": "b6436934-008f-4e58-a92f-c58326e7b657",
   "metadata": {
    "tags": []
   },
   "outputs": [
    {
     "data": {
      "text/plain": [
       "array([[<Axes: title={'center': 'date_rptd'}>,\n",
       "        <Axes: title={'center': 'date_occ'}>],\n",
       "       [<Axes: title={'center': 'time_occ'}>,\n",
       "        <Axes: title={'center': 'vict_age'}>],\n",
       "       [<Axes: title={'center': 'lat'}>, <Axes: title={'center': 'lon'}>]],\n",
       "      dtype=object)"
      ]
     },
     "execution_count": 94,
     "metadata": {},
     "output_type": "execute_result"
    },
    {
     "data": {
      "image/png": "[encoded data removed]",
      "text/plain": [
       "<Figure size 640x480 with 6 Axes>"
      ]
     },
     "metadata": {},
     "output_type": "display_data"
    }
   ],
   "source": [
    "data.hist(bins=30)"
   ]
  },
  {
   "cell_type": "code",
   "execution_count": 95,
   "id": "f44efb60-23c9-4277-8cbf-abb5007f53f0",
   "metadata": {
    "tags": []
   },
   "outputs": [
    {
     "data": {
      "text/plain": [
       "array([[<Axes: title={'center': 'date_rptd'}>,\n",
       "        <Axes: title={'center': 'lat'}>],\n",
       "       [<Axes: title={'center': 'lon'}>, <Axes: >]], dtype=object)"
      ]
     },
     "execution_count": 95,
     "metadata": {},
     "output_type": "execute_result"
    },
    {
     "data": {
      "image/png": "[encoded data removed]",
      "text/plain": [
       "<Figure size 640x480 with 4 Axes>"
      ]
     },
     "metadata": {},
     "output_type": "display_data"
    }
   ],
   "source": [
    "cleaner.df.hist(bins=30)"
   ]
  },
  {
   "cell_type": "markdown",
   "id": "b2f5d177-f7b9-4540-a54b-b1156b5f3b52",
   "metadata": {},
   "source": [
    "### Imputación"
   ]
  },
  {
   "cell_type": "code",
   "execution_count": 96,
   "id": "0dc56a59-188f-457e-9983-6535a1428e03",
   "metadata": {
    "tags": []
   },
   "outputs": [],
   "source": [
    "cleaner.simple_imp()"
   ]
  },
  {
   "cell_type": "code",
   "execution_count": 97,
   "id": "b9da89cc-34a7-4c3d-8daa-aab4c18bb7ce",
   "metadata": {
    "tags": []
   },
   "outputs": [
    {
     "data": {
      "text/plain": [
       "dr_no             0.0\n",
       "date_rptd         0.0\n",
       "crm_cd            0.0\n",
       "vict_sex          0.0\n",
       "vict_descent      0.0\n",
       "premis_cd         0.0\n",
       "weapon_used_cd    0.0\n",
       "status            0.0\n",
       "lat               0.0\n",
       "lon               0.0\n",
       "dtype: float64"
      ]
     },
     "execution_count": 97,
     "metadata": {},
     "output_type": "execute_result"
    }
   ],
   "source": [
    "cleaner.df.isna().mean()"
   ]
  },
  {
   "cell_type": "markdown",
   "id": "fe96928f-b5a8-484a-8db0-3b5c756d285a",
   "metadata": {},
   "source": [
    "### Lugar"
   ]
  },
  {
   "cell_type": "code",
   "execution_count": 98,
   "id": "bc5065fd-cc6b-4a22-8c71-d00ce9138cfd",
   "metadata": {
    "tags": []
   },
   "outputs": [],
   "source": [
    "cleaner.lugar()"
   ]
  },
  {
   "cell_type": "code",
   "execution_count": 99,
   "id": "a331f42a-5310-4a74-b33a-ea2b2dd995b6",
   "metadata": {
    "tags": []
   },
   "outputs": [
    {
     "data": {
      "text/plain": [
       "<Axes: xlabel='premis_cd', ylabel='count'>"
      ]
     },
     "execution_count": 99,
     "metadata": {},
     "output_type": "execute_result"
    },
    {
     "data": {
      "image/png": "[encoded data removed]",
      "text/plain": [
       "<Figure size 640x480 with 1 Axes>"
      ]
     },
     "metadata": {},
     "output_type": "display_data"
    }
   ],
   "source": [
    "sns.countplot(data, x=\"premis_cd\")"
   ]
  },
  {
   "cell_type": "code",
   "execution_count": 100,
   "id": "98ce3d16-3091-4763-b98e-e173bcea67f5",
   "metadata": {
    "tags": []
   },
   "outputs": [
    {
     "data": {
      "text/plain": [
       "<module 'matplotlib.pyplot' from '/home/bluterplay/jupyter/vlapd/lib/python3.10/site-packages/matplotlib/pyplot.py'>"
      ]
     },
     "execution_count": 100,
     "metadata": {},
     "output_type": "execute_result"
    },
    {
     "data": {
      "image/png": "[encoded data removed]",
      "text/plain": [
       "<Figure size 640x480 with 1 Axes>"
      ]
     },
     "metadata": {},
     "output_type": "display_data"
    }
   ],
   "source": [
    "g=sns.countplot(cleaner.df,x=\"premis\")\n",
    "g.set_xticklabels(g.get_xticklabels(),rotation=90)\n",
    "plt"
   ]
  },
  {
   "cell_type": "markdown",
   "id": "bd86a4d0-ab99-47bb-aca6-ab109a9c8604",
   "metadata": {},
   "source": [
    "### Zonas"
   ]
  },
  {
   "cell_type": "code",
   "execution_count": 101,
   "id": "9b9dca67-c261-4bbf-ae2b-eb8ea30fb894",
   "metadata": {
    "tags": []
   },
   "outputs": [],
   "source": [
    "cleaner.zonas()"
   ]
  },
  {
   "cell_type": "code",
   "execution_count": 102,
   "id": "4f9b0af3-1977-4f1c-93b8-6771a7ff3b4d",
   "metadata": {
    "tags": []
   },
   "outputs": [
    {
     "data": {
      "text/plain": [
       "0    0.485568\n",
       "3    0.180783\n",
       "1    0.177670\n",
       "2    0.111779\n",
       "4    0.044200\n",
       "Name: zonas, dtype: float64"
      ]
     },
     "execution_count": 102,
     "metadata": {},
     "output_type": "execute_result"
    }
   ],
   "source": [
    "cleaner.df[\"zonas\"].value_counts()/len(cleaner.df)"
   ]
  },
  {
   "cell_type": "markdown",
   "id": "861b1b8a-763b-4d78-b402-cb7204157ef6",
   "metadata": {},
   "source": [
    "### Categoricas"
   ]
  },
  {
   "cell_type": "code",
   "execution_count": 103,
   "id": "ba0a8d08-fe1e-4faf-b2cd-a22a1150978c",
   "metadata": {
    "tags": []
   },
   "outputs": [],
   "source": [
    "cleaner.categorias()"
   ]
  },
  {
   "cell_type": "code",
   "execution_count": 104,
   "id": "f257dacd-cdeb-4c76-a555-0db37c60d6a4",
   "metadata": {
    "tags": []
   },
   "outputs": [
    {
     "data": {
      "text/plain": [
       "vivienda                   0.339117\n",
       "calle                      0.335959\n",
       "establecimiento_publico    0.118020\n",
       "Others                     0.085463\n",
       "recreacion                 0.076282\n",
       "transporte                 0.045159\n",
       "Name: premis, dtype: float64"
      ]
     },
     "execution_count": 104,
     "metadata": {},
     "output_type": "execute_result"
    }
   ],
   "source": [
    "cleaner.df[\"premis\"].value_counts()/len(cleaner.df)"
   ]
  },
  {
   "cell_type": "markdown",
   "id": "80c69dce-7a2a-4369-bedc-d6c4d440ce79",
   "metadata": {},
   "source": [
    "### Super clases"
   ]
  },
  {
   "cell_type": "code",
   "execution_count": 105,
   "id": "a97af935-a2ae-4912-8162-182825b70c76",
   "metadata": {
    "tags": []
   },
   "outputs": [],
   "source": [
    "cleaner.super_clases()"
   ]
  },
  {
   "cell_type": "code",
   "execution_count": 106,
   "id": "2dd99868-aa04-431a-8a4a-bb4d5214ba4b",
   "metadata": {
    "tags": []
   },
   "outputs": [
    {
     "data": {
      "text/html": [
       "<div>\n",
       "<style scoped>\n",
       "    .dataframe tbody tr th:only-of-type {\n",
       "        vertical-align: middle;\n",
       "    }\n",
       "\n",
       "    .dataframe tbody tr th {\n",
       "        vertical-align: top;\n",
       "    }\n",
       "\n",
       "    .dataframe thead th {\n",
       "        text-align: right;\n",
       "    }\n",
       "</style>\n",
       "<table border=\"1\" class=\"dataframe\">\n",
       "  <thead>\n",
       "    <tr style=\"text-align: right;\">\n",
       "      <th></th>\n",
       "      <th>dr_no</th>\n",
       "      <th>date_rptd</th>\n",
       "      <th>vict_sex</th>\n",
       "      <th>vict_descent</th>\n",
       "      <th>premis_cd</th>\n",
       "      <th>weapon_used_cd</th>\n",
       "      <th>status</th>\n",
       "      <th>lat</th>\n",
       "      <th>lon</th>\n",
       "      <th>premis</th>\n",
       "      <th>zonas</th>\n",
       "      <th>crime</th>\n",
       "      <th>crm_cd</th>\n",
       "    </tr>\n",
       "  </thead>\n",
       "  <tbody>\n",
       "    <tr>\n",
       "      <th>674255</th>\n",
       "      <td>230707285</td>\n",
       "      <td>2023-02-27</td>\n",
       "      <td>X</td>\n",
       "      <td>X</td>\n",
       "      <td>203.0</td>\n",
       "      <td>0</td>\n",
       "      <td>IC</td>\n",
       "      <td>34.0436</td>\n",
       "      <td>-118.3248</td>\n",
       "      <td>establecimiento_publico</td>\n",
       "      <td>0</td>\n",
       "      <td>Robo</td>\n",
       "      <td>103</td>\n",
       "    </tr>\n",
       "    <tr>\n",
       "      <th>674256</th>\n",
       "      <td>230806533</td>\n",
       "      <td>2023-02-27</td>\n",
       "      <td>M</td>\n",
       "      <td>O</td>\n",
       "      <td>501.0</td>\n",
       "      <td>0</td>\n",
       "      <td>IC</td>\n",
       "      <td>34.0502</td>\n",
       "      <td>-118.4161</td>\n",
       "      <td>vivienda</td>\n",
       "      <td>3</td>\n",
       "      <td>Disturbios a la sociedad</td>\n",
       "      <td>101</td>\n",
       "    </tr>\n",
       "    <tr>\n",
       "      <th>674257</th>\n",
       "      <td>231605843</td>\n",
       "      <td>2023-02-27</td>\n",
       "      <td>F</td>\n",
       "      <td>W</td>\n",
       "      <td>502.0</td>\n",
       "      <td>0</td>\n",
       "      <td>IC</td>\n",
       "      <td>34.2275</td>\n",
       "      <td>-118.3664</td>\n",
       "      <td>vivienda</td>\n",
       "      <td>1</td>\n",
       "      <td>Falta a la ley</td>\n",
       "      <td>102</td>\n",
       "    </tr>\n",
       "    <tr>\n",
       "      <th>674258</th>\n",
       "      <td>231906365</td>\n",
       "      <td>2023-02-27</td>\n",
       "      <td>F</td>\n",
       "      <td>H</td>\n",
       "      <td>501.0</td>\n",
       "      <td>Others</td>\n",
       "      <td>IC</td>\n",
       "      <td>34.3235</td>\n",
       "      <td>-118.4260</td>\n",
       "      <td>vivienda</td>\n",
       "      <td>1</td>\n",
       "      <td>Agresión</td>\n",
       "      <td>100</td>\n",
       "    </tr>\n",
       "    <tr>\n",
       "      <th>674259</th>\n",
       "      <td>230606434</td>\n",
       "      <td>2023-02-27</td>\n",
       "      <td>M</td>\n",
       "      <td>H</td>\n",
       "      <td>502.0</td>\n",
       "      <td>Others</td>\n",
       "      <td>IC</td>\n",
       "      <td>34.1016</td>\n",
       "      <td>-118.3361</td>\n",
       "      <td>vivienda</td>\n",
       "      <td>3</td>\n",
       "      <td>Robo Vehículo</td>\n",
       "      <td>104</td>\n",
       "    </tr>\n",
       "  </tbody>\n",
       "</table>\n",
       "</div>"
      ],
      "text/plain": [
       "            dr_no  date_rptd vict_sex vict_descent  premis_cd weapon_used_cd  \\\n",
       "674255  230707285 2023-02-27        X            X      203.0              0   \n",
       "674256  230806533 2023-02-27        M            O      501.0              0   \n",
       "674257  231605843 2023-02-27        F            W      502.0              0   \n",
       "674258  231906365 2023-02-27        F            H      501.0         Others   \n",
       "674259  230606434 2023-02-27        M            H      502.0         Others   \n",
       "\n",
       "       status      lat       lon                   premis  zonas  \\\n",
       "674255     IC  34.0436 -118.3248  establecimiento_publico      0   \n",
       "674256     IC  34.0502 -118.4161                 vivienda      3   \n",
       "674257     IC  34.2275 -118.3664                 vivienda      1   \n",
       "674258     IC  34.3235 -118.4260                 vivienda      1   \n",
       "674259     IC  34.1016 -118.3361                 vivienda      3   \n",
       "\n",
       "                           crime  crm_cd  \n",
       "674255                      Robo     103  \n",
       "674256  Disturbios a la sociedad     101  \n",
       "674257            Falta a la ley     102  \n",
       "674258                  Agresión     100  \n",
       "674259             Robo Vehículo     104  "
      ]
     },
     "execution_count": 106,
     "metadata": {},
     "output_type": "execute_result"
    }
   ],
   "source": [
    "cleaner.df.tail()"
   ]
  },
  {
   "cell_type": "markdown",
   "id": "2cd72c8f-3784-4c8f-9519-c929dc37fcde",
   "metadata": {},
   "source": [
    "## Cubo"
   ]
  },
  {
   "cell_type": "code",
   "execution_count": 7,
   "id": "adfde279-2324-449f-b52e-341c3db6bc60",
   "metadata": {
    "tags": []
   },
   "outputs": [],
   "source": [
    "from datetime import datetime\n",
    "from pandas import date_range, read_csv, DataFrame\n",
    "from statsmodels.tsa.api import SimpleExpSmoothing\n",
    "\n",
    "class CubeCrimesGenerator():\n",
    "    \n",
    "    def __init__(self,df):\n",
    "        self.df = df.copy()\n",
    "        data= self.df.copy()\n",
    "        data[\"Date\"]=data[\"date_rptd\"]\n",
    "        self.start= str(data[\"Date\"].min())\n",
    "        self.end= str(data[\"Date\"].max())\n",
    "        self.ls_dfs=[]\n",
    "    \n",
    "    def checkDates(self,data,zone,crimeType):\n",
    "        data[\"Date\"]=data[\"date_rptd\"]\n",
    "        date_index = date_range(start=self.start, end=self.end, freq=\"D\")\n",
    "        data = data.set_index(\"Date\").reindex(date_index)\n",
    "        data.drop(columns=[\"date_rptd\"], inplace=True)\n",
    "        field = \"Crimes_Z\"+str(zone)+\"T\"+str(crimeType)\n",
    "        data.rename(columns={0: field}, inplace= True)\n",
    "        data[field]= data[field].fillna(0)\n",
    "        return data\n",
    "    \n",
    "    \n",
    "    def generateDataframes(self):\n",
    "        ls_dfs= []\n",
    "        for zone in range(5):\n",
    "            test = self.df[self.df['zonas']==zone].copy()\n",
    "            for crime in range(100,105):\n",
    "                test2 = test[test['crm_cd']==crime].copy()\n",
    "                temp =test2.groupby('date_rptd').size().copy()\n",
    "                temp= temp.to_frame()\n",
    "                temp= temp.reset_index()\n",
    "                data= self.checkDates(temp,zone,crime)\n",
    "                self.ls_dfs.append(data)\n",
    "                \n",
    "    def generateCube(self):\n",
    "        self.generateDataframes()\n",
    "        df_final= self.ls_dfs[0]\n",
    "\n",
    "        for i in range(1, len(self.ls_dfs)):\n",
    "            column= self.ls_dfs[i].columns[0]\n",
    "            df_final[column]= list(self.ls_dfs[i][column])\n",
    "        df_final[\"week\"]=df_final.index.to_period('W-SUN').start_time\n",
    "            \n",
    "        return df_final.groupby(by=\"week\").sum()"
   ]
  },
  {
   "cell_type": "code",
   "execution_count": 108,
   "id": "732d42e3-43ba-4e1c-a757-a7a64cd136e7",
   "metadata": {},
   "outputs": [],
   "source": [
    "cubo= CubeCrimesGenerator(cleaner.df)"
   ]
  },
  {
   "cell_type": "code",
   "execution_count": 109,
   "id": "1e895bbe-fa6f-4d89-ba64-74604f475715",
   "metadata": {},
   "outputs": [],
   "source": [
    "df_cubo=cubo.generateCube()"
   ]
  },
  {
   "cell_type": "code",
   "execution_count": 110,
   "id": "1d19074f-6a78-4674-9da8-cb65c2e6b7f8",
   "metadata": {
    "tags": []
   },
   "outputs": [
    {
     "data": {
      "text/plain": [
       "166"
      ]
     },
     "execution_count": 110,
     "metadata": {},
     "output_type": "execute_result"
    }
   ],
   "source": [
    "len(df_cubo)"
   ]
  },
  {
   "cell_type": "code",
   "execution_count": 111,
   "id": "9ec6e8c5-80a1-47fb-a857-7a943e510163",
   "metadata": {
    "tags": []
   },
   "outputs": [],
   "source": [
    "df_cubo.to_csv(\"cubo_sem.csv\")"
   ]
  },
  {
   "cell_type": "markdown",
   "id": "6c042653-c384-44ff-bc73-56188e8f6115",
   "metadata": {},
   "source": [
    "## Feature engineering"
   ]
  },
  {
   "cell_type": "code",
   "execution_count": 16,
   "id": "b4b95dcb-c5db-453f-bfd7-8b57445503a4",
   "metadata": {},
   "outputs": [],
   "source": [
    "class FeatureEngineering():\n",
    "    \n",
    "    def __init__(self,df):\n",
    "        self.df= df\n",
    "        self.temp= DataFrame()\n",
    "        \n",
    "    def createLags(self,column):\n",
    "        temp= self.df[[column]]\n",
    "        for i in range(1,34):\n",
    "            temp[column+\"_\"+str(i)] = temp[column].shift(i)\n",
    "        self.temp=temp\n",
    "    \n",
    "    def smoothing(self, column):\n",
    "        for i in range(2,10,1):\n",
    "            j=i/10\n",
    "            fit1 = SimpleExpSmoothing(self.temp[column], initialization_method=\"heuristic\").fit(smoothing_level=j, optimized=False)\n",
    "            lista=fit1.fittedvalues\n",
    "            self.temp['exp'+str(j)]=lista\n",
    "            \n",
    "    def createMA(self,column):\n",
    "        for i in range(2,11,2):\n",
    "            self.temp[\"MA\"+str(i)]= self.temp[column].rolling(window =i).mean()\n",
    "    \n",
    "   \n",
    "    \n",
    "    def createVariables(self,column):\n",
    "        self.createLags(column)\n",
    "        #self.smoothing(column)\n",
    "        self.createMA(column)\n",
    "        self.temp[\"Target\"]= self.temp[column].shift(-1)\n",
    "        self.temp.dropna(inplace=True)\n",
    "        return self.temp"
   ]
  },
  {
   "cell_type": "markdown",
   "id": "a31d0a6f-7730-43ac-b1de-671a6d1a3dac",
   "metadata": {},
   "source": [
    "### Create lags"
   ]
  },
  {
   "cell_type": "code",
   "execution_count": 17,
   "id": "a5a18818-d1a7-4ddb-98f0-e02f838d3f90",
   "metadata": {
    "tags": []
   },
   "outputs": [],
   "source": [
    "import pandas as pd"
   ]
  },
  {
   "cell_type": "code",
   "execution_count": 25,
   "id": "b1431741-be02-41a3-97c0-3eebdb8ee3e7",
   "metadata": {
    "tags": []
   },
   "outputs": [],
   "source": [
    "df_cubo=pd.read_csv(\"cubo_sem.csv\")"
   ]
  },
  {
   "cell_type": "code",
   "execution_count": 26,
   "id": "1983a2c4-0358-43ed-b507-42eb18e0076e",
   "metadata": {
    "tags": []
   },
   "outputs": [],
   "source": [
    "df_cubo.rename(columns={'week':\"date\"}, inplace=True)"
   ]
  },
  {
   "cell_type": "code",
   "execution_count": 27,
   "id": "175933d0-40a2-4ec9-b419-24a01db0de61",
   "metadata": {
    "tags": []
   },
   "outputs": [],
   "source": [
    "df_cubo.set_index('date', inplace=True)"
   ]
  },
  {
   "cell_type": "code",
   "execution_count": 28,
   "id": "14e82fec-fd88-43a4-8229-d8fe9181c226",
   "metadata": {
    "tags": []
   },
   "outputs": [],
   "source": [
    "feature= FeatureEngineering(df_cubo)"
   ]
  },
  {
   "cell_type": "code",
   "execution_count": 29,
   "id": "7ba1038b-e476-4bee-9d4a-a267584f26f2",
   "metadata": {
    "tags": []
   },
   "outputs": [],
   "source": [
    "column=\"Crimes_Z4T100\""
   ]
  },
  {
   "cell_type": "code",
   "execution_count": 30,
   "id": "8cdaa9c1-ee73-4592-b555-e4992e2352da",
   "metadata": {
    "tags": []
   },
   "outputs": [
    {
     "name": "stderr",
     "output_type": "stream",
     "text": [
      "/tmp/ipykernel_3875/2562748499.py:10: SettingWithCopyWarning: \n",
      "A value is trying to be set on a copy of a slice from a DataFrame.\n",
      "Try using .loc[row_indexer,col_indexer] = value instead\n",
      "\n",
      "See the caveats in the documentation: https://pandas.pydata.org/pandas-docs/stable/user_guide/indexing.html#returning-a-view-versus-a-copy\n",
      "  temp[column+\"_\"+str(i)] = temp[column].shift(i)\n",
      "/tmp/ipykernel_3875/2562748499.py:10: SettingWithCopyWarning: \n",
      "A value is trying to be set on a copy of a slice from a DataFrame.\n",
      "Try using .loc[row_indexer,col_indexer] = value instead\n",
      "\n",
      "See the caveats in the documentation: https://pandas.pydata.org/pandas-docs/stable/user_guide/indexing.html#returning-a-view-versus-a-copy\n",
      "  temp[column+\"_\"+str(i)] = temp[column].shift(i)\n",
      "/tmp/ipykernel_3875/2562748499.py:10: SettingWithCopyWarning: \n",
      "A value is trying to be set on a copy of a slice from a DataFrame.\n",
      "Try using .loc[row_indexer,col_indexer] = value instead\n",
      "\n",
      "See the caveats in the documentation: https://pandas.pydata.org/pandas-docs/stable/user_guide/indexing.html#returning-a-view-versus-a-copy\n",
      "  temp[column+\"_\"+str(i)] = temp[column].shift(i)\n",
      "/tmp/ipykernel_3875/2562748499.py:10: SettingWithCopyWarning: \n",
      "A value is trying to be set on a copy of a slice from a DataFrame.\n",
      "Try using .loc[row_indexer,col_indexer] = value instead\n",
      "\n",
      "See the caveats in the documentation: https://pandas.pydata.org/pandas-docs/stable/user_guide/indexing.html#returning-a-view-versus-a-copy\n",
      "  temp[column+\"_\"+str(i)] = temp[column].shift(i)\n",
      "/tmp/ipykernel_3875/2562748499.py:10: SettingWithCopyWarning: \n",
      "A value is trying to be set on a copy of a slice from a DataFrame.\n",
      "Try using .loc[row_indexer,col_indexer] = value instead\n",
      "\n",
      "See the caveats in the documentation: https://pandas.pydata.org/pandas-docs/stable/user_guide/indexing.html#returning-a-view-versus-a-copy\n",
      "  temp[column+\"_\"+str(i)] = temp[column].shift(i)\n",
      "/tmp/ipykernel_3875/2562748499.py:10: SettingWithCopyWarning: \n",
      "A value is trying to be set on a copy of a slice from a DataFrame.\n",
      "Try using .loc[row_indexer,col_indexer] = value instead\n",
      "\n",
      "See the caveats in the documentation: https://pandas.pydata.org/pandas-docs/stable/user_guide/indexing.html#returning-a-view-versus-a-copy\n",
      "  temp[column+\"_\"+str(i)] = temp[column].shift(i)\n",
      "/tmp/ipykernel_3875/2562748499.py:10: SettingWithCopyWarning: \n",
      "A value is trying to be set on a copy of a slice from a DataFrame.\n",
      "Try using .loc[row_indexer,col_indexer] = value instead\n",
      "\n",
      "See the caveats in the documentation: https://pandas.pydata.org/pandas-docs/stable/user_guide/indexing.html#returning-a-view-versus-a-copy\n",
      "  temp[column+\"_\"+str(i)] = temp[column].shift(i)\n",
      "/tmp/ipykernel_3875/2562748499.py:10: SettingWithCopyWarning: \n",
      "A value is trying to be set on a copy of a slice from a DataFrame.\n",
      "Try using .loc[row_indexer,col_indexer] = value instead\n",
      "\n",
      "See the caveats in the documentation: https://pandas.pydata.org/pandas-docs/stable/user_guide/indexing.html#returning-a-view-versus-a-copy\n",
      "  temp[column+\"_\"+str(i)] = temp[column].shift(i)\n",
      "/tmp/ipykernel_3875/2562748499.py:10: SettingWithCopyWarning: \n",
      "A value is trying to be set on a copy of a slice from a DataFrame.\n",
      "Try using .loc[row_indexer,col_indexer] = value instead\n",
      "\n",
      "See the caveats in the documentation: https://pandas.pydata.org/pandas-docs/stable/user_guide/indexing.html#returning-a-view-versus-a-copy\n",
      "  temp[column+\"_\"+str(i)] = temp[column].shift(i)\n",
      "/tmp/ipykernel_3875/2562748499.py:10: SettingWithCopyWarning: \n",
      "A value is trying to be set on a copy of a slice from a DataFrame.\n",
      "Try using .loc[row_indexer,col_indexer] = value instead\n",
      "\n",
      "See the caveats in the documentation: https://pandas.pydata.org/pandas-docs/stable/user_guide/indexing.html#returning-a-view-versus-a-copy\n",
      "  temp[column+\"_\"+str(i)] = temp[column].shift(i)\n",
      "/tmp/ipykernel_3875/2562748499.py:10: SettingWithCopyWarning: \n",
      "A value is trying to be set on a copy of a slice from a DataFrame.\n",
      "Try using .loc[row_indexer,col_indexer] = value instead\n",
      "\n",
      "See the caveats in the documentation: https://pandas.pydata.org/pandas-docs/stable/user_guide/indexing.html#returning-a-view-versus-a-copy\n",
      "  temp[column+\"_\"+str(i)] = temp[column].shift(i)\n",
      "/tmp/ipykernel_3875/2562748499.py:10: SettingWithCopyWarning: \n",
      "A value is trying to be set on a copy of a slice from a DataFrame.\n",
      "Try using .loc[row_indexer,col_indexer] = value instead\n",
      "\n",
      "See the caveats in the documentation: https://pandas.pydata.org/pandas-docs/stable/user_guide/indexing.html#returning-a-view-versus-a-copy\n",
      "  temp[column+\"_\"+str(i)] = temp[column].shift(i)\n",
      "/tmp/ipykernel_3875/2562748499.py:10: SettingWithCopyWarning: \n",
      "A value is trying to be set on a copy of a slice from a DataFrame.\n",
      "Try using .loc[row_indexer,col_indexer] = value instead\n",
      "\n",
      "See the caveats in the documentation: https://pandas.pydata.org/pandas-docs/stable/user_guide/indexing.html#returning-a-view-versus-a-copy\n",
      "  temp[column+\"_\"+str(i)] = temp[column].shift(i)\n",
      "/tmp/ipykernel_3875/2562748499.py:10: SettingWithCopyWarning: \n",
      "A value is trying to be set on a copy of a slice from a DataFrame.\n",
      "Try using .loc[row_indexer,col_indexer] = value instead\n",
      "\n",
      "See the caveats in the documentation: https://pandas.pydata.org/pandas-docs/stable/user_guide/indexing.html#returning-a-view-versus-a-copy\n",
      "  temp[column+\"_\"+str(i)] = temp[column].shift(i)\n",
      "/tmp/ipykernel_3875/2562748499.py:10: SettingWithCopyWarning: \n",
      "A value is trying to be set on a copy of a slice from a DataFrame.\n",
      "Try using .loc[row_indexer,col_indexer] = value instead\n",
      "\n",
      "See the caveats in the documentation: https://pandas.pydata.org/pandas-docs/stable/user_guide/indexing.html#returning-a-view-versus-a-copy\n",
      "  temp[column+\"_\"+str(i)] = temp[column].shift(i)\n",
      "/tmp/ipykernel_3875/2562748499.py:10: SettingWithCopyWarning: \n",
      "A value is trying to be set on a copy of a slice from a DataFrame.\n",
      "Try using .loc[row_indexer,col_indexer] = value instead\n",
      "\n",
      "See the caveats in the documentation: https://pandas.pydata.org/pandas-docs/stable/user_guide/indexing.html#returning-a-view-versus-a-copy\n",
      "  temp[column+\"_\"+str(i)] = temp[column].shift(i)\n",
      "/tmp/ipykernel_3875/2562748499.py:10: SettingWithCopyWarning: \n",
      "A value is trying to be set on a copy of a slice from a DataFrame.\n",
      "Try using .loc[row_indexer,col_indexer] = value instead\n",
      "\n",
      "See the caveats in the documentation: https://pandas.pydata.org/pandas-docs/stable/user_guide/indexing.html#returning-a-view-versus-a-copy\n",
      "  temp[column+\"_\"+str(i)] = temp[column].shift(i)\n",
      "/tmp/ipykernel_3875/2562748499.py:10: SettingWithCopyWarning: \n",
      "A value is trying to be set on a copy of a slice from a DataFrame.\n",
      "Try using .loc[row_indexer,col_indexer] = value instead\n",
      "\n",
      "See the caveats in the documentation: https://pandas.pydata.org/pandas-docs/stable/user_guide/indexing.html#returning-a-view-versus-a-copy\n",
      "  temp[column+\"_\"+str(i)] = temp[column].shift(i)\n",
      "/tmp/ipykernel_3875/2562748499.py:10: SettingWithCopyWarning: \n",
      "A value is trying to be set on a copy of a slice from a DataFrame.\n",
      "Try using .loc[row_indexer,col_indexer] = value instead\n",
      "\n",
      "See the caveats in the documentation: https://pandas.pydata.org/pandas-docs/stable/user_guide/indexing.html#returning-a-view-versus-a-copy\n",
      "  temp[column+\"_\"+str(i)] = temp[column].shift(i)\n",
      "/tmp/ipykernel_3875/2562748499.py:10: SettingWithCopyWarning: \n",
      "A value is trying to be set on a copy of a slice from a DataFrame.\n",
      "Try using .loc[row_indexer,col_indexer] = value instead\n",
      "\n",
      "See the caveats in the documentation: https://pandas.pydata.org/pandas-docs/stable/user_guide/indexing.html#returning-a-view-versus-a-copy\n",
      "  temp[column+\"_\"+str(i)] = temp[column].shift(i)\n",
      "/tmp/ipykernel_3875/2562748499.py:10: SettingWithCopyWarning: \n",
      "A value is trying to be set on a copy of a slice from a DataFrame.\n",
      "Try using .loc[row_indexer,col_indexer] = value instead\n",
      "\n",
      "See the caveats in the documentation: https://pandas.pydata.org/pandas-docs/stable/user_guide/indexing.html#returning-a-view-versus-a-copy\n",
      "  temp[column+\"_\"+str(i)] = temp[column].shift(i)\n",
      "/tmp/ipykernel_3875/2562748499.py:10: SettingWithCopyWarning: \n",
      "A value is trying to be set on a copy of a slice from a DataFrame.\n",
      "Try using .loc[row_indexer,col_indexer] = value instead\n",
      "\n",
      "See the caveats in the documentation: https://pandas.pydata.org/pandas-docs/stable/user_guide/indexing.html#returning-a-view-versus-a-copy\n",
      "  temp[column+\"_\"+str(i)] = temp[column].shift(i)\n",
      "/tmp/ipykernel_3875/2562748499.py:10: SettingWithCopyWarning: \n",
      "A value is trying to be set on a copy of a slice from a DataFrame.\n",
      "Try using .loc[row_indexer,col_indexer] = value instead\n",
      "\n",
      "See the caveats in the documentation: https://pandas.pydata.org/pandas-docs/stable/user_guide/indexing.html#returning-a-view-versus-a-copy\n",
      "  temp[column+\"_\"+str(i)] = temp[column].shift(i)\n"
     ]
    }
   ],
   "source": [
    "df_feature=feature.createVariables(column)"
   ]
  },
  {
   "cell_type": "code",
   "execution_count": 31,
   "id": "237bbc62-8dec-48f8-9978-131e26463da2",
   "metadata": {
    "tags": []
   },
   "outputs": [],
   "source": [
    "df_feature.to_csv(\"Feature.csv\")"
   ]
  },
  {
   "cell_type": "code",
   "execution_count": 30,
   "id": "82d747a7-9fd8-45ee-8985-92e2141b24f5",
   "metadata": {
    "tags": []
   },
   "outputs": [],
   "source": [
    "feature.createLags(column)"
   ]
  },
  {
   "cell_type": "code",
   "execution_count": 31,
   "id": "e7b2919f-2a5f-4c8b-8761-927ec7ecf2a6",
   "metadata": {
    "tags": []
   },
   "outputs": [
    {
     "data": {
      "text/html": [
       "<div>\n",
       "<style scoped>\n",
       "    .dataframe tbody tr th:only-of-type {\n",
       "        vertical-align: middle;\n",
       "    }\n",
       "\n",
       "    .dataframe tbody tr th {\n",
       "        vertical-align: top;\n",
       "    }\n",
       "\n",
       "    .dataframe thead th {\n",
       "        text-align: right;\n",
       "    }\n",
       "</style>\n",
       "<table border=\"1\" class=\"dataframe\">\n",
       "  <thead>\n",
       "    <tr style=\"text-align: right;\">\n",
       "      <th></th>\n",
       "      <th>Crimes_Z4T100</th>\n",
       "      <th>Crimes_Z4T100_1</th>\n",
       "      <th>Crimes_Z4T100_2</th>\n",
       "      <th>Crimes_Z4T100_3</th>\n",
       "      <th>Crimes_Z4T100_4</th>\n",
       "      <th>Crimes_Z4T100_5</th>\n",
       "      <th>Crimes_Z4T100_6</th>\n",
       "      <th>Crimes_Z4T100_7</th>\n",
       "      <th>Crimes_Z4T100_8</th>\n",
       "      <th>Crimes_Z4T100_9</th>\n",
       "      <th>...</th>\n",
       "      <th>Crimes_Z4T100_24</th>\n",
       "      <th>Crimes_Z4T100_25</th>\n",
       "      <th>Crimes_Z4T100_26</th>\n",
       "      <th>Crimes_Z4T100_27</th>\n",
       "      <th>Crimes_Z4T100_28</th>\n",
       "      <th>Crimes_Z4T100_29</th>\n",
       "      <th>Crimes_Z4T100_30</th>\n",
       "      <th>Crimes_Z4T100_31</th>\n",
       "      <th>Crimes_Z4T100_32</th>\n",
       "      <th>Crimes_Z4T100_33</th>\n",
       "    </tr>\n",
       "    <tr>\n",
       "      <th>date</th>\n",
       "      <th></th>\n",
       "      <th></th>\n",
       "      <th></th>\n",
       "      <th></th>\n",
       "      <th></th>\n",
       "      <th></th>\n",
       "      <th></th>\n",
       "      <th></th>\n",
       "      <th></th>\n",
       "      <th></th>\n",
       "      <th></th>\n",
       "      <th></th>\n",
       "      <th></th>\n",
       "      <th></th>\n",
       "      <th></th>\n",
       "      <th></th>\n",
       "      <th></th>\n",
       "      <th></th>\n",
       "      <th></th>\n",
       "      <th></th>\n",
       "      <th></th>\n",
       "    </tr>\n",
       "  </thead>\n",
       "  <tbody>\n",
       "    <tr>\n",
       "      <th>2019-12-30</th>\n",
       "      <td>30.0</td>\n",
       "      <td>NaN</td>\n",
       "      <td>NaN</td>\n",
       "      <td>NaN</td>\n",
       "      <td>NaN</td>\n",
       "      <td>NaN</td>\n",
       "      <td>NaN</td>\n",
       "      <td>NaN</td>\n",
       "      <td>NaN</td>\n",
       "      <td>NaN</td>\n",
       "      <td>...</td>\n",
       "      <td>NaN</td>\n",
       "      <td>NaN</td>\n",
       "      <td>NaN</td>\n",
       "      <td>NaN</td>\n",
       "      <td>NaN</td>\n",
       "      <td>NaN</td>\n",
       "      <td>NaN</td>\n",
       "      <td>NaN</td>\n",
       "      <td>NaN</td>\n",
       "      <td>NaN</td>\n",
       "    </tr>\n",
       "    <tr>\n",
       "      <th>2020-01-06</th>\n",
       "      <td>31.0</td>\n",
       "      <td>30.0</td>\n",
       "      <td>NaN</td>\n",
       "      <td>NaN</td>\n",
       "      <td>NaN</td>\n",
       "      <td>NaN</td>\n",
       "      <td>NaN</td>\n",
       "      <td>NaN</td>\n",
       "      <td>NaN</td>\n",
       "      <td>NaN</td>\n",
       "      <td>...</td>\n",
       "      <td>NaN</td>\n",
       "      <td>NaN</td>\n",
       "      <td>NaN</td>\n",
       "      <td>NaN</td>\n",
       "      <td>NaN</td>\n",
       "      <td>NaN</td>\n",
       "      <td>NaN</td>\n",
       "      <td>NaN</td>\n",
       "      <td>NaN</td>\n",
       "      <td>NaN</td>\n",
       "    </tr>\n",
       "    <tr>\n",
       "      <th>2020-01-13</th>\n",
       "      <td>34.0</td>\n",
       "      <td>31.0</td>\n",
       "      <td>30.0</td>\n",
       "      <td>NaN</td>\n",
       "      <td>NaN</td>\n",
       "      <td>NaN</td>\n",
       "      <td>NaN</td>\n",
       "      <td>NaN</td>\n",
       "      <td>NaN</td>\n",
       "      <td>NaN</td>\n",
       "      <td>...</td>\n",
       "      <td>NaN</td>\n",
       "      <td>NaN</td>\n",
       "      <td>NaN</td>\n",
       "      <td>NaN</td>\n",
       "      <td>NaN</td>\n",
       "      <td>NaN</td>\n",
       "      <td>NaN</td>\n",
       "      <td>NaN</td>\n",
       "      <td>NaN</td>\n",
       "      <td>NaN</td>\n",
       "    </tr>\n",
       "    <tr>\n",
       "      <th>2020-01-20</th>\n",
       "      <td>34.0</td>\n",
       "      <td>34.0</td>\n",
       "      <td>31.0</td>\n",
       "      <td>30.0</td>\n",
       "      <td>NaN</td>\n",
       "      <td>NaN</td>\n",
       "      <td>NaN</td>\n",
       "      <td>NaN</td>\n",
       "      <td>NaN</td>\n",
       "      <td>NaN</td>\n",
       "      <td>...</td>\n",
       "      <td>NaN</td>\n",
       "      <td>NaN</td>\n",
       "      <td>NaN</td>\n",
       "      <td>NaN</td>\n",
       "      <td>NaN</td>\n",
       "      <td>NaN</td>\n",
       "      <td>NaN</td>\n",
       "      <td>NaN</td>\n",
       "      <td>NaN</td>\n",
       "      <td>NaN</td>\n",
       "    </tr>\n",
       "    <tr>\n",
       "      <th>2020-01-27</th>\n",
       "      <td>32.0</td>\n",
       "      <td>34.0</td>\n",
       "      <td>34.0</td>\n",
       "      <td>31.0</td>\n",
       "      <td>30.0</td>\n",
       "      <td>NaN</td>\n",
       "      <td>NaN</td>\n",
       "      <td>NaN</td>\n",
       "      <td>NaN</td>\n",
       "      <td>NaN</td>\n",
       "      <td>...</td>\n",
       "      <td>NaN</td>\n",
       "      <td>NaN</td>\n",
       "      <td>NaN</td>\n",
       "      <td>NaN</td>\n",
       "      <td>NaN</td>\n",
       "      <td>NaN</td>\n",
       "      <td>NaN</td>\n",
       "      <td>NaN</td>\n",
       "      <td>NaN</td>\n",
       "      <td>NaN</td>\n",
       "    </tr>\n",
       "  </tbody>\n",
       "</table>\n",
       "<p>5 rows × 34 columns</p>\n",
       "</div>"
      ],
      "text/plain": [
       "            Crimes_Z4T100  Crimes_Z4T100_1  Crimes_Z4T100_2  Crimes_Z4T100_3  \\\n",
       "date                                                                           \n",
       "2019-12-30           30.0              NaN              NaN              NaN   \n",
       "2020-01-06           31.0             30.0              NaN              NaN   \n",
       "2020-01-13           34.0             31.0             30.0              NaN   \n",
       "2020-01-20           34.0             34.0             31.0             30.0   \n",
       "2020-01-27           32.0             34.0             34.0             31.0   \n",
       "\n",
       "            Crimes_Z4T100_4  Crimes_Z4T100_5  Crimes_Z4T100_6  \\\n",
       "date                                                            \n",
       "2019-12-30              NaN              NaN              NaN   \n",
       "2020-01-06              NaN              NaN              NaN   \n",
       "2020-01-13              NaN              NaN              NaN   \n",
       "2020-01-20              NaN              NaN              NaN   \n",
       "2020-01-27             30.0              NaN              NaN   \n",
       "\n",
       "            Crimes_Z4T100_7  Crimes_Z4T100_8  Crimes_Z4T100_9  ...  \\\n",
       "date                                                           ...   \n",
       "2019-12-30              NaN              NaN              NaN  ...   \n",
       "2020-01-06              NaN              NaN              NaN  ...   \n",
       "2020-01-13              NaN              NaN              NaN  ...   \n",
       "2020-01-20              NaN              NaN              NaN  ...   \n",
       "2020-01-27              NaN              NaN              NaN  ...   \n",
       "\n",
       "            Crimes_Z4T100_24  Crimes_Z4T100_25  Crimes_Z4T100_26  \\\n",
       "date                                                               \n",
       "2019-12-30               NaN               NaN               NaN   \n",
       "2020-01-06               NaN               NaN               NaN   \n",
       "2020-01-13               NaN               NaN               NaN   \n",
       "2020-01-20               NaN               NaN               NaN   \n",
       "2020-01-27               NaN               NaN               NaN   \n",
       "\n",
       "            Crimes_Z4T100_27  Crimes_Z4T100_28  Crimes_Z4T100_29  \\\n",
       "date                                                               \n",
       "2019-12-30               NaN               NaN               NaN   \n",
       "2020-01-06               NaN               NaN               NaN   \n",
       "2020-01-13               NaN               NaN               NaN   \n",
       "2020-01-20               NaN               NaN               NaN   \n",
       "2020-01-27               NaN               NaN               NaN   \n",
       "\n",
       "            Crimes_Z4T100_30  Crimes_Z4T100_31  Crimes_Z4T100_32  \\\n",
       "date                                                               \n",
       "2019-12-30               NaN               NaN               NaN   \n",
       "2020-01-06               NaN               NaN               NaN   \n",
       "2020-01-13               NaN               NaN               NaN   \n",
       "2020-01-20               NaN               NaN               NaN   \n",
       "2020-01-27               NaN               NaN               NaN   \n",
       "\n",
       "            Crimes_Z4T100_33  \n",
       "date                          \n",
       "2019-12-30               NaN  \n",
       "2020-01-06               NaN  \n",
       "2020-01-13               NaN  \n",
       "2020-01-20               NaN  \n",
       "2020-01-27               NaN  \n",
       "\n",
       "[5 rows x 34 columns]"
      ]
     },
     "execution_count": 31,
     "metadata": {},
     "output_type": "execute_result"
    }
   ],
   "source": [
    "feature.temp.head()"
   ]
  },
  {
   "cell_type": "markdown",
   "id": "934629e8-2e19-4d0d-a3d2-4b172e28f766",
   "metadata": {},
   "source": [
    "### Smothing"
   ]
  },
  {
   "cell_type": "code",
   "execution_count": 16,
   "id": "4cfb5a5d-f4ae-4914-b09f-ec3fb53c8ce1",
   "metadata": {
    "tags": []
   },
   "outputs": [
    {
     "name": "stderr",
     "output_type": "stream",
     "text": [
      "/home/bluterplay/jupyter/vlapd/lib/python3.10/site-packages/statsmodels/tsa/base/tsa_model.py:471: ValueWarning: No frequency information was provided, so inferred frequency W-MON will be used.\n",
      "  self._init_dates(dates, freq)\n",
      "/home/bluterplay/jupyter/vlapd/lib/python3.10/site-packages/statsmodels/tsa/base/tsa_model.py:471: ValueWarning: No frequency information was provided, so inferred frequency W-MON will be used.\n",
      "  self._init_dates(dates, freq)\n",
      "/home/bluterplay/jupyter/vlapd/lib/python3.10/site-packages/statsmodels/tsa/base/tsa_model.py:471: ValueWarning: No frequency information was provided, so inferred frequency W-MON will be used.\n",
      "  self._init_dates(dates, freq)\n",
      "/home/bluterplay/jupyter/vlapd/lib/python3.10/site-packages/statsmodels/tsa/base/tsa_model.py:471: ValueWarning: No frequency information was provided, so inferred frequency W-MON will be used.\n",
      "  self._init_dates(dates, freq)\n",
      "/home/bluterplay/jupyter/vlapd/lib/python3.10/site-packages/statsmodels/tsa/base/tsa_model.py:471: ValueWarning: No frequency information was provided, so inferred frequency W-MON will be used.\n",
      "  self._init_dates(dates, freq)\n",
      "/home/bluterplay/jupyter/vlapd/lib/python3.10/site-packages/statsmodels/tsa/base/tsa_model.py:471: ValueWarning: No frequency information was provided, so inferred frequency W-MON will be used.\n",
      "  self._init_dates(dates, freq)\n",
      "/home/bluterplay/jupyter/vlapd/lib/python3.10/site-packages/statsmodels/tsa/base/tsa_model.py:471: ValueWarning: No frequency information was provided, so inferred frequency W-MON will be used.\n",
      "  self._init_dates(dates, freq)\n",
      "/home/bluterplay/jupyter/vlapd/lib/python3.10/site-packages/statsmodels/tsa/base/tsa_model.py:471: ValueWarning: No frequency information was provided, so inferred frequency W-MON will be used.\n",
      "  self._init_dates(dates, freq)\n"
     ]
    }
   ],
   "source": [
    "feature.smoothing(column)"
   ]
  },
  {
   "cell_type": "code",
   "execution_count": 17,
   "id": "69ce0a42-98d6-4ea3-ac9c-c1cdb3afa8ac",
   "metadata": {
    "tags": []
   },
   "outputs": [
    {
     "data": {
      "text/html": [
       "<div>\n",
       "<style scoped>\n",
       "    .dataframe tbody tr th:only-of-type {\n",
       "        vertical-align: middle;\n",
       "    }\n",
       "\n",
       "    .dataframe tbody tr th {\n",
       "        vertical-align: top;\n",
       "    }\n",
       "\n",
       "    .dataframe thead th {\n",
       "        text-align: right;\n",
       "    }\n",
       "</style>\n",
       "<table border=\"1\" class=\"dataframe\">\n",
       "  <thead>\n",
       "    <tr style=\"text-align: right;\">\n",
       "      <th></th>\n",
       "      <th>Crimes_Z4T100</th>\n",
       "      <th>Crimes_Z4T100_1</th>\n",
       "      <th>Crimes_Z4T100_2</th>\n",
       "      <th>Crimes_Z4T100_3</th>\n",
       "      <th>Crimes_Z4T100_4</th>\n",
       "      <th>Crimes_Z4T100_5</th>\n",
       "      <th>Crimes_Z4T100_6</th>\n",
       "      <th>Crimes_Z4T100_7</th>\n",
       "      <th>Crimes_Z4T100_8</th>\n",
       "      <th>Crimes_Z4T100_9</th>\n",
       "      <th>...</th>\n",
       "      <th>Crimes_Z4T100_32</th>\n",
       "      <th>Crimes_Z4T100_33</th>\n",
       "      <th>exp0.2</th>\n",
       "      <th>exp0.3</th>\n",
       "      <th>exp0.4</th>\n",
       "      <th>exp0.5</th>\n",
       "      <th>exp0.6</th>\n",
       "      <th>exp0.7</th>\n",
       "      <th>exp0.8</th>\n",
       "      <th>exp0.9</th>\n",
       "    </tr>\n",
       "    <tr>\n",
       "      <th>date</th>\n",
       "      <th></th>\n",
       "      <th></th>\n",
       "      <th></th>\n",
       "      <th></th>\n",
       "      <th></th>\n",
       "      <th></th>\n",
       "      <th></th>\n",
       "      <th></th>\n",
       "      <th></th>\n",
       "      <th></th>\n",
       "      <th></th>\n",
       "      <th></th>\n",
       "      <th></th>\n",
       "      <th></th>\n",
       "      <th></th>\n",
       "      <th></th>\n",
       "      <th></th>\n",
       "      <th></th>\n",
       "      <th></th>\n",
       "      <th></th>\n",
       "      <th></th>\n",
       "    </tr>\n",
       "  </thead>\n",
       "  <tbody>\n",
       "    <tr>\n",
       "      <th>2019-12-30</th>\n",
       "      <td>30.0</td>\n",
       "      <td>NaN</td>\n",
       "      <td>NaN</td>\n",
       "      <td>NaN</td>\n",
       "      <td>NaN</td>\n",
       "      <td>NaN</td>\n",
       "      <td>NaN</td>\n",
       "      <td>NaN</td>\n",
       "      <td>NaN</td>\n",
       "      <td>NaN</td>\n",
       "      <td>...</td>\n",
       "      <td>NaN</td>\n",
       "      <td>NaN</td>\n",
       "      <td>28.20000</td>\n",
       "      <td>28.20000</td>\n",
       "      <td>28.20000</td>\n",
       "      <td>28.2000</td>\n",
       "      <td>28.20000</td>\n",
       "      <td>28.20000</td>\n",
       "      <td>28.20000</td>\n",
       "      <td>28.20000</td>\n",
       "    </tr>\n",
       "    <tr>\n",
       "      <th>2020-01-06</th>\n",
       "      <td>31.0</td>\n",
       "      <td>30.0</td>\n",
       "      <td>NaN</td>\n",
       "      <td>NaN</td>\n",
       "      <td>NaN</td>\n",
       "      <td>NaN</td>\n",
       "      <td>NaN</td>\n",
       "      <td>NaN</td>\n",
       "      <td>NaN</td>\n",
       "      <td>NaN</td>\n",
       "      <td>...</td>\n",
       "      <td>NaN</td>\n",
       "      <td>NaN</td>\n",
       "      <td>28.56000</td>\n",
       "      <td>28.74000</td>\n",
       "      <td>28.92000</td>\n",
       "      <td>29.1000</td>\n",
       "      <td>29.28000</td>\n",
       "      <td>29.46000</td>\n",
       "      <td>29.64000</td>\n",
       "      <td>29.82000</td>\n",
       "    </tr>\n",
       "    <tr>\n",
       "      <th>2020-01-13</th>\n",
       "      <td>34.0</td>\n",
       "      <td>31.0</td>\n",
       "      <td>30.0</td>\n",
       "      <td>NaN</td>\n",
       "      <td>NaN</td>\n",
       "      <td>NaN</td>\n",
       "      <td>NaN</td>\n",
       "      <td>NaN</td>\n",
       "      <td>NaN</td>\n",
       "      <td>NaN</td>\n",
       "      <td>...</td>\n",
       "      <td>NaN</td>\n",
       "      <td>NaN</td>\n",
       "      <td>29.04800</td>\n",
       "      <td>29.41800</td>\n",
       "      <td>29.75200</td>\n",
       "      <td>30.0500</td>\n",
       "      <td>30.31200</td>\n",
       "      <td>30.53800</td>\n",
       "      <td>30.72800</td>\n",
       "      <td>30.88200</td>\n",
       "    </tr>\n",
       "    <tr>\n",
       "      <th>2020-01-20</th>\n",
       "      <td>34.0</td>\n",
       "      <td>34.0</td>\n",
       "      <td>31.0</td>\n",
       "      <td>30.0</td>\n",
       "      <td>NaN</td>\n",
       "      <td>NaN</td>\n",
       "      <td>NaN</td>\n",
       "      <td>NaN</td>\n",
       "      <td>NaN</td>\n",
       "      <td>NaN</td>\n",
       "      <td>...</td>\n",
       "      <td>NaN</td>\n",
       "      <td>NaN</td>\n",
       "      <td>30.03840</td>\n",
       "      <td>30.79260</td>\n",
       "      <td>31.45120</td>\n",
       "      <td>32.0250</td>\n",
       "      <td>32.52480</td>\n",
       "      <td>32.96140</td>\n",
       "      <td>33.34560</td>\n",
       "      <td>33.68820</td>\n",
       "    </tr>\n",
       "    <tr>\n",
       "      <th>2020-01-27</th>\n",
       "      <td>32.0</td>\n",
       "      <td>34.0</td>\n",
       "      <td>34.0</td>\n",
       "      <td>31.0</td>\n",
       "      <td>30.0</td>\n",
       "      <td>NaN</td>\n",
       "      <td>NaN</td>\n",
       "      <td>NaN</td>\n",
       "      <td>NaN</td>\n",
       "      <td>NaN</td>\n",
       "      <td>...</td>\n",
       "      <td>NaN</td>\n",
       "      <td>NaN</td>\n",
       "      <td>30.83072</td>\n",
       "      <td>31.75482</td>\n",
       "      <td>32.47072</td>\n",
       "      <td>33.0125</td>\n",
       "      <td>33.40992</td>\n",
       "      <td>33.68842</td>\n",
       "      <td>33.86912</td>\n",
       "      <td>33.96882</td>\n",
       "    </tr>\n",
       "  </tbody>\n",
       "</table>\n",
       "<p>5 rows × 42 columns</p>\n",
       "</div>"
      ],
      "text/plain": [
       "            Crimes_Z4T100  Crimes_Z4T100_1  Crimes_Z4T100_2  Crimes_Z4T100_3  \\\n",
       "date                                                                           \n",
       "2019-12-30           30.0              NaN              NaN              NaN   \n",
       "2020-01-06           31.0             30.0              NaN              NaN   \n",
       "2020-01-13           34.0             31.0             30.0              NaN   \n",
       "2020-01-20           34.0             34.0             31.0             30.0   \n",
       "2020-01-27           32.0             34.0             34.0             31.0   \n",
       "\n",
       "            Crimes_Z4T100_4  Crimes_Z4T100_5  Crimes_Z4T100_6  \\\n",
       "date                                                            \n",
       "2019-12-30              NaN              NaN              NaN   \n",
       "2020-01-06              NaN              NaN              NaN   \n",
       "2020-01-13              NaN              NaN              NaN   \n",
       "2020-01-20              NaN              NaN              NaN   \n",
       "2020-01-27             30.0              NaN              NaN   \n",
       "\n",
       "            Crimes_Z4T100_7  Crimes_Z4T100_8  Crimes_Z4T100_9  ...  \\\n",
       "date                                                           ...   \n",
       "2019-12-30              NaN              NaN              NaN  ...   \n",
       "2020-01-06              NaN              NaN              NaN  ...   \n",
       "2020-01-13              NaN              NaN              NaN  ...   \n",
       "2020-01-20              NaN              NaN              NaN  ...   \n",
       "2020-01-27              NaN              NaN              NaN  ...   \n",
       "\n",
       "            Crimes_Z4T100_32  Crimes_Z4T100_33    exp0.2    exp0.3    exp0.4  \\\n",
       "date                                                                           \n",
       "2019-12-30               NaN               NaN  28.20000  28.20000  28.20000   \n",
       "2020-01-06               NaN               NaN  28.56000  28.74000  28.92000   \n",
       "2020-01-13               NaN               NaN  29.04800  29.41800  29.75200   \n",
       "2020-01-20               NaN               NaN  30.03840  30.79260  31.45120   \n",
       "2020-01-27               NaN               NaN  30.83072  31.75482  32.47072   \n",
       "\n",
       "             exp0.5    exp0.6    exp0.7    exp0.8    exp0.9  \n",
       "date                                                         \n",
       "2019-12-30  28.2000  28.20000  28.20000  28.20000  28.20000  \n",
       "2020-01-06  29.1000  29.28000  29.46000  29.64000  29.82000  \n",
       "2020-01-13  30.0500  30.31200  30.53800  30.72800  30.88200  \n",
       "2020-01-20  32.0250  32.52480  32.96140  33.34560  33.68820  \n",
       "2020-01-27  33.0125  33.40992  33.68842  33.86912  33.96882  \n",
       "\n",
       "[5 rows x 42 columns]"
      ]
     },
     "execution_count": 17,
     "metadata": {},
     "output_type": "execute_result"
    }
   ],
   "source": [
    "feature.temp.head()"
   ]
  },
  {
   "cell_type": "markdown",
   "id": "bf3e5310-9273-4d85-97b3-cb4640d2b7c2",
   "metadata": {},
   "source": [
    "### Create MA"
   ]
  },
  {
   "cell_type": "code",
   "execution_count": 18,
   "id": "5033aaa9-f378-4b99-8ac2-cbfd2da9bf6e",
   "metadata": {
    "tags": []
   },
   "outputs": [],
   "source": [
    "feature.createMA(column)"
   ]
  },
  {
   "cell_type": "code",
   "execution_count": 19,
   "id": "de7e7c02-da7a-43e1-80e8-2012d18d8ef1",
   "metadata": {
    "tags": []
   },
   "outputs": [
    {
     "data": {
      "text/html": [
       "<div>\n",
       "<style scoped>\n",
       "    .dataframe tbody tr th:only-of-type {\n",
       "        vertical-align: middle;\n",
       "    }\n",
       "\n",
       "    .dataframe tbody tr th {\n",
       "        vertical-align: top;\n",
       "    }\n",
       "\n",
       "    .dataframe thead th {\n",
       "        text-align: right;\n",
       "    }\n",
       "</style>\n",
       "<table border=\"1\" class=\"dataframe\">\n",
       "  <thead>\n",
       "    <tr style=\"text-align: right;\">\n",
       "      <th></th>\n",
       "      <th>Crimes_Z4T100</th>\n",
       "      <th>Crimes_Z4T100_1</th>\n",
       "      <th>Crimes_Z4T100_2</th>\n",
       "      <th>Crimes_Z4T100_3</th>\n",
       "      <th>Crimes_Z4T100_4</th>\n",
       "      <th>Crimes_Z4T100_5</th>\n",
       "      <th>Crimes_Z4T100_6</th>\n",
       "      <th>Crimes_Z4T100_7</th>\n",
       "      <th>Crimes_Z4T100_8</th>\n",
       "      <th>Crimes_Z4T100_9</th>\n",
       "      <th>...</th>\n",
       "      <th>exp0.2</th>\n",
       "      <th>exp0.3</th>\n",
       "      <th>exp0.4</th>\n",
       "      <th>exp0.5</th>\n",
       "      <th>exp0.6</th>\n",
       "      <th>exp0.7</th>\n",
       "      <th>exp0.8</th>\n",
       "      <th>exp0.9</th>\n",
       "      <th>MA5</th>\n",
       "      <th>MA10</th>\n",
       "    </tr>\n",
       "    <tr>\n",
       "      <th>date</th>\n",
       "      <th></th>\n",
       "      <th></th>\n",
       "      <th></th>\n",
       "      <th></th>\n",
       "      <th></th>\n",
       "      <th></th>\n",
       "      <th></th>\n",
       "      <th></th>\n",
       "      <th></th>\n",
       "      <th></th>\n",
       "      <th></th>\n",
       "      <th></th>\n",
       "      <th></th>\n",
       "      <th></th>\n",
       "      <th></th>\n",
       "      <th></th>\n",
       "      <th></th>\n",
       "      <th></th>\n",
       "      <th></th>\n",
       "      <th></th>\n",
       "      <th></th>\n",
       "    </tr>\n",
       "  </thead>\n",
       "  <tbody>\n",
       "    <tr>\n",
       "      <th>2022-01-24</th>\n",
       "      <td>49.0</td>\n",
       "      <td>50.0</td>\n",
       "      <td>36.0</td>\n",
       "      <td>33.0</td>\n",
       "      <td>37.0</td>\n",
       "      <td>23.0</td>\n",
       "      <td>29.0</td>\n",
       "      <td>40.0</td>\n",
       "      <td>46.0</td>\n",
       "      <td>43.0</td>\n",
       "      <td>...</td>\n",
       "      <td>38.980269</td>\n",
       "      <td>39.340409</td>\n",
       "      <td>40.647100</td>\n",
       "      <td>42.263895</td>\n",
       "      <td>43.931055</td>\n",
       "      <td>45.548240</td>\n",
       "      <td>47.092291</td>\n",
       "      <td>48.572672</td>\n",
       "      <td>41.0</td>\n",
       "      <td>38.6</td>\n",
       "    </tr>\n",
       "    <tr>\n",
       "      <th>2022-01-31</th>\n",
       "      <td>53.0</td>\n",
       "      <td>49.0</td>\n",
       "      <td>50.0</td>\n",
       "      <td>36.0</td>\n",
       "      <td>33.0</td>\n",
       "      <td>37.0</td>\n",
       "      <td>23.0</td>\n",
       "      <td>29.0</td>\n",
       "      <td>40.0</td>\n",
       "      <td>46.0</td>\n",
       "      <td>...</td>\n",
       "      <td>40.984215</td>\n",
       "      <td>42.238286</td>\n",
       "      <td>43.988260</td>\n",
       "      <td>45.631947</td>\n",
       "      <td>46.972422</td>\n",
       "      <td>47.964472</td>\n",
       "      <td>48.618458</td>\n",
       "      <td>48.957267</td>\n",
       "      <td>44.2</td>\n",
       "      <td>39.6</td>\n",
       "    </tr>\n",
       "    <tr>\n",
       "      <th>2022-02-07</th>\n",
       "      <td>69.0</td>\n",
       "      <td>53.0</td>\n",
       "      <td>49.0</td>\n",
       "      <td>50.0</td>\n",
       "      <td>36.0</td>\n",
       "      <td>33.0</td>\n",
       "      <td>37.0</td>\n",
       "      <td>23.0</td>\n",
       "      <td>29.0</td>\n",
       "      <td>40.0</td>\n",
       "      <td>...</td>\n",
       "      <td>43.387372</td>\n",
       "      <td>45.466800</td>\n",
       "      <td>47.592956</td>\n",
       "      <td>49.315974</td>\n",
       "      <td>50.588969</td>\n",
       "      <td>51.489342</td>\n",
       "      <td>52.123692</td>\n",
       "      <td>52.595727</td>\n",
       "      <td>51.4</td>\n",
       "      <td>41.9</td>\n",
       "    </tr>\n",
       "    <tr>\n",
       "      <th>2022-02-14</th>\n",
       "      <td>41.0</td>\n",
       "      <td>69.0</td>\n",
       "      <td>53.0</td>\n",
       "      <td>49.0</td>\n",
       "      <td>50.0</td>\n",
       "      <td>36.0</td>\n",
       "      <td>33.0</td>\n",
       "      <td>37.0</td>\n",
       "      <td>23.0</td>\n",
       "      <td>29.0</td>\n",
       "      <td>...</td>\n",
       "      <td>48.509898</td>\n",
       "      <td>52.526760</td>\n",
       "      <td>56.155774</td>\n",
       "      <td>59.157987</td>\n",
       "      <td>61.635587</td>\n",
       "      <td>63.746802</td>\n",
       "      <td>65.624738</td>\n",
       "      <td>67.359573</td>\n",
       "      <td>52.4</td>\n",
       "      <td>42.0</td>\n",
       "    </tr>\n",
       "    <tr>\n",
       "      <th>2022-02-21</th>\n",
       "      <td>38.0</td>\n",
       "      <td>41.0</td>\n",
       "      <td>69.0</td>\n",
       "      <td>53.0</td>\n",
       "      <td>49.0</td>\n",
       "      <td>50.0</td>\n",
       "      <td>36.0</td>\n",
       "      <td>33.0</td>\n",
       "      <td>37.0</td>\n",
       "      <td>23.0</td>\n",
       "      <td>...</td>\n",
       "      <td>47.007918</td>\n",
       "      <td>49.068732</td>\n",
       "      <td>50.093464</td>\n",
       "      <td>50.078993</td>\n",
       "      <td>49.254235</td>\n",
       "      <td>47.824041</td>\n",
       "      <td>45.924948</td>\n",
       "      <td>43.635957</td>\n",
       "      <td>50.0</td>\n",
       "      <td>42.9</td>\n",
       "    </tr>\n",
       "  </tbody>\n",
       "</table>\n",
       "<p>5 rows × 44 columns</p>\n",
       "</div>"
      ],
      "text/plain": [
       "            Crimes_Z4T100  Crimes_Z4T100_1  Crimes_Z4T100_2  Crimes_Z4T100_3  \\\n",
       "date                                                                           \n",
       "2022-01-24           49.0             50.0             36.0             33.0   \n",
       "2022-01-31           53.0             49.0             50.0             36.0   \n",
       "2022-02-07           69.0             53.0             49.0             50.0   \n",
       "2022-02-14           41.0             69.0             53.0             49.0   \n",
       "2022-02-21           38.0             41.0             69.0             53.0   \n",
       "\n",
       "            Crimes_Z4T100_4  Crimes_Z4T100_5  Crimes_Z4T100_6  \\\n",
       "date                                                            \n",
       "2022-01-24             37.0             23.0             29.0   \n",
       "2022-01-31             33.0             37.0             23.0   \n",
       "2022-02-07             36.0             33.0             37.0   \n",
       "2022-02-14             50.0             36.0             33.0   \n",
       "2022-02-21             49.0             50.0             36.0   \n",
       "\n",
       "            Crimes_Z4T100_7  Crimes_Z4T100_8  Crimes_Z4T100_9  ...     exp0.2  \\\n",
       "date                                                           ...              \n",
       "2022-01-24             40.0             46.0             43.0  ...  38.980269   \n",
       "2022-01-31             29.0             40.0             46.0  ...  40.984215   \n",
       "2022-02-07             23.0             29.0             40.0  ...  43.387372   \n",
       "2022-02-14             37.0             23.0             29.0  ...  48.509898   \n",
       "2022-02-21             33.0             37.0             23.0  ...  47.007918   \n",
       "\n",
       "               exp0.3     exp0.4     exp0.5     exp0.6     exp0.7     exp0.8  \\\n",
       "date                                                                           \n",
       "2022-01-24  39.340409  40.647100  42.263895  43.931055  45.548240  47.092291   \n",
       "2022-01-31  42.238286  43.988260  45.631947  46.972422  47.964472  48.618458   \n",
       "2022-02-07  45.466800  47.592956  49.315974  50.588969  51.489342  52.123692   \n",
       "2022-02-14  52.526760  56.155774  59.157987  61.635587  63.746802  65.624738   \n",
       "2022-02-21  49.068732  50.093464  50.078993  49.254235  47.824041  45.924948   \n",
       "\n",
       "               exp0.9   MA5  MA10  \n",
       "date                               \n",
       "2022-01-24  48.572672  41.0  38.6  \n",
       "2022-01-31  48.957267  44.2  39.6  \n",
       "2022-02-07  52.595727  51.4  41.9  \n",
       "2022-02-14  67.359573  52.4  42.0  \n",
       "2022-02-21  43.635957  50.0  42.9  \n",
       "\n",
       "[5 rows x 44 columns]"
      ]
     },
     "execution_count": 19,
     "metadata": {},
     "output_type": "execute_result"
    }
   ],
   "source": [
    "feature.temp.tail()"
   ]
  },
  {
   "cell_type": "code",
   "execution_count": 20,
   "id": "836f8cde-470f-4655-9281-61853e01ca0a",
   "metadata": {
    "tags": []
   },
   "outputs": [],
   "source": [
    "feature.temp.dropna(inplace=True)"
   ]
  },
  {
   "cell_type": "code",
   "execution_count": 21,
   "id": "950a5cf8-56ac-4448-b2cc-0ee59352bf10",
   "metadata": {
    "tags": []
   },
   "outputs": [
    {
     "data": {
      "text/html": [
       "<div>\n",
       "<style scoped>\n",
       "    .dataframe tbody tr th:only-of-type {\n",
       "        vertical-align: middle;\n",
       "    }\n",
       "\n",
       "    .dataframe tbody tr th {\n",
       "        vertical-align: top;\n",
       "    }\n",
       "\n",
       "    .dataframe thead th {\n",
       "        text-align: right;\n",
       "    }\n",
       "</style>\n",
       "<table border=\"1\" class=\"dataframe\">\n",
       "  <thead>\n",
       "    <tr style=\"text-align: right;\">\n",
       "      <th></th>\n",
       "      <th>Crimes_Z4T100</th>\n",
       "      <th>Crimes_Z4T100_1</th>\n",
       "      <th>Crimes_Z4T100_2</th>\n",
       "      <th>Crimes_Z4T100_3</th>\n",
       "      <th>Crimes_Z4T100_4</th>\n",
       "      <th>Crimes_Z4T100_5</th>\n",
       "      <th>Crimes_Z4T100_6</th>\n",
       "      <th>Crimes_Z4T100_7</th>\n",
       "      <th>Crimes_Z4T100_8</th>\n",
       "      <th>Crimes_Z4T100_9</th>\n",
       "      <th>...</th>\n",
       "      <th>exp0.2</th>\n",
       "      <th>exp0.3</th>\n",
       "      <th>exp0.4</th>\n",
       "      <th>exp0.5</th>\n",
       "      <th>exp0.6</th>\n",
       "      <th>exp0.7</th>\n",
       "      <th>exp0.8</th>\n",
       "      <th>exp0.9</th>\n",
       "      <th>MA5</th>\n",
       "      <th>MA10</th>\n",
       "    </tr>\n",
       "    <tr>\n",
       "      <th>date</th>\n",
       "      <th></th>\n",
       "      <th></th>\n",
       "      <th></th>\n",
       "      <th></th>\n",
       "      <th></th>\n",
       "      <th></th>\n",
       "      <th></th>\n",
       "      <th></th>\n",
       "      <th></th>\n",
       "      <th></th>\n",
       "      <th></th>\n",
       "      <th></th>\n",
       "      <th></th>\n",
       "      <th></th>\n",
       "      <th></th>\n",
       "      <th></th>\n",
       "      <th></th>\n",
       "      <th></th>\n",
       "      <th></th>\n",
       "      <th></th>\n",
       "      <th></th>\n",
       "    </tr>\n",
       "  </thead>\n",
       "  <tbody>\n",
       "    <tr>\n",
       "      <th>2020-08-17</th>\n",
       "      <td>60.0</td>\n",
       "      <td>53.0</td>\n",
       "      <td>44.0</td>\n",
       "      <td>41.0</td>\n",
       "      <td>49.0</td>\n",
       "      <td>72.0</td>\n",
       "      <td>49.0</td>\n",
       "      <td>55.0</td>\n",
       "      <td>41.0</td>\n",
       "      <td>35.0</td>\n",
       "      <td>...</td>\n",
       "      <td>48.133055</td>\n",
       "      <td>49.076630</td>\n",
       "      <td>49.299167</td>\n",
       "      <td>49.446025</td>\n",
       "      <td>49.785524</td>\n",
       "      <td>50.377546</td>\n",
       "      <td>51.173636</td>\n",
       "      <td>52.080075</td>\n",
       "      <td>49.4</td>\n",
       "      <td>49.9</td>\n",
       "    </tr>\n",
       "    <tr>\n",
       "      <th>2020-08-24</th>\n",
       "      <td>42.0</td>\n",
       "      <td>60.0</td>\n",
       "      <td>53.0</td>\n",
       "      <td>44.0</td>\n",
       "      <td>41.0</td>\n",
       "      <td>49.0</td>\n",
       "      <td>72.0</td>\n",
       "      <td>49.0</td>\n",
       "      <td>55.0</td>\n",
       "      <td>41.0</td>\n",
       "      <td>...</td>\n",
       "      <td>50.506444</td>\n",
       "      <td>52.353641</td>\n",
       "      <td>53.579500</td>\n",
       "      <td>54.723012</td>\n",
       "      <td>55.914209</td>\n",
       "      <td>57.113264</td>\n",
       "      <td>58.234727</td>\n",
       "      <td>59.208007</td>\n",
       "      <td>48.0</td>\n",
       "      <td>50.6</td>\n",
       "    </tr>\n",
       "    <tr>\n",
       "      <th>2020-08-31</th>\n",
       "      <td>50.0</td>\n",
       "      <td>42.0</td>\n",
       "      <td>60.0</td>\n",
       "      <td>53.0</td>\n",
       "      <td>44.0</td>\n",
       "      <td>41.0</td>\n",
       "      <td>49.0</td>\n",
       "      <td>72.0</td>\n",
       "      <td>49.0</td>\n",
       "      <td>55.0</td>\n",
       "      <td>...</td>\n",
       "      <td>48.805155</td>\n",
       "      <td>49.247549</td>\n",
       "      <td>48.947700</td>\n",
       "      <td>48.361506</td>\n",
       "      <td>47.565684</td>\n",
       "      <td>46.533979</td>\n",
       "      <td>45.246945</td>\n",
       "      <td>43.720801</td>\n",
       "      <td>49.8</td>\n",
       "      <td>51.5</td>\n",
       "    </tr>\n",
       "    <tr>\n",
       "      <th>2020-09-07</th>\n",
       "      <td>44.0</td>\n",
       "      <td>50.0</td>\n",
       "      <td>42.0</td>\n",
       "      <td>60.0</td>\n",
       "      <td>53.0</td>\n",
       "      <td>44.0</td>\n",
       "      <td>41.0</td>\n",
       "      <td>49.0</td>\n",
       "      <td>72.0</td>\n",
       "      <td>49.0</td>\n",
       "      <td>...</td>\n",
       "      <td>49.044124</td>\n",
       "      <td>49.473284</td>\n",
       "      <td>49.368620</td>\n",
       "      <td>49.180753</td>\n",
       "      <td>49.026274</td>\n",
       "      <td>48.960194</td>\n",
       "      <td>49.049389</td>\n",
       "      <td>49.372080</td>\n",
       "      <td>49.8</td>\n",
       "      <td>50.4</td>\n",
       "    </tr>\n",
       "    <tr>\n",
       "      <th>2020-09-14</th>\n",
       "      <td>58.0</td>\n",
       "      <td>44.0</td>\n",
       "      <td>50.0</td>\n",
       "      <td>42.0</td>\n",
       "      <td>60.0</td>\n",
       "      <td>53.0</td>\n",
       "      <td>44.0</td>\n",
       "      <td>41.0</td>\n",
       "      <td>49.0</td>\n",
       "      <td>72.0</td>\n",
       "      <td>...</td>\n",
       "      <td>48.035299</td>\n",
       "      <td>47.831299</td>\n",
       "      <td>47.221172</td>\n",
       "      <td>46.590377</td>\n",
       "      <td>46.010509</td>\n",
       "      <td>45.488058</td>\n",
       "      <td>45.009878</td>\n",
       "      <td>44.537208</td>\n",
       "      <td>50.8</td>\n",
       "      <td>51.3</td>\n",
       "    </tr>\n",
       "  </tbody>\n",
       "</table>\n",
       "<p>5 rows × 44 columns</p>\n",
       "</div>"
      ],
      "text/plain": [
       "            Crimes_Z4T100  Crimes_Z4T100_1  Crimes_Z4T100_2  Crimes_Z4T100_3  \\\n",
       "date                                                                           \n",
       "2020-08-17           60.0             53.0             44.0             41.0   \n",
       "2020-08-24           42.0             60.0             53.0             44.0   \n",
       "2020-08-31           50.0             42.0             60.0             53.0   \n",
       "2020-09-07           44.0             50.0             42.0             60.0   \n",
       "2020-09-14           58.0             44.0             50.0             42.0   \n",
       "\n",
       "            Crimes_Z4T100_4  Crimes_Z4T100_5  Crimes_Z4T100_6  \\\n",
       "date                                                            \n",
       "2020-08-17             49.0             72.0             49.0   \n",
       "2020-08-24             41.0             49.0             72.0   \n",
       "2020-08-31             44.0             41.0             49.0   \n",
       "2020-09-07             53.0             44.0             41.0   \n",
       "2020-09-14             60.0             53.0             44.0   \n",
       "\n",
       "            Crimes_Z4T100_7  Crimes_Z4T100_8  Crimes_Z4T100_9  ...     exp0.2  \\\n",
       "date                                                           ...              \n",
       "2020-08-17             55.0             41.0             35.0  ...  48.133055   \n",
       "2020-08-24             49.0             55.0             41.0  ...  50.506444   \n",
       "2020-08-31             72.0             49.0             55.0  ...  48.805155   \n",
       "2020-09-07             49.0             72.0             49.0  ...  49.044124   \n",
       "2020-09-14             41.0             49.0             72.0  ...  48.035299   \n",
       "\n",
       "               exp0.3     exp0.4     exp0.5     exp0.6     exp0.7     exp0.8  \\\n",
       "date                                                                           \n",
       "2020-08-17  49.076630  49.299167  49.446025  49.785524  50.377546  51.173636   \n",
       "2020-08-24  52.353641  53.579500  54.723012  55.914209  57.113264  58.234727   \n",
       "2020-08-31  49.247549  48.947700  48.361506  47.565684  46.533979  45.246945   \n",
       "2020-09-07  49.473284  49.368620  49.180753  49.026274  48.960194  49.049389   \n",
       "2020-09-14  47.831299  47.221172  46.590377  46.010509  45.488058  45.009878   \n",
       "\n",
       "               exp0.9   MA5  MA10  \n",
       "date                               \n",
       "2020-08-17  52.080075  49.4  49.9  \n",
       "2020-08-24  59.208007  48.0  50.6  \n",
       "2020-08-31  43.720801  49.8  51.5  \n",
       "2020-09-07  49.372080  49.8  50.4  \n",
       "2020-09-14  44.537208  50.8  51.3  \n",
       "\n",
       "[5 rows x 44 columns]"
      ]
     },
     "execution_count": 21,
     "metadata": {},
     "output_type": "execute_result"
    }
   ],
   "source": [
    "feature.temp.head()"
   ]
  },
  {
   "cell_type": "code",
   "execution_count": 22,
   "id": "9a35607d-cf34-401c-8f72-e2e4f6e9b342",
   "metadata": {
    "tags": []
   },
   "outputs": [],
   "source": [
    "df_cubo.to_csv(\"features.csv\")"
   ]
  },
  {
   "cell_type": "markdown",
   "id": "98e18f94-bda3-4c11-8938-856bacf36dab",
   "metadata": {},
   "source": [
    "### New models"
   ]
  },
  {
   "cell_type": "markdown",
   "id": "6459f788-73a4-42e9-a701-6d402e406ee3",
   "metadata": {},
   "source": [
    "## Predictions"
   ]
  },
  {
   "cell_type": "code",
   "execution_count": null,
   "id": "3465c73b-1603-469a-bbfa-165d14898ffc",
   "metadata": {},
   "outputs": [],
   "source": [
    "class Predictions():\n",
    "    def __init__(self,df):\n",
    "        self.df= df\n",
    "        self.star= df[\"date\"].max()\n",
    "        self.end= ( datetime.strptime(self.start, '%Y-%m-%d') + timedelta(days=7)).strftime('%Y-%m-%d')\n",
    "        date_index = date_range(start=start, end=end, freq=\"D\")\n",
    "        self.temp= pd.DataFrame(columns=self.df.columns[1:], index=date_index)\n",
    "        \n",
    "    def scalerData(self,column,sc,sc2):\n",
    "        X,y=self.temp.drop([column],axis=1).to_numpy(),self.temp[[column]].to_numpy(),\n",
    "\n",
    "        X=sc.transform(X)\n",
    "        y=sc2.transform(y)\n",
    "\n",
    "\n",
    "        X= X.reshape(X.shape[0], 1, X.shape[1])\n",
    "        return X, y"
   ]
  },
  {
   "cell_type": "code",
   "execution_count": null,
   "id": "c481c907-fe01-4728-a3be-8262e2806593",
   "metadata": {},
   "outputs": [],
   "source": []
  },
  {
   "cell_type": "code",
   "execution_count": 47,
   "id": "c108d267-ebff-4289-8afa-404aaab1b5d3",
   "metadata": {
    "tags": []
   },
   "outputs": [],
   "source": [
    "feature.temp.to_csv(\"Feature.csv\")"
   ]
  },
  {
   "cell_type": "code",
   "execution_count": 143,
   "id": "7ac5b7b3-4cc1-4900-851b-147e964e52f3",
   "metadata": {
    "tags": []
   },
   "outputs": [],
   "source": [
    "df_feature= pd.read_csv(\"Feature.csv\")"
   ]
  },
  {
   "cell_type": "code",
   "execution_count": 120,
   "id": "913b5934-7177-4fa0-8902-e63bae6dd5c7",
   "metadata": {
    "tags": []
   },
   "outputs": [
    {
     "name": "stderr",
     "output_type": "stream",
     "text": [
      "2023-05-05 13:21:12.261558: I tensorflow/core/common_runtime/executor.cc:1197] [/device:CPU:0] (DEBUG INFO) Executor start aborting (this does not indicate an error and you can ignore this message): INVALID_ARGUMENT: You must feed a value for placeholder tensor 'gradients/split_2_grad/concat/split_2/split_dim' with dtype int32\n",
      "\t [[{{node gradients/split_2_grad/concat/split_2/split_dim}}]]\n",
      "2023-05-05 13:21:12.263407: I tensorflow/core/common_runtime/executor.cc:1197] [/device:CPU:0] (DEBUG INFO) Executor start aborting (this does not indicate an error and you can ignore this message): INVALID_ARGUMENT: You must feed a value for placeholder tensor 'gradients/split_grad/concat/split/split_dim' with dtype int32\n",
      "\t [[{{node gradients/split_grad/concat/split/split_dim}}]]\n",
      "2023-05-05 13:21:12.264812: I tensorflow/core/common_runtime/executor.cc:1197] [/device:CPU:0] (DEBUG INFO) Executor start aborting (this does not indicate an error and you can ignore this message): INVALID_ARGUMENT: You must feed a value for placeholder tensor 'gradients/split_1_grad/concat/split_1/split_dim' with dtype int32\n",
      "\t [[{{node gradients/split_1_grad/concat/split_1/split_dim}}]]\n"
     ]
    }
   ],
   "source": [
    "with open(\"models/FeatureEngineer/LSTM/model_100_4.pkl\", \"rb\") as m:\n",
    "    model = pickle.load(m)"
   ]
  },
  {
   "cell_type": "code",
   "execution_count": 132,
   "id": "2efe8b99-5e21-4d9c-a6a8-49ffd7beb540",
   "metadata": {
    "tags": []
   },
   "outputs": [
    {
     "data": {
      "text/plain": [
       "(75, 1, 45)"
      ]
     },
     "execution_count": 132,
     "metadata": {},
     "output_type": "execute_result"
    }
   ],
   "source": [
    "X.shape"
   ]
  },
  {
   "cell_type": "code",
   "execution_count": 139,
   "id": "d69ccf31-1784-4c21-beef-7d8903e03328",
   "metadata": {
    "tags": []
   },
   "outputs": [],
   "source": [
    "a=X[-1].reshape((1,1,45))"
   ]
  },
  {
   "cell_type": "code",
   "execution_count": 140,
   "id": "3030ffa7-8e6a-4f71-9a4b-e07d5fa0551d",
   "metadata": {
    "tags": []
   },
   "outputs": [
    {
     "name": "stdout",
     "output_type": "stream",
     "text": [
      "1/1 [==============================] - 0s 22ms/step\n"
     ]
    }
   ],
   "source": [
    "predictions= sc2.inverse_transform(model.predict(a))"
   ]
  },
  {
   "cell_type": "code",
   "execution_count": 141,
   "id": "681c1d01-9bcd-421c-8d09-f8997468b12f",
   "metadata": {
    "tags": []
   },
   "outputs": [
    {
     "data": {
      "text/plain": [
       "array([[12.92631]], dtype=float32)"
      ]
     },
     "execution_count": 141,
     "metadata": {},
     "output_type": "execute_result"
    }
   ],
   "source": [
    "predictions"
   ]
  },
  {
   "cell_type": "code",
   "execution_count": 192,
   "id": "8864aa26-4d53-4ac4-8464-0ceb3cf088a1",
   "metadata": {
    "tags": []
   },
   "outputs": [],
   "source": [
    "test=pd.DataFrame(columns=df_feature.columns[1:], index=date_index)"
   ]
  },
  {
   "cell_type": "code",
   "execution_count": 196,
   "id": "119340fd-fc50-4de9-ac4a-641c226fb40f",
   "metadata": {
    "tags": []
   },
   "outputs": [],
   "source": [
    "test.iloc[:,-12:-4]=df_feature.iloc[-7:,-12:-4]"
   ]
  },
  {
   "cell_type": "code",
   "execution_count": 198,
   "id": "e9659721-5237-49b5-8ad0-009c217e030f",
   "metadata": {
    "tags": []
   },
   "outputs": [
    {
     "data": {
      "text/html": [
       "<div>\n",
       "<style scoped>\n",
       "    .dataframe tbody tr th:only-of-type {\n",
       "        vertical-align: middle;\n",
       "    }\n",
       "\n",
       "    .dataframe tbody tr th {\n",
       "        vertical-align: top;\n",
       "    }\n",
       "\n",
       "    .dataframe thead th {\n",
       "        text-align: right;\n",
       "    }\n",
       "</style>\n",
       "<table border=\"1\" class=\"dataframe\">\n",
       "  <thead>\n",
       "    <tr style=\"text-align: right;\">\n",
       "      <th></th>\n",
       "      <th>date</th>\n",
       "      <th>Crimes_Z3T100</th>\n",
       "      <th>Crimes_Z3T100_1</th>\n",
       "      <th>Crimes_Z3T100_2</th>\n",
       "      <th>Crimes_Z3T100_3</th>\n",
       "      <th>Crimes_Z3T100_4</th>\n",
       "      <th>Crimes_Z3T100_5</th>\n",
       "      <th>Crimes_Z3T100_6</th>\n",
       "      <th>Crimes_Z3T100_7</th>\n",
       "      <th>Crimes_Z3T100_8</th>\n",
       "      <th>...</th>\n",
       "      <th>exp0.4</th>\n",
       "      <th>exp0.5</th>\n",
       "      <th>exp0.6</th>\n",
       "      <th>exp0.7</th>\n",
       "      <th>exp0.8</th>\n",
       "      <th>exp0.9</th>\n",
       "      <th>MA10</th>\n",
       "      <th>MA20</th>\n",
       "      <th>MA30</th>\n",
       "      <th>MA40</th>\n",
       "    </tr>\n",
       "  </thead>\n",
       "  <tbody>\n",
       "    <tr>\n",
       "      <th>0</th>\n",
       "      <td>2023-02-16</td>\n",
       "      <td>24</td>\n",
       "      <td>19.0</td>\n",
       "      <td>14.0</td>\n",
       "      <td>18.0</td>\n",
       "      <td>17.0</td>\n",
       "      <td>12.0</td>\n",
       "      <td>10.0</td>\n",
       "      <td>18.0</td>\n",
       "      <td>10.0</td>\n",
       "      <td>...</td>\n",
       "      <td>16.694824</td>\n",
       "      <td>17.093156</td>\n",
       "      <td>17.452642</td>\n",
       "      <td>17.792305</td>\n",
       "      <td>18.143794</td>\n",
       "      <td>18.538487</td>\n",
       "      <td>16.3</td>\n",
       "      <td>16.60</td>\n",
       "      <td>16.633333</td>\n",
       "      <td>15.925</td>\n",
       "    </tr>\n",
       "    <tr>\n",
       "      <th>1</th>\n",
       "      <td>2023-02-17</td>\n",
       "      <td>6</td>\n",
       "      <td>24.0</td>\n",
       "      <td>19.0</td>\n",
       "      <td>14.0</td>\n",
       "      <td>18.0</td>\n",
       "      <td>17.0</td>\n",
       "      <td>12.0</td>\n",
       "      <td>10.0</td>\n",
       "      <td>18.0</td>\n",
       "      <td>...</td>\n",
       "      <td>19.616894</td>\n",
       "      <td>20.546578</td>\n",
       "      <td>21.381057</td>\n",
       "      <td>22.137691</td>\n",
       "      <td>22.828759</td>\n",
       "      <td>23.453849</td>\n",
       "      <td>14.8</td>\n",
       "      <td>16.20</td>\n",
       "      <td>16.166667</td>\n",
       "      <td>15.600</td>\n",
       "    </tr>\n",
       "    <tr>\n",
       "      <th>2</th>\n",
       "      <td>2023-02-18</td>\n",
       "      <td>21</td>\n",
       "      <td>6.0</td>\n",
       "      <td>24.0</td>\n",
       "      <td>19.0</td>\n",
       "      <td>14.0</td>\n",
       "      <td>18.0</td>\n",
       "      <td>17.0</td>\n",
       "      <td>12.0</td>\n",
       "      <td>10.0</td>\n",
       "      <td>...</td>\n",
       "      <td>14.170137</td>\n",
       "      <td>13.273289</td>\n",
       "      <td>12.152423</td>\n",
       "      <td>10.841307</td>\n",
       "      <td>9.365752</td>\n",
       "      <td>7.745385</td>\n",
       "      <td>15.9</td>\n",
       "      <td>16.45</td>\n",
       "      <td>16.300000</td>\n",
       "      <td>15.725</td>\n",
       "    </tr>\n",
       "    <tr>\n",
       "      <th>3</th>\n",
       "      <td>2023-02-19</td>\n",
       "      <td>13</td>\n",
       "      <td>21.0</td>\n",
       "      <td>6.0</td>\n",
       "      <td>24.0</td>\n",
       "      <td>19.0</td>\n",
       "      <td>14.0</td>\n",
       "      <td>18.0</td>\n",
       "      <td>17.0</td>\n",
       "      <td>12.0</td>\n",
       "      <td>...</td>\n",
       "      <td>16.902082</td>\n",
       "      <td>17.136645</td>\n",
       "      <td>17.460969</td>\n",
       "      <td>17.952392</td>\n",
       "      <td>18.673150</td>\n",
       "      <td>19.674538</td>\n",
       "      <td>15.4</td>\n",
       "      <td>15.65</td>\n",
       "      <td>16.100000</td>\n",
       "      <td>15.725</td>\n",
       "    </tr>\n",
       "    <tr>\n",
       "      <th>4</th>\n",
       "      <td>2023-02-20</td>\n",
       "      <td>21</td>\n",
       "      <td>13.0</td>\n",
       "      <td>21.0</td>\n",
       "      <td>6.0</td>\n",
       "      <td>24.0</td>\n",
       "      <td>19.0</td>\n",
       "      <td>14.0</td>\n",
       "      <td>18.0</td>\n",
       "      <td>17.0</td>\n",
       "      <td>...</td>\n",
       "      <td>15.341249</td>\n",
       "      <td>15.068322</td>\n",
       "      <td>14.784388</td>\n",
       "      <td>14.485718</td>\n",
       "      <td>14.134630</td>\n",
       "      <td>13.667454</td>\n",
       "      <td>16.5</td>\n",
       "      <td>16.05</td>\n",
       "      <td>16.133333</td>\n",
       "      <td>15.975</td>\n",
       "    </tr>\n",
       "    <tr>\n",
       "      <th>...</th>\n",
       "      <td>...</td>\n",
       "      <td>...</td>\n",
       "      <td>...</td>\n",
       "      <td>...</td>\n",
       "      <td>...</td>\n",
       "      <td>...</td>\n",
       "      <td>...</td>\n",
       "      <td>...</td>\n",
       "      <td>...</td>\n",
       "      <td>...</td>\n",
       "      <td>...</td>\n",
       "      <td>...</td>\n",
       "      <td>...</td>\n",
       "      <td>...</td>\n",
       "      <td>...</td>\n",
       "      <td>...</td>\n",
       "      <td>...</td>\n",
       "      <td>...</td>\n",
       "      <td>...</td>\n",
       "      <td>...</td>\n",
       "      <td>...</td>\n",
       "    </tr>\n",
       "    <tr>\n",
       "      <th>70</th>\n",
       "      <td>2023-04-27</td>\n",
       "      <td>11</td>\n",
       "      <td>26.0</td>\n",
       "      <td>7.0</td>\n",
       "      <td>24.0</td>\n",
       "      <td>13.0</td>\n",
       "      <td>9.0</td>\n",
       "      <td>14.0</td>\n",
       "      <td>11.0</td>\n",
       "      <td>13.0</td>\n",
       "      <td>...</td>\n",
       "      <td>18.163071</td>\n",
       "      <td>19.257769</td>\n",
       "      <td>20.356982</td>\n",
       "      <td>21.511098</td>\n",
       "      <td>22.787036</td>\n",
       "      <td>24.258647</td>\n",
       "      <td>14.1</td>\n",
       "      <td>13.55</td>\n",
       "      <td>13.966667</td>\n",
       "      <td>13.750</td>\n",
       "    </tr>\n",
       "    <tr>\n",
       "      <th>71</th>\n",
       "      <td>2023-04-28</td>\n",
       "      <td>13</td>\n",
       "      <td>11.0</td>\n",
       "      <td>26.0</td>\n",
       "      <td>7.0</td>\n",
       "      <td>24.0</td>\n",
       "      <td>13.0</td>\n",
       "      <td>9.0</td>\n",
       "      <td>14.0</td>\n",
       "      <td>11.0</td>\n",
       "      <td>...</td>\n",
       "      <td>15.297843</td>\n",
       "      <td>15.128885</td>\n",
       "      <td>14.742793</td>\n",
       "      <td>14.153329</td>\n",
       "      <td>13.357407</td>\n",
       "      <td>12.325865</td>\n",
       "      <td>14.1</td>\n",
       "      <td>13.40</td>\n",
       "      <td>14.000000</td>\n",
       "      <td>13.800</td>\n",
       "    </tr>\n",
       "    <tr>\n",
       "      <th>72</th>\n",
       "      <td>2023-04-29</td>\n",
       "      <td>25</td>\n",
       "      <td>13.0</td>\n",
       "      <td>11.0</td>\n",
       "      <td>26.0</td>\n",
       "      <td>7.0</td>\n",
       "      <td>24.0</td>\n",
       "      <td>13.0</td>\n",
       "      <td>9.0</td>\n",
       "      <td>14.0</td>\n",
       "      <td>...</td>\n",
       "      <td>14.378706</td>\n",
       "      <td>14.064442</td>\n",
       "      <td>13.697117</td>\n",
       "      <td>13.345999</td>\n",
       "      <td>13.071481</td>\n",
       "      <td>12.932586</td>\n",
       "      <td>15.3</td>\n",
       "      <td>14.00</td>\n",
       "      <td>14.233333</td>\n",
       "      <td>14.050</td>\n",
       "    </tr>\n",
       "    <tr>\n",
       "      <th>73</th>\n",
       "      <td>2023-04-30</td>\n",
       "      <td>19</td>\n",
       "      <td>25.0</td>\n",
       "      <td>13.0</td>\n",
       "      <td>11.0</td>\n",
       "      <td>26.0</td>\n",
       "      <td>7.0</td>\n",
       "      <td>24.0</td>\n",
       "      <td>13.0</td>\n",
       "      <td>9.0</td>\n",
       "      <td>...</td>\n",
       "      <td>18.627223</td>\n",
       "      <td>19.532221</td>\n",
       "      <td>20.478847</td>\n",
       "      <td>21.503800</td>\n",
       "      <td>22.614296</td>\n",
       "      <td>23.793259</td>\n",
       "      <td>16.1</td>\n",
       "      <td>14.75</td>\n",
       "      <td>14.366667</td>\n",
       "      <td>14.300</td>\n",
       "    </tr>\n",
       "    <tr>\n",
       "      <th>74</th>\n",
       "      <td>2023-05-01</td>\n",
       "      <td>7</td>\n",
       "      <td>19.0</td>\n",
       "      <td>25.0</td>\n",
       "      <td>13.0</td>\n",
       "      <td>11.0</td>\n",
       "      <td>26.0</td>\n",
       "      <td>7.0</td>\n",
       "      <td>24.0</td>\n",
       "      <td>13.0</td>\n",
       "      <td>...</td>\n",
       "      <td>18.776334</td>\n",
       "      <td>19.266111</td>\n",
       "      <td>19.591539</td>\n",
       "      <td>19.751140</td>\n",
       "      <td>19.722859</td>\n",
       "      <td>19.479326</td>\n",
       "      <td>15.4</td>\n",
       "      <td>14.70</td>\n",
       "      <td>14.366667</td>\n",
       "      <td>14.100</td>\n",
       "    </tr>\n",
       "  </tbody>\n",
       "</table>\n",
       "<p>75 rows × 47 columns</p>\n",
       "</div>"
      ],
      "text/plain": [
       "          date  Crimes_Z3T100  Crimes_Z3T100_1  Crimes_Z3T100_2  \\\n",
       "0   2023-02-16             24             19.0             14.0   \n",
       "1   2023-02-17              6             24.0             19.0   \n",
       "2   2023-02-18             21              6.0             24.0   \n",
       "3   2023-02-19             13             21.0              6.0   \n",
       "4   2023-02-20             21             13.0             21.0   \n",
       "..         ...            ...              ...              ...   \n",
       "70  2023-04-27             11             26.0              7.0   \n",
       "71  2023-04-28             13             11.0             26.0   \n",
       "72  2023-04-29             25             13.0             11.0   \n",
       "73  2023-04-30             19             25.0             13.0   \n",
       "74  2023-05-01              7             19.0             25.0   \n",
       "\n",
       "    Crimes_Z3T100_3  Crimes_Z3T100_4  Crimes_Z3T100_5  Crimes_Z3T100_6  \\\n",
       "0              18.0             17.0             12.0             10.0   \n",
       "1              14.0             18.0             17.0             12.0   \n",
       "2              19.0             14.0             18.0             17.0   \n",
       "3              24.0             19.0             14.0             18.0   \n",
       "4               6.0             24.0             19.0             14.0   \n",
       "..              ...              ...              ...              ...   \n",
       "70             24.0             13.0              9.0             14.0   \n",
       "71              7.0             24.0             13.0              9.0   \n",
       "72             26.0              7.0             24.0             13.0   \n",
       "73             11.0             26.0              7.0             24.0   \n",
       "74             13.0             11.0             26.0              7.0   \n",
       "\n",
       "    Crimes_Z3T100_7  Crimes_Z3T100_8  ...     exp0.4     exp0.5     exp0.6  \\\n",
       "0              18.0             10.0  ...  16.694824  17.093156  17.452642   \n",
       "1              10.0             18.0  ...  19.616894  20.546578  21.381057   \n",
       "2              12.0             10.0  ...  14.170137  13.273289  12.152423   \n",
       "3              17.0             12.0  ...  16.902082  17.136645  17.460969   \n",
       "4              18.0             17.0  ...  15.341249  15.068322  14.784388   \n",
       "..              ...              ...  ...        ...        ...        ...   \n",
       "70             11.0             13.0  ...  18.163071  19.257769  20.356982   \n",
       "71             14.0             11.0  ...  15.297843  15.128885  14.742793   \n",
       "72              9.0             14.0  ...  14.378706  14.064442  13.697117   \n",
       "73             13.0              9.0  ...  18.627223  19.532221  20.478847   \n",
       "74             24.0             13.0  ...  18.776334  19.266111  19.591539   \n",
       "\n",
       "       exp0.7     exp0.8     exp0.9  MA10   MA20       MA30    MA40  \n",
       "0   17.792305  18.143794  18.538487  16.3  16.60  16.633333  15.925  \n",
       "1   22.137691  22.828759  23.453849  14.8  16.20  16.166667  15.600  \n",
       "2   10.841307   9.365752   7.745385  15.9  16.45  16.300000  15.725  \n",
       "3   17.952392  18.673150  19.674538  15.4  15.65  16.100000  15.725  \n",
       "4   14.485718  14.134630  13.667454  16.5  16.05  16.133333  15.975  \n",
       "..        ...        ...        ...   ...    ...        ...     ...  \n",
       "70  21.511098  22.787036  24.258647  14.1  13.55  13.966667  13.750  \n",
       "71  14.153329  13.357407  12.325865  14.1  13.40  14.000000  13.800  \n",
       "72  13.345999  13.071481  12.932586  15.3  14.00  14.233333  14.050  \n",
       "73  21.503800  22.614296  23.793259  16.1  14.75  14.366667  14.300  \n",
       "74  19.751140  19.722859  19.479326  15.4  14.70  14.366667  14.100  \n",
       "\n",
       "[75 rows x 47 columns]"
      ]
     },
     "execution_count": 198,
     "metadata": {},
     "output_type": "execute_result"
    }
   ],
   "source": [
    "df_feature"
   ]
  },
  {
   "cell_type": "code",
   "execution_count": 201,
   "id": "9635b2a2-c323-4d62-aa57-4a061edbcac8",
   "metadata": {
    "tags": []
   },
   "outputs": [
    {
     "data": {
      "text/html": [
       "<div>\n",
       "<style scoped>\n",
       "    .dataframe tbody tr th:only-of-type {\n",
       "        vertical-align: middle;\n",
       "    }\n",
       "\n",
       "    .dataframe tbody tr th {\n",
       "        vertical-align: top;\n",
       "    }\n",
       "\n",
       "    .dataframe thead th {\n",
       "        text-align: right;\n",
       "    }\n",
       "</style>\n",
       "<table border=\"1\" class=\"dataframe\">\n",
       "  <thead>\n",
       "    <tr style=\"text-align: right;\">\n",
       "      <th></th>\n",
       "      <th>Crimes_Z3T100</th>\n",
       "      <th>Crimes_Z3T100_1</th>\n",
       "      <th>Crimes_Z3T100_2</th>\n",
       "      <th>Crimes_Z3T100_3</th>\n",
       "      <th>Crimes_Z3T100_4</th>\n",
       "      <th>Crimes_Z3T100_5</th>\n",
       "      <th>Crimes_Z3T100_6</th>\n",
       "      <th>Crimes_Z3T100_7</th>\n",
       "      <th>Crimes_Z3T100_8</th>\n",
       "      <th>Crimes_Z3T100_9</th>\n",
       "      <th>...</th>\n",
       "      <th>exp0.4</th>\n",
       "      <th>exp0.5</th>\n",
       "      <th>exp0.6</th>\n",
       "      <th>exp0.7</th>\n",
       "      <th>exp0.8</th>\n",
       "      <th>exp0.9</th>\n",
       "      <th>MA10</th>\n",
       "      <th>MA20</th>\n",
       "      <th>MA30</th>\n",
       "      <th>MA40</th>\n",
       "    </tr>\n",
       "  </thead>\n",
       "  <tbody>\n",
       "    <tr>\n",
       "      <th>2023-05-01</th>\n",
       "      <td>NaN</td>\n",
       "      <td>NaN</td>\n",
       "      <td>NaN</td>\n",
       "      <td>NaN</td>\n",
       "      <td>NaN</td>\n",
       "      <td>NaN</td>\n",
       "      <td>NaN</td>\n",
       "      <td>NaN</td>\n",
       "      <td>NaN</td>\n",
       "      <td>NaN</td>\n",
       "      <td>...</td>\n",
       "      <td>16.89742</td>\n",
       "      <td>18.031077</td>\n",
       "      <td>19.23114</td>\n",
       "      <td>20.456644</td>\n",
       "      <td>21.675906</td>\n",
       "      <td>22.864721</td>\n",
       "      <td>NaN</td>\n",
       "      <td>NaN</td>\n",
       "      <td>NaN</td>\n",
       "      <td>NaN</td>\n",
       "    </tr>\n",
       "    <tr>\n",
       "      <th>2023-05-02</th>\n",
       "      <td>NaN</td>\n",
       "      <td>NaN</td>\n",
       "      <td>NaN</td>\n",
       "      <td>NaN</td>\n",
       "      <td>NaN</td>\n",
       "      <td>NaN</td>\n",
       "      <td>NaN</td>\n",
       "      <td>NaN</td>\n",
       "      <td>NaN</td>\n",
       "      <td>NaN</td>\n",
       "      <td>...</td>\n",
       "      <td>12.938452</td>\n",
       "      <td>12.515539</td>\n",
       "      <td>11.892456</td>\n",
       "      <td>11.036993</td>\n",
       "      <td>9.935181</td>\n",
       "      <td>8.586472</td>\n",
       "      <td>NaN</td>\n",
       "      <td>NaN</td>\n",
       "      <td>NaN</td>\n",
       "      <td>NaN</td>\n",
       "    </tr>\n",
       "    <tr>\n",
       "      <th>2023-05-03</th>\n",
       "      <td>NaN</td>\n",
       "      <td>NaN</td>\n",
       "      <td>NaN</td>\n",
       "      <td>NaN</td>\n",
       "      <td>NaN</td>\n",
       "      <td>NaN</td>\n",
       "      <td>NaN</td>\n",
       "      <td>NaN</td>\n",
       "      <td>NaN</td>\n",
       "      <td>NaN</td>\n",
       "      <td>...</td>\n",
       "      <td>18.163071</td>\n",
       "      <td>19.257769</td>\n",
       "      <td>20.356982</td>\n",
       "      <td>21.511098</td>\n",
       "      <td>22.787036</td>\n",
       "      <td>24.258647</td>\n",
       "      <td>NaN</td>\n",
       "      <td>NaN</td>\n",
       "      <td>NaN</td>\n",
       "      <td>NaN</td>\n",
       "    </tr>\n",
       "    <tr>\n",
       "      <th>2023-05-04</th>\n",
       "      <td>NaN</td>\n",
       "      <td>NaN</td>\n",
       "      <td>NaN</td>\n",
       "      <td>NaN</td>\n",
       "      <td>NaN</td>\n",
       "      <td>NaN</td>\n",
       "      <td>NaN</td>\n",
       "      <td>NaN</td>\n",
       "      <td>NaN</td>\n",
       "      <td>NaN</td>\n",
       "      <td>...</td>\n",
       "      <td>15.297843</td>\n",
       "      <td>15.128885</td>\n",
       "      <td>14.742793</td>\n",
       "      <td>14.153329</td>\n",
       "      <td>13.357407</td>\n",
       "      <td>12.325865</td>\n",
       "      <td>NaN</td>\n",
       "      <td>NaN</td>\n",
       "      <td>NaN</td>\n",
       "      <td>NaN</td>\n",
       "    </tr>\n",
       "    <tr>\n",
       "      <th>2023-05-05</th>\n",
       "      <td>NaN</td>\n",
       "      <td>NaN</td>\n",
       "      <td>NaN</td>\n",
       "      <td>NaN</td>\n",
       "      <td>NaN</td>\n",
       "      <td>NaN</td>\n",
       "      <td>NaN</td>\n",
       "      <td>NaN</td>\n",
       "      <td>NaN</td>\n",
       "      <td>NaN</td>\n",
       "      <td>...</td>\n",
       "      <td>14.378706</td>\n",
       "      <td>14.064442</td>\n",
       "      <td>13.697117</td>\n",
       "      <td>13.345999</td>\n",
       "      <td>13.071481</td>\n",
       "      <td>12.932586</td>\n",
       "      <td>NaN</td>\n",
       "      <td>NaN</td>\n",
       "      <td>NaN</td>\n",
       "      <td>NaN</td>\n",
       "    </tr>\n",
       "    <tr>\n",
       "      <th>2023-05-06</th>\n",
       "      <td>NaN</td>\n",
       "      <td>NaN</td>\n",
       "      <td>NaN</td>\n",
       "      <td>NaN</td>\n",
       "      <td>NaN</td>\n",
       "      <td>NaN</td>\n",
       "      <td>NaN</td>\n",
       "      <td>NaN</td>\n",
       "      <td>NaN</td>\n",
       "      <td>NaN</td>\n",
       "      <td>...</td>\n",
       "      <td>18.627223</td>\n",
       "      <td>19.532221</td>\n",
       "      <td>20.478847</td>\n",
       "      <td>21.5038</td>\n",
       "      <td>22.614296</td>\n",
       "      <td>23.793259</td>\n",
       "      <td>NaN</td>\n",
       "      <td>NaN</td>\n",
       "      <td>NaN</td>\n",
       "      <td>NaN</td>\n",
       "    </tr>\n",
       "    <tr>\n",
       "      <th>2023-05-07</th>\n",
       "      <td>NaN</td>\n",
       "      <td>NaN</td>\n",
       "      <td>NaN</td>\n",
       "      <td>NaN</td>\n",
       "      <td>NaN</td>\n",
       "      <td>NaN</td>\n",
       "      <td>NaN</td>\n",
       "      <td>NaN</td>\n",
       "      <td>NaN</td>\n",
       "      <td>NaN</td>\n",
       "      <td>...</td>\n",
       "      <td>18.776334</td>\n",
       "      <td>19.266111</td>\n",
       "      <td>19.591539</td>\n",
       "      <td>19.75114</td>\n",
       "      <td>19.722859</td>\n",
       "      <td>19.479326</td>\n",
       "      <td>NaN</td>\n",
       "      <td>NaN</td>\n",
       "      <td>NaN</td>\n",
       "      <td>NaN</td>\n",
       "    </tr>\n",
       "  </tbody>\n",
       "</table>\n",
       "<p>7 rows × 46 columns</p>\n",
       "</div>"
      ],
      "text/plain": [
       "           Crimes_Z3T100 Crimes_Z3T100_1 Crimes_Z3T100_2 Crimes_Z3T100_3  \\\n",
       "2023-05-01           NaN             NaN             NaN             NaN   \n",
       "2023-05-02           NaN             NaN             NaN             NaN   \n",
       "2023-05-03           NaN             NaN             NaN             NaN   \n",
       "2023-05-04           NaN             NaN             NaN             NaN   \n",
       "2023-05-05           NaN             NaN             NaN             NaN   \n",
       "2023-05-06           NaN             NaN             NaN             NaN   \n",
       "2023-05-07           NaN             NaN             NaN             NaN   \n",
       "\n",
       "           Crimes_Z3T100_4 Crimes_Z3T100_5 Crimes_Z3T100_6 Crimes_Z3T100_7  \\\n",
       "2023-05-01             NaN             NaN             NaN             NaN   \n",
       "2023-05-02             NaN             NaN             NaN             NaN   \n",
       "2023-05-03             NaN             NaN             NaN             NaN   \n",
       "2023-05-04             NaN             NaN             NaN             NaN   \n",
       "2023-05-05             NaN             NaN             NaN             NaN   \n",
       "2023-05-06             NaN             NaN             NaN             NaN   \n",
       "2023-05-07             NaN             NaN             NaN             NaN   \n",
       "\n",
       "           Crimes_Z3T100_8 Crimes_Z3T100_9  ...     exp0.4     exp0.5  \\\n",
       "2023-05-01             NaN             NaN  ...   16.89742  18.031077   \n",
       "2023-05-02             NaN             NaN  ...  12.938452  12.515539   \n",
       "2023-05-03             NaN             NaN  ...  18.163071  19.257769   \n",
       "2023-05-04             NaN             NaN  ...  15.297843  15.128885   \n",
       "2023-05-05             NaN             NaN  ...  14.378706  14.064442   \n",
       "2023-05-06             NaN             NaN  ...  18.627223  19.532221   \n",
       "2023-05-07             NaN             NaN  ...  18.776334  19.266111   \n",
       "\n",
       "               exp0.6     exp0.7     exp0.8     exp0.9 MA10 MA20 MA30 MA40  \n",
       "2023-05-01   19.23114  20.456644  21.675906  22.864721  NaN  NaN  NaN  NaN  \n",
       "2023-05-02  11.892456  11.036993   9.935181   8.586472  NaN  NaN  NaN  NaN  \n",
       "2023-05-03  20.356982  21.511098  22.787036  24.258647  NaN  NaN  NaN  NaN  \n",
       "2023-05-04  14.742793  14.153329  13.357407  12.325865  NaN  NaN  NaN  NaN  \n",
       "2023-05-05  13.697117  13.345999  13.071481  12.932586  NaN  NaN  NaN  NaN  \n",
       "2023-05-06  20.478847    21.5038  22.614296  23.793259  NaN  NaN  NaN  NaN  \n",
       "2023-05-07  19.591539   19.75114  19.722859  19.479326  NaN  NaN  NaN  NaN  \n",
       "\n",
       "[7 rows x 46 columns]"
      ]
     },
     "execution_count": 201,
     "metadata": {},
     "output_type": "execute_result"
    }
   ],
   "source": [
    "test.iloc[:]"
   ]
  },
  {
   "cell_type": "code",
   "execution_count": 200,
   "id": "5c8c0a5b-fd09-483d-b8fd-111e667c2c1e",
   "metadata": {
    "tags": []
   },
   "outputs": [
    {
     "data": {
      "text/plain": [
       "0     19.0\n",
       "1     24.0\n",
       "2      6.0\n",
       "3     21.0\n",
       "4     13.0\n",
       "      ... \n",
       "70    26.0\n",
       "71    11.0\n",
       "72    13.0\n",
       "73    25.0\n",
       "74    19.0\n",
       "Name: Crimes_Z3T100_1, Length: 75, dtype: float64"
      ]
     },
     "execution_count": 200,
     "metadata": {},
     "output_type": "execute_result"
    }
   ],
   "source": [
    "df_feature.iloc[:,2]"
   ]
  },
  {
   "cell_type": "code",
   "execution_count": null,
   "id": "b782e387-bda8-4b91-973b-5aa5c8c5d08d",
   "metadata": {},
   "outputs": [],
   "source": []
  }
 ],
 "metadata": {
  "kernelspec": {
   "display_name": "vlapd",
   "language": "python",
   "name": "vlapd"
  },
  "language_info": {
   "codemirror_mode": {
    "name": "ipython",
    "version": 3
   },
   "file_extension": ".py",
   "mimetype": "text/x-python",
   "name": "python",
   "nbconvert_exporter": "python",
   "pygments_lexer": "ipython3",
   "version": "3.10.6"
  }
 },
 "nbformat": 4,
 "nbformat_minor": 5
}
