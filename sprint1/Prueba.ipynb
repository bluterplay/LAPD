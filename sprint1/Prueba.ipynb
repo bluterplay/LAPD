{
 "cells": [
  {
   "cell_type": "markdown",
   "id": "58a2bf54",
   "metadata": {
    "id": "58a2bf54"
   },
   "source": [
    "# Ejemplo de uso de los datos"
   ]
  },
  {
   "cell_type": "code",
   "execution_count": 1,
   "id": "a4f6abff",
   "metadata": {
    "id": "a4f6abff"
   },
   "outputs": [],
   "source": [
    "import pandas as pd\n",
    "import numpy as np\n",
    "import csv\n",
    "from sklearn.preprocessing import MinMaxScaler\n",
    "from sklearn.neighbors import KNeighborsRegressor\n",
    "from sklearn.neighbors import KNeighborsClassifier\n",
    "from sklearn.model_selection import train_test_split\n",
    "from sklearn.model_selection import cross_val_score\n",
    "from sklearn.metrics import accuracy_score\n",
    "from sklearn.metrics import r2_score\n",
    "from sklearn.metrics import mean_squared_error\n",
    "from sklearn.linear_model import Ridge\n",
    "from sklearn import linear_model\n"
   ]
  },
  {
   "cell_type": "code",
   "execution_count": 2,
   "id": "94fc0805",
   "metadata": {
    "id": "94fc0805"
   },
   "outputs": [],
   "source": [
    "class Limpieza():\n",
    "    def __init__(self,data):\n",
    "        self.df=data\n",
    "        self.df.loc[self.df.vict_age==0,'vict_age']=np.nan\n",
    "        self.df.loc[(self.df.vict_age<0)|(self.df.vict_age>100),'vict_age']=np.nan\n",
    "    def porcentaje(self):\n",
    "        return (self.df).isna().sum()/len(self.df)*100\n",
    "    def cantidad(self):\n",
    "        return (self.df).isna().sum()\n",
    "    def limpieza(self):\n",
    "        self.df.drop('cross_street',axis=1,inplace=True)\n",
    "        crm_cd_concat=self.df[['crm_cd_1','crm_cd_2','crm_cd_3','crm_cd_4']].fillna('').astype('string')\n",
    "        crm_cd_concat=crm_cd_concat['crm_cd_1']+crm_cd_concat['crm_cd_2']+crm_cd_concat['crm_cd_3']+crm_cd_concat['crm_cd_4']\n",
    "        self.df['crm_cd_concat']=crm_cd_concat\n",
    "        self.df.drop(['crm_cd_1','crm_cd_2','crm_cd_3','crm_cd_4'],axis=1,inplace=True)\n",
    "        self.df['weapon_desc'].fillna('NO WEAPON',inplace=True)\n",
    "        self.df['weapon_used_cd'].fillna('0',inplace=True)\n",
    "        self.df.loc[self.df.vict_sex.isna(),'vict_sex']='X'\n",
    "        self.df.loc[self.df.vict_descent.isna(),'vict_descent']='U'\n",
    "        self.df.loc[self.df.lon==0,['lat','lon']]=np.nan\n",
    "        #return self.df\n",
    "        self.df.location = self.df.location.str.strip()\n",
    "        self.df.location = self.df.location.apply(lambda x: \"  \".join(x.split()))\n",
    "        self.df.location = self.df.location.str.replace(\" \", \"\")\n",
    "        self.df.location = self.df.location.str.upper()\n",
    "        directorio = pd.read_excel('Directorio_Lat_Lon.xlsx')\n",
    "        directorio.location = directorio.location.str.replace(\" \", \"\")\n",
    "        directorio.location = directorio.location.str.upper()\n",
    "        loc_lat = dict(zip(directorio.location,directorio.lat))\n",
    "        loc_lon = dict(zip(directorio.location,directorio.lon))\n",
    "        self.df.lat.fillna(self.df.location.map(loc_lat),inplace=True)\n",
    "        self.df.lon.fillna(self.df.location.map(loc_lon),inplace=True)\n",
    "        self.df.drop('location',axis=1,inplace=True)\n",
    "        #poner columna de código y luego descripción del código\n",
    "        self.col_corr('area','area_name')\n",
    "        self.col_corr('crm_cd','crm_cd_desc')\n",
    "        self.col_corr('premis_cd','premis_desc')\n",
    "        self.col_corr('weapon_used_cd','weapon_desc')\n",
    "        self.col_corr('status','status_desc')\n",
    "        self.df.loc[self.df.vict_sex=='H','vict_sex']=='X'\n",
    "        self.df.drop(self.df.loc[self.df.status=='CC'].index,inplace=True)\n",
    "    def imputar_edad(self):\n",
    "        ucr=pd.read_csv('ucr.csv',header=None)\n",
    "        ucr.columns=['Category','Subcategory','Code']\n",
    "        ucr=ucr.astype({'Code':'string'})\n",
    "        self.df=self.df.astype({'crm_cd':'string'})\n",
    "        ucr=dict(zip(ucr['Code'],ucr['Subcategory']))\n",
    "        self.df['ucr']=self.df.crm_cd.map(ucr)\n",
    "        self.df.ucr=self.df.ucr.fillna('Other')\n",
    "        imputar=self.df.drop(['dr_no', 'date_rptd', 'date_occ','area',\n",
    "                         'rpt_dist_no','part_1_2','crm_cd','mocodes','premis_cd',\n",
    "                         'weapon_used_cd','crm_cd_concat','rpt_dist_no'],axis=1).copy()\n",
    "        dum1=pd.get_dummies(imputar['status']).drop('JO',axis=1)\n",
    "        imputar.drop('status',axis=1,inplace=True)\n",
    "        dum2=pd.get_dummies(imputar['vict_sex']).drop('X',axis=1)\n",
    "        imputar.drop('vict_sex',axis=1,inplace=True)\n",
    "        dum3=pd.get_dummies(imputar['vict_descent']).drop('Z',axis=1)\n",
    "        imputar.drop('vict_descent',axis=1,inplace=True)\n",
    "        dum4=pd.get_dummies(imputar['ucr']).drop('Other',axis=1)\n",
    "        imputar.drop('ucr',axis=1,inplace=True)\n",
    "        imputar=pd.concat([imputar,dum1,dum2,dum3,dum4],axis=1)\n",
    "        scaler = MinMaxScaler()\n",
    "        imputar=pd.DataFrame(scaler.fit_transform(imputar),columns=imputar.columns)\n",
    "        X=imputar[~imputar.vict_age.isna()]\n",
    "        y=X.vict_age.values\n",
    "        X=X.drop('vict_age',axis=1).values\n",
    "        neigh = KNeighborsRegressor(n_neighbors=5)\n",
    "        neigh.fit(X, y.reshape(-1, 1))\n",
    "        estimados=neigh.predict(imputar.loc[imputar.vict_age.isna(),imputar.columns!='vict_age'].values)\n",
    "        estimados=[x[0] for x in estimados]\n",
    "        estimados=pd.Series(index=imputar.loc[imputar.vict_age.isna(),'vict_age'].index,data=estimados)\n",
    "        imputar.loc[imputar.vict_age.isna(),'vict_age']=estimados\n",
    "        self.df['vict_age']=pd.DataFrame(scaler.inverse_transform(imputar),columns=imputar.columns)['vict_age']\n",
    "    \n",
    "    \n",
    "    def imputar_edad_2(self):\n",
    "        ucr=pd.read_csv('ucr.csv')\n",
    "        ucr=ucr.astype({'Code':'string'})\n",
    "        self.df=self.df.astype({'crm_cd':'string'})\n",
    "        ucr=dict(zip(ucr['Code'],ucr['Subcategory']))\n",
    "        self.df['ucr']=self.df.crm_cd.map(ucr)\n",
    "        self.df.ucr=self.df.ucr.fillna('Other')\n",
    "        imputar=self.df.drop(['date_rptd', 'date_occ','area',\n",
    "                         'rpt_dist_no','part_1_2','crm_cd','mocodes','premis_cd',\n",
    "                         'weapon_used_cd','crm_cd_concat','rpt_dist_no'],axis=1).copy()#'dr_no', \n",
    "        dum1=pd.get_dummies(imputar['status']).drop('JO',axis=1)\n",
    "        imputar.drop('status',axis=1,inplace=True)\n",
    "        dum2=pd.get_dummies(imputar['vict_sex']).drop('X',axis=1)\n",
    "        imputar.drop('vict_sex',axis=1,inplace=True)\n",
    "        dum3=pd.get_dummies(imputar['vict_descent']).drop('Z',axis=1)\n",
    "        imputar.drop('vict_descent',axis=1,inplace=True)\n",
    "        dum4=pd.get_dummies(imputar['ucr']).drop('Other',axis=1)\n",
    "        imputar.drop('ucr',axis=1,inplace=True)\n",
    "        imputar=pd.concat([imputar,dum1,dum2,dum3,dum4],axis=1)\n",
    "        \n",
    "        \n",
    "        X=imputar[~imputar.vict_age.isna()]\n",
    "        y=X.vict_age.values\n",
    "        X=X.drop('vict_age',axis=1).values\n",
    "        X_train, X_test, y_train, y_test = train_test_split(X, y, test_size=0.3, random_state=0)\n",
    "        sc_X = MinMaxScaler()\n",
    "        sc_y = MinMaxScaler()\n",
    "        X_train=sc_X.fit_transform(X_train)\n",
    "        y_train=sc_y.fit_transform(y_train.reshape(-1, 1))\n",
    "        y_test=sc_y.transform(y_test.reshape(-1,1))\n",
    "        X_test=sc_X.transform(X_test)\n",
    "        \n",
    "        clf = Ridge(alpha=1.0)\n",
    "        clf.fit(X_train, y_train)\n",
    "        y_train_p=clf.predict(X_train)\n",
    "        #scores = cross_val_score(clf, X_train, y_train, cv=5)\n",
    "        #y_train_p=scores.score(X_train)\n",
    "        #print(r2_score(y_train, y_train_p))\n",
    "        \n",
    "        y_test_p=clf.predict(X_test)\n",
    "        print(r2_score(y_test, y_test_p))\n",
    "        \n",
    "        print(mean_squared_error(y_train, y_train_p))\n",
    "        print(mean_squared_error(y_test, y_test_p))\n",
    "        \n",
    "        \n",
    "        \n",
    "    def imputar_premis(self):\n",
    "        self.df=self.df.astype({'premis_cd':'string'})\n",
    "        imputar=self.df.drop([ 'date_rptd', 'date_occ','area',\n",
    "                         'rpt_dist_no','part_1_2','crm_cd','mocodes',\n",
    "                         'weapon_used_cd','crm_cd_concat','rpt_dist_no'],axis=1).copy()#'dr_no',\n",
    "        dum1=pd.get_dummies(imputar['status']).drop('JO',axis=1)\n",
    "        imputar.drop('status',axis=1,inplace=True)\n",
    "        dum2=pd.get_dummies(imputar['vict_sex']).drop('X',axis=1)\n",
    "        imputar.drop('vict_sex',axis=1,inplace=True)\n",
    "        dum3=pd.get_dummies(imputar['vict_descent']).drop('Z',axis=1)\n",
    "        imputar.drop('vict_descent',axis=1,inplace=True)\n",
    "        dum4=pd.get_dummies(imputar['ucr']).drop('Other',axis=1)\n",
    "        imputar.drop('ucr',axis=1,inplace=True)\n",
    "        imputar=pd.concat([imputar,dum1,dum2,dum3,dum4],axis=1)\n",
    "        \n",
    "        sc_x = MinMaxScaler()\n",
    "        X=imputar.loc[~self.df.premis_cd.isna(),imputar.columns!='premis_cd']\n",
    "        y=imputar.loc[~self.df.premis_cd.isna(),'premis_cd']\n",
    "        X_train, X_test, y_train, y_test = train_test_split(X, y, test_size=0.3, random_state=0)\n",
    "        X_train=pd.DataFrame(sc_x.fit_transform(X_train),columns=X.columns)\n",
    "        X_test=pd.DataFrame(sc_x.transform(X_test),columns=X.columns)\n",
    "        \n",
    "        \n",
    "        \n",
    "        \n",
    "        neigh = KNeighborsClassifier(n_neighbors=4)\n",
    "        neigh.fit(X_train,y_train)\n",
    "        y_predict=neigh.predict(X_test)\n",
    "        return accuracy_score(y_test, y_predict)\n",
    "        \n",
    "        \n",
    "        #estimados=neigh.predict(imputar.loc[imputar.premis_cd.isna(),imputar.columns!='premis_cd'].values)\n",
    "        \n",
    "        #estimados=pd.Series(index=imputar.loc[imputar.premis_cd.isna(),'premis_cd'].index,data=estimados)\n",
    "        #self.df.loc[imputar.premis_cd.isna(),'premis_cd']=estimados\n",
    "        #self.df['premis_cd']=pd.DataFrame(scaler.inverse_transform(imputar.drop('premis_cd')),columns=imputar.columns)['premis_cd']\n",
    "    \n",
    "    def imputar_mocodes(self):\n",
    "        imputar=self.df.drop([ 'date_rptd', 'date_occ','area',\n",
    "                         'rpt_dist_no','part_1_2','crm_cd','premis_cd',\n",
    "                         'weapon_used_cd','crm_cd_concat','rpt_dist_no'],axis=1).copy()#'dr_no',\n",
    "        dum1=pd.get_dummies(imputar['status']).drop('JO',axis=1)\n",
    "        imputar.drop('status',axis=1,inplace=True)\n",
    "        dum2=pd.get_dummies(imputar['vict_sex']).drop('X',axis=1)\n",
    "        imputar.drop('vict_sex',axis=1,inplace=True)\n",
    "        dum3=pd.get_dummies(imputar['vict_descent']).drop('Z',axis=1)\n",
    "        imputar.drop('vict_descent',axis=1,inplace=True)\n",
    "        dum4=pd.get_dummies(imputar['ucr']).drop('Other',axis=1)\n",
    "        imputar.drop('ucr',axis=1,inplace=True)\n",
    "        imputar=pd.concat([imputar,dum1,dum2,dum3,dum4],axis=1)\n",
    "        \n",
    "        scaler = MinMaxScaler()\n",
    "        \n",
    "        \n",
    "        \n",
    "        sc_x = MinMaxScaler()\n",
    "        X=imputar.loc[~imputar.mocodes.isna(),imputar.columns!='mocodes']\n",
    "        y=imputar.loc[~imputar.mocodes.isna(),'mocodes']\n",
    "        X_train, X_test, y_train, y_test = train_test_split(X, y, test_size=0.3, random_state=0)\n",
    "        X_train=pd.DataFrame(sc_x.fit_transform(X_train),columns=X.columns)\n",
    "        \n",
    "        \n",
    "        \n",
    "        \n",
    "        \n",
    "        neigh = KNeighborsClassifier(n_neighbors=3, scoring='r2')\n",
    "        neigh.fit(X_train,y_train)\n",
    "        y_predict=neigh.predict(X_test)\n",
    "        print(accuracy_score(y_test, y_predict))\n",
    "        \n",
    "        \n",
    "       \n",
    "    def col_corr(self,codigo,descripcion):\n",
    "        dicc=dict(zip(self.df[codigo],self.df[descripcion]))\n",
    "        w = csv.writer(open(codigo+\".csv\", \"w\"))\n",
    "        for key, val in dicc.items():\n",
    "            w.writerow([key, val])\n",
    "        self.df.drop(descripcion,axis=1,inplace=True)\n",
    "        \n",
    "    def actualizar(self):\n",
    "        return self.df\n",
    "    def categoricas(self):\n",
    "        features=['rpt_dist_no','premis_cd','weapon_used_cd']\n",
    "        for feature in features:\n",
    "            aux = self.df[feature].value_counts(True)\n",
    "            ls_categories = [category for category, freq in aux.items() if freq > 0.03]\n",
    "            self.df[feature] = self.df[feature].map(lambda x: x if x in ls_categories else \"Others\")"
   ]
  },
  {
   "cell_type": "code",
   "execution_count": 3,
   "id": "930a3c65",
   "metadata": {
    "colab": {
     "base_uri": "https://localhost:8080/",
     "height": 72
    },
    "id": "930a3c65",
    "outputId": "860a0b97-8621-469e-eb2c-25a9144d2c89"
   },
   "outputs": [
    {
     "data": {
      "text/plain": [
       "'from Class_GetData import Get_Data\\nData= Get_Data()\\nData.create_df()\\nData.infer_dtypes()\\ndf= Data.df.copy()\\ndf.head()'"
      ]
     },
     "execution_count": 3,
     "metadata": {},
     "output_type": "execute_result"
    }
   ],
   "source": [
    "#la api solo trae de 999 en 999\n",
    "#histograma de edades\n",
    "'''from Class_GetData import Get_Data\n",
    "Data= Get_Data()\n",
    "Data.create_df()\n",
    "Data.infer_dtypes()\n",
    "df= Data.df.copy()\n",
    "df.head()'''"
   ]
  },
  {
   "cell_type": "code",
   "execution_count": 4,
   "id": "451e8519",
   "metadata": {
    "id": "451e8519"
   },
   "outputs": [],
   "source": [
    "#df.to_csv('datos_prueba.csv',index=False)"
   ]
  },
  {
   "cell_type": "code",
   "execution_count": 3,
   "id": "fdaaed57",
   "metadata": {
    "id": "fdaaed57"
   },
   "outputs": [],
   "source": [
    "df2=pd.read_csv('datos_prueba.csv',index_col=0)"
   ]
  },
  {
   "cell_type": "code",
   "execution_count": 49,
   "id": "7e7d22f9",
   "metadata": {
    "id": "7e7d22f9"
   },
   "outputs": [],
   "source": [
    "#from Class_ContGraphs import Graphs_Cont"
   ]
  },
  {
   "cell_type": "code",
   "execution_count": 50,
   "id": "00273b2c",
   "metadata": {
    "id": "00273b2c"
   },
   "outputs": [],
   "source": [
    "#graphs= Graphs_Cont()"
   ]
  },
  {
   "cell_type": "code",
   "execution_count": 51,
   "id": "1c4514a4",
   "metadata": {
    "id": "1c4514a4"
   },
   "outputs": [],
   "source": [
    "#graphs.box(df)"
   ]
  },
  {
   "cell_type": "code",
   "execution_count": 150,
   "id": "cba7703d",
   "metadata": {
    "id": "cba7703d"
   },
   "outputs": [],
   "source": [
    "#graphs.heatMap(df)"
   ]
  },
  {
   "cell_type": "code",
   "execution_count": 147,
   "id": "f8bbc958",
   "metadata": {},
   "outputs": [],
   "source": [
    "#temporal=df[(df.lat<34.5)&(df.lon>-119)&(df.lon<-118)]"
   ]
  },
  {
   "cell_type": "code",
   "execution_count": 151,
   "id": "9a99787a",
   "metadata": {
    "id": "9a99787a"
   },
   "outputs": [],
   "source": [
    "#graphs.scatter(temporal)"
   ]
  },
  {
   "cell_type": "code",
   "execution_count": 6,
   "id": "d18e63c0",
   "metadata": {
    "id": "d18e63c0"
   },
   "outputs": [],
   "source": [
    "#graphs.hist(df)"
   ]
  },
  {
   "cell_type": "code",
   "execution_count": 52,
   "id": "49253dd9",
   "metadata": {},
   "outputs": [],
   "source": [
    "#df.isna().sum()"
   ]
  },
  {
   "cell_type": "code",
   "execution_count": 35,
   "id": "436febca",
   "metadata": {
    "id": "436febca"
   },
   "outputs": [],
   "source": [
    "#from disc_graph import Discrete"
   ]
  },
  {
   "cell_type": "code",
   "execution_count": 36,
   "id": "9c945c61",
   "metadata": {
    "id": "9c945c61"
   },
   "outputs": [],
   "source": [
    "#gen = Discrete(df)\n",
    "#gen.pie_chart()"
   ]
  },
  {
   "cell_type": "code",
   "execution_count": 37,
   "id": "e80c8029",
   "metadata": {
    "id": "e80c8029"
   },
   "outputs": [],
   "source": [
    "#gen.freq_table()"
   ]
  },
  {
   "cell_type": "code",
   "execution_count": 38,
   "id": "0240199e",
   "metadata": {
    "id": "0240199e"
   },
   "outputs": [],
   "source": [
    "#gen.bar_chart()"
   ]
  },
  {
   "cell_type": "code",
   "execution_count": 39,
   "id": "d630f66e",
   "metadata": {
    "id": "d630f66e"
   },
   "outputs": [],
   "source": [
    "#gen.time_series()\n"
   ]
  },
  {
   "cell_type": "markdown",
   "id": "05820bec",
   "metadata": {
    "id": "05820bec"
   },
   "source": [
    "## Empieza mi parte"
   ]
  },
  {
   "cell_type": "code",
   "execution_count": 4,
   "id": "35bdd567",
   "metadata": {},
   "outputs": [],
   "source": [
    "nulos=Limpieza(df2)"
   ]
  },
  {
   "cell_type": "code",
   "execution_count": 21,
   "id": "466d3b98",
   "metadata": {
    "colab": {
     "base_uri": "https://localhost:8080/"
    },
    "id": "466d3b98",
    "outputId": "faffe965-5033-4d6c-e6d9-9f5bbd905787"
   },
   "outputs": [],
   "source": [
    "nulos=Limpieza(df)\n"
   ]
  },
  {
   "cell_type": "code",
   "execution_count": 11,
   "id": "60b2f670",
   "metadata": {},
   "outputs": [
    {
     "name": "stdout",
     "output_type": "stream",
     "text": [
      "date_rptd          0.000000\n",
      "date_occ           0.000000\n",
      "time_occ           0.000000\n",
      "area               0.000000\n",
      "area_name          0.000000\n",
      "rpt_dist_no        0.000000\n",
      "part_1_2           0.000000\n",
      "crm_cd             0.000000\n",
      "crm_cd_desc        0.000000\n",
      "mocodes           13.746887\n",
      "vict_age          24.200176\n",
      "vict_sex          13.108008\n",
      "vict_descent      13.108751\n",
      "premis_cd          0.001188\n",
      "premis_desc        0.050938\n",
      "weapon_used_cd    65.185404\n",
      "weapon_desc       65.185404\n",
      "status             0.000000\n",
      "status_desc        0.000000\n",
      "crm_cd_1           0.001188\n",
      "location           0.000000\n",
      "lat                0.000000\n",
      "lon                0.000000\n",
      "crm_cd_2          92.516562\n",
      "cross_street      83.664629\n",
      "crm_cd_3          99.747240\n",
      "crm_cd_4          99.992426\n",
      "dtype: float64\n"
     ]
    }
   ],
   "source": [
    "print(nulos.porcentaje())"
   ]
  },
  {
   "cell_type": "code",
   "execution_count": 8,
   "id": "ef92c3e0",
   "metadata": {
    "colab": {
     "base_uri": "https://localhost:8080/"
    },
    "id": "ef92c3e0",
    "outputId": "e47abfc6-b480-48f4-81d6-eb904f5ce0dc"
   },
   "outputs": [
    {
     "name": "stdout",
     "output_type": "stream",
     "text": [
      "date_rptd             0\n",
      "date_occ              0\n",
      "time_occ              0\n",
      "area                  0\n",
      "rpt_dist_no           0\n",
      "part_1_2              0\n",
      "crm_cd                0\n",
      "mocodes           92567\n",
      "vict_age              0\n",
      "vict_sex              0\n",
      "vict_descent          0\n",
      "premis_cd             8\n",
      "weapon_used_cd        0\n",
      "status                0\n",
      "lat                   0\n",
      "lon                   0\n",
      "crm_cd_concat         0\n",
      "ucr                   0\n",
      "dtype: int64\n"
     ]
    }
   ],
   "source": [
    "print(nulos.cantidad())"
   ]
  },
  {
   "cell_type": "code",
   "execution_count": 5,
   "id": "b511d6c0",
   "metadata": {
    "id": "b511d6c0"
   },
   "outputs": [],
   "source": [
    "nulos.limpieza()"
   ]
  },
  {
   "cell_type": "code",
   "execution_count": 6,
   "id": "34412340",
   "metadata": {},
   "outputs": [],
   "source": [
    "nulos.categoricas()"
   ]
  },
  {
   "cell_type": "code",
   "execution_count": 14,
   "id": "60a72082",
   "metadata": {},
   "outputs": [
    {
     "data": {
      "text/plain": [
       "date_rptd          0.000000\n",
       "date_occ           0.000000\n",
       "time_occ           0.000000\n",
       "area               0.000000\n",
       "rpt_dist_no        0.000000\n",
       "part_1_2           0.000000\n",
       "crm_cd             0.000000\n",
       "mocodes           13.746928\n",
       "vict_age          24.200248\n",
       "vict_sex           0.000000\n",
       "vict_descent       0.000000\n",
       "premis_cd          0.000000\n",
       "weapon_used_cd     0.000000\n",
       "status             0.000000\n",
       "lat                0.000000\n",
       "lon                0.000000\n",
       "crm_cd_concat      0.000000\n",
       "dtype: float64"
      ]
     },
     "execution_count": 14,
     "metadata": {},
     "output_type": "execute_result"
    }
   ],
   "source": [
    "nulos.porcentaje()"
   ]
  },
  {
   "cell_type": "code",
   "execution_count": 18,
   "id": "25f5eb36",
   "metadata": {},
   "outputs": [
    {
     "name": "stdout",
     "output_type": "stream",
     "text": [
      "0.06923787643537138\n",
      "0.023826411491622602\n",
      "0.023935138905522655\n"
     ]
    }
   ],
   "source": [
    "nulos.imputar_edad_2()"
   ]
  },
  {
   "cell_type": "code",
   "execution_count": 12,
   "id": "259a5e04",
   "metadata": {},
   "outputs": [
    {
     "name": "stdout",
     "output_type": "stream",
     "text": [
      "0.06770089814716163\n",
      "0.06923787643537138\n",
      "0.023826411491622602\n",
      "0.023935138905522655\n"
     ]
    }
   ],
   "source": [
    "nulos.imputar_edad_2()"
   ]
  },
  {
   "cell_type": "code",
   "execution_count": 15,
   "id": "efac2d45",
   "metadata": {},
   "outputs": [
    {
     "name": "stdout",
     "output_type": "stream",
     "text": [
      "0.22405548295117025\n"
     ]
    },
    {
     "name": "stderr",
     "output_type": "stream",
     "text": [
      "/home/mariano/.local/lib/python3.10/site-packages/sklearn/base.py:450: UserWarning: X does not have valid feature names, but KNeighborsClassifier was fitted with feature names\n",
      "  warnings.warn(\n"
     ]
    }
   ],
   "source": [
    "nulos.imputar_premis()"
   ]
  },
  {
   "cell_type": "code",
   "execution_count": 12,
   "id": "abce7b22",
   "metadata": {},
   "outputs": [
    {
     "name": "stdout",
     "output_type": "stream",
     "text": [
      "0.00522842056932966\n"
     ]
    }
   ],
   "source": [
    "nulos.imputar_mocodes()"
   ]
  },
  {
   "cell_type": "code",
   "execution_count": 32,
   "id": "584822f9",
   "metadata": {},
   "outputs": [
    {
     "data": {
      "text/plain": [
       "Index(['date_rptd', 'date_occ', 'time_occ', 'area', 'rpt_dist_no', 'part_1_2',\n",
       "       'crm_cd', 'mocodes', 'vict_age', 'vict_sex', 'vict_descent',\n",
       "       'premis_cd', 'weapon_used_cd', 'status', 'lat', 'lon', 'crm_cd_concat'],\n",
       "      dtype='object')"
      ]
     },
     "execution_count": 32,
     "metadata": {},
     "output_type": "execute_result"
    }
   ],
   "source": [
    "df.columns"
   ]
  },
  {
   "cell_type": "code",
   "execution_count": 9,
   "id": "4ea77d39",
   "metadata": {},
   "outputs": [],
   "source": [
    "#nulos.imputar_edad()\n",
    "#df.to_csv('datos_limpios.csv',index=False)"
   ]
  },
  {
   "cell_type": "code",
   "execution_count": 16,
   "id": "e6e6be87",
   "metadata": {},
   "outputs": [],
   "source": [
    "df=pd.read_csv('datos_limpios.csv')"
   ]
  },
  {
   "cell_type": "code",
   "execution_count": 17,
   "id": "afbecf32",
   "metadata": {},
   "outputs": [
    {
     "data": {
      "text/plain": [
       "date_rptd          0.000000\n",
       "date_occ           0.000000\n",
       "time_occ           0.000000\n",
       "area               0.000000\n",
       "rpt_dist_no        0.000000\n",
       "part_1_2           0.000000\n",
       "crm_cd             0.000000\n",
       "mocodes           13.746887\n",
       "vict_age           0.000000\n",
       "vict_sex           0.000000\n",
       "vict_descent       0.000000\n",
       "premis_cd          0.000000\n",
       "weapon_used_cd     0.000000\n",
       "status             0.000000\n",
       "lat                0.000000\n",
       "lon                0.000000\n",
       "crm_cd_concat      0.000000\n",
       "ucr                0.000000\n",
       "dtype: float64"
      ]
     },
     "execution_count": 17,
     "metadata": {},
     "output_type": "execute_result"
    }
   ],
   "source": [
    "nulos.porcentaje()"
   ]
  },
  {
   "cell_type": "code",
   "execution_count": 18,
   "id": "6a4940f3",
   "metadata": {},
   "outputs": [],
   "source": [
    "df.set_index('dr_no',inplace=True)\n",
    "df['premis_cd']=df2['premis_cd']"
   ]
  },
  {
   "cell_type": "code",
   "execution_count": 23,
   "id": "1a6b5744",
   "metadata": {},
   "outputs": [
    {
     "data": {
      "text/plain": [
       "0.3195962536137183"
      ]
     },
     "execution_count": 23,
     "metadata": {},
     "output_type": "execute_result"
    }
   ],
   "source": [
    "nulos.imputar_premis()"
   ]
  },
  {
   "cell_type": "code",
   "execution_count": 9,
   "id": "19234458",
   "metadata": {},
   "outputs": [
    {
     "data": {
      "text/plain": [
       "Index(['date_rptd', 'date_occ', 'time_occ', 'area', 'rpt_dist_no', 'part_1_2',\n",
       "       'crm_cd', 'mocodes', 'vict_age', 'vict_sex', 'vict_descent',\n",
       "       'premis_cd', 'weapon_used_cd', 'status', 'lat', 'lon', 'crm_cd_concat'],\n",
       "      dtype='object')"
      ]
     },
     "execution_count": 9,
     "metadata": {},
     "output_type": "execute_result"
    }
   ],
   "source": [
    "df2.columns"
   ]
  },
  {
   "cell_type": "code",
   "execution_count": 8,
   "id": "1413b150",
   "metadata": {},
   "outputs": [
    {
     "name": "stdout",
     "output_type": "stream",
     "text": [
      "1\n",
      "Others    673365\n",
      "Name: rpt_dist_no, dtype: int64\n",
      "8\n",
      "Others    177451\n",
      "101.0     169935\n",
      "501.0     114177\n",
      "502.0      82346\n",
      "108.0      48443\n",
      "203.0      31022\n",
      "102.0      29471\n",
      "122.0      20520\n",
      "Name: premis_cd, dtype: int64\n",
      "4\n",
      "0         438936\n",
      "400.0     125855\n",
      "Others     84451\n",
      "500.0      24123\n",
      "Name: weapon_used_cd, dtype: int64\n"
     ]
    }
   ],
   "source": [
    "columnas=['rpt_dist_no','premis_cd','weapon_used_cd']\n",
    "for column in columnas:\n",
    "    print(len(df2[column].unique()))\n",
    "    print(df2[column].value_counts())"
   ]
  },
  {
   "cell_type": "code",
   "execution_count": 116,
   "id": "9b45e5e3",
   "metadata": {},
   "outputs": [],
   "source": [
    "vivienda=[119,120,121,145,146.0,150.0,501.0, 502.0, 504.0,507.0, 508.0, 509.0, 510.0,511,515.0, 516.0,707]\n",
    "lote_aband=[107.0,118,506.0,518.0]\n",
    "calle=[101.0, 102.0, 103.0, 104.0, 105.0, 106.0, 109.0, 110.0,116,117,\n",
    "      124.0, 125.0,128,136.0, 137.0,152,154,158,415,705.0,748.0]\n",
    "gobierno=[725.0, 726.0,240.0,732.0,752,753,756.0]\n",
    "estacionamiento=[123,142,156,204.0, 213.0]\n",
    "gasolineria=[301]\n",
    "establecimiento=[151.0,157.0,238,241,254,302,303,304.0, 305.0,702]\n",
    "establecimiento_publico=[201.0, 202.0, 203.0,205.0, 206.0,208,209.0, 210.0, 211.0,217.0, 218.0,\n",
    "                        219.0, 220.0, 221.0, 222.0, 223.0, 224.0, 225.0,228,233.0,242,244.0, 245.0,\n",
    "                        247.0, 248.0, 249.0,250.0, 251.0, 252.0,255,401.0, 402.0, 404.0, 405.0,\n",
    "                         406.0, 407.0, 408.0,409.0, 410.0, 411.0, 412.0, 413.0, 414.0,417.0, 418.0,703,726.0,\n",
    "                         874.0, 875.0, 876.0, 877.0, 878.0, 879.0, 880.0, 882.0, 883.0, 884.0,\n",
    "                         885.0, 889.0, 890.0, 891.0, 892.0, 893.0, 894.0, 895.0, 896.0, 897.0,\n",
    "                         898.0, 900.0, 901.0, 902.0, 903.0, 904.0, 905.0, 906.0, 907.0, 908.0,\n",
    "                         909.0, 910.0, 911.0, 912.0, 913.0, 915.0, 916.0, 917.0, 918.0, 919.0,\n",
    "                         920.0, 921.0, 922.0, 931.0, 932.0, 933.0, 934.0, 935.0, 936.0, 937.0,\n",
    "                         940.0, 941.0, 942.0, 943.0, 944.0, 945.0, 946.0, 947.0, 948.0, 949.0,\n",
    "                         950.0, 951.0, 952.0, 953.0, 954.0, 956.0, 957.0, 958.0, 961.0, 962.0,\n",
    "                         963.0, 964.0, 965.0, 966.0, 967.0, 968.0, 969.0, 970.0, 971.0,\n",
    "                        ]\n",
    "estacion=[129,135]\n",
    "nocturno=[207,706.0,733.0,735.0]\n",
    "hotel=[503,505,519.0]\n",
    "transport=[111.0, 112.0, 113.0, 114.0, 115.0,122,126,212.0, 214.0, 215.0,801.0, 802.0,804,809.0, 810.0,\n",
    "          811.0, 834.0, 835.0, 836.0, 868.0, 869.0, 870.0, 871.0, 872.0, 873.0]\n",
    "basurero=[127]\n",
    "escaleras=[138,143,727]\n",
    "recreacion=[139,108,147.0,712.0,713,144,714.0, 715.0, 716.0, 717.0, 718.0,711,734.0, 736.0, 737.0, 738.0, 739.0,\n",
    "           742.0, 743.0,754,757.0, 758.0]\n",
    "balcon=[140]\n",
    "cementerio=[141]\n",
    "public_bathroom=[148.0,709]\n",
    "naturaleza=[149,155,745.0]\n",
    "mercado=[216]\n",
    "medico=[227.0,234.0, 235.0, 236.0, 237.0,239,246.0,253,403,701.0,719,755]\n",
    "financiero=[229,601,602.0, 603.0, 604.0, 605.0, 606.0, 607.0, 608.0]\n",
    "asilo=[230.0, 512.0,514,517]\n",
    "escuela=[231.0,704.0,720.0, 721.0, 722.0, 723.0,724.0,729]\n",
    "otro=[232.0,245.0,513,710,744.0,746.0]\n",
    "iglesia=[709.0, 730.0, 731.0,740]\n",
    "internet=[750.0, 751.0]"
   ]
  },
  {
   "cell_type": "code",
   "execution_count": 13,
   "id": "ffa92832",
   "metadata": {},
   "outputs": [],
   "source": [
    "lugares=pd.read_csv('premis_cd.csv',header=None)\n",
    "lugares.columns=['cod','lugar']"
   ]
  },
  {
   "cell_type": "code",
   "execution_count": 138,
   "id": "61d6715e",
   "metadata": {},
   "outputs": [],
   "source": [
    "n=310\n",
    "m=n+10"
   ]
  },
  {
   "cell_type": "code",
   "execution_count": 139,
   "id": "e727c853",
   "metadata": {},
   "outputs": [
    {
     "data": {
      "text/plain": [
       "[nan, nan, nan, nan, nan, nan, nan]"
      ]
     },
     "execution_count": 139,
     "metadata": {},
     "output_type": "execute_result"
    }
   ],
   "source": [
    "list(lugares.sort_values('cod')[n:]['cod'])"
   ]
  },
  {
   "cell_type": "code",
   "execution_count": 140,
   "id": "9cb5068d",
   "metadata": {},
   "outputs": [
    {
     "data": {
      "text/html": [
       "<div>\n",
       "<style scoped>\n",
       "    .dataframe tbody tr th:only-of-type {\n",
       "        vertical-align: middle;\n",
       "    }\n",
       "\n",
       "    .dataframe tbody tr th {\n",
       "        vertical-align: top;\n",
       "    }\n",
       "\n",
       "    .dataframe thead th {\n",
       "        text-align: right;\n",
       "    }\n",
       "</style>\n",
       "<table border=\"1\" class=\"dataframe\">\n",
       "  <thead>\n",
       "    <tr style=\"text-align: right;\">\n",
       "      <th></th>\n",
       "      <th>cod</th>\n",
       "      <th>lugar</th>\n",
       "    </tr>\n",
       "  </thead>\n",
       "  <tbody>\n",
       "    <tr>\n",
       "      <th>287</th>\n",
       "      <td>NaN</td>\n",
       "      <td>NaN</td>\n",
       "    </tr>\n",
       "    <tr>\n",
       "      <th>308</th>\n",
       "      <td>NaN</td>\n",
       "      <td>NaN</td>\n",
       "    </tr>\n",
       "    <tr>\n",
       "      <th>309</th>\n",
       "      <td>NaN</td>\n",
       "      <td>NaN</td>\n",
       "    </tr>\n",
       "    <tr>\n",
       "      <th>310</th>\n",
       "      <td>NaN</td>\n",
       "      <td>NaN</td>\n",
       "    </tr>\n",
       "    <tr>\n",
       "      <th>312</th>\n",
       "      <td>NaN</td>\n",
       "      <td>NaN</td>\n",
       "    </tr>\n",
       "    <tr>\n",
       "      <th>313</th>\n",
       "      <td>NaN</td>\n",
       "      <td>NaN</td>\n",
       "    </tr>\n",
       "    <tr>\n",
       "      <th>315</th>\n",
       "      <td>NaN</td>\n",
       "      <td>NaN</td>\n",
       "    </tr>\n",
       "  </tbody>\n",
       "</table>\n",
       "</div>"
      ],
      "text/plain": [
       "     cod lugar\n",
       "287  NaN   NaN\n",
       "308  NaN   NaN\n",
       "309  NaN   NaN\n",
       "310  NaN   NaN\n",
       "312  NaN   NaN\n",
       "313  NaN   NaN\n",
       "315  NaN   NaN"
      ]
     },
     "execution_count": 140,
     "metadata": {},
     "output_type": "execute_result"
    }
   ],
   "source": [
    "lugares.sort_values('cod')[n:m]"
   ]
  },
  {
   "cell_type": "code",
   "execution_count": 56,
   "id": "d36b8e65",
   "metadata": {},
   "outputs": [
    {
     "data": {
      "text/plain": [
       "317"
      ]
     },
     "execution_count": 56,
     "metadata": {},
     "output_type": "execute_result"
    }
   ],
   "source": [
    "len(lugares.sort_values('cod'))"
   ]
  },
  {
   "cell_type": "code",
   "execution_count": 90,
   "id": "5203d848",
   "metadata": {},
   "outputs": [
    {
     "data": {
      "text/html": [
       "<div>\n",
       "<style scoped>\n",
       "    .dataframe tbody tr th:only-of-type {\n",
       "        vertical-align: middle;\n",
       "    }\n",
       "\n",
       "    .dataframe tbody tr th {\n",
       "        vertical-align: top;\n",
       "    }\n",
       "\n",
       "    .dataframe thead th {\n",
       "        text-align: right;\n",
       "    }\n",
       "</style>\n",
       "<table border=\"1\" class=\"dataframe\">\n",
       "  <thead>\n",
       "    <tr style=\"text-align: right;\">\n",
       "      <th></th>\n",
       "      <th>cod</th>\n",
       "      <th>lugar</th>\n",
       "    </tr>\n",
       "  </thead>\n",
       "  <tbody>\n",
       "    <tr>\n",
       "      <th>211</th>\n",
       "      <td>711.0</td>\n",
       "      <td>ARCADE,GAME ROOM/VIDEO GAMES (EXAMPLE CHUCKIE ...</td>\n",
       "    </tr>\n",
       "  </tbody>\n",
       "</table>\n",
       "</div>"
      ],
      "text/plain": [
       "       cod                                              lugar\n",
       "211  711.0  ARCADE,GAME ROOM/VIDEO GAMES (EXAMPLE CHUCKIE ..."
      ]
     },
     "execution_count": 90,
     "metadata": {},
     "output_type": "execute_result"
    }
   ],
   "source": [
    "lugares[lugares.cod==711]"
   ]
  },
  {
   "cell_type": "code",
   "execution_count": null,
   "id": "76f982ee",
   "metadata": {},
   "outputs": [],
   "source": []
  }
 ],
 "metadata": {
  "colab": {
   "provenance": []
  },
  "kernelspec": {
   "display_name": "Python 3 (ipykernel)",
   "language": "python",
   "name": "python3"
  },
  "language_info": {
   "codemirror_mode": {
    "name": "ipython",
    "version": 3
   },
   "file_extension": ".py",
   "mimetype": "text/x-python",
   "name": "python",
   "nbconvert_exporter": "python",
   "pygments_lexer": "ipython3",
   "version": "3.10.6"
  }
 },
 "nbformat": 4,
 "nbformat_minor": 5
}
