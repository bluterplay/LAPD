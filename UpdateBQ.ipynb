{
 "cells": [
  {
   "cell_type": "code",
   "execution_count": null,
   "id": "6ab24d3f-07f5-4c88-9e20-4dbda7353305",
   "metadata": {},
   "outputs": [],
   "source": [
    "from google.cloud import bigquery\n",
    "\n",
    "# Create a client object\n",
    "client = bigquery.Client()\n",
    "\n",
    "\n",
    "table_id = 'proyecto.tabla'\n",
    "table = client.get_table(table_id)\n",
    "schema = table.schema\n",
    "\n",
    "\n",
    "csv_file_path = '/path/archivo.csv'\n",
    "\n",
    "\n",
    "with open(csv_file_path, 'rb') as f:\n",
    "    job_config = bigquery.LoadJobConfig(schema=schema, skip_leading_rows=1)\n",
    "    job = client.load_table_from_file(f, table_id, job_config=job_config)\n",
    "\n",
    "\n",
    "job.result()\n",
    "\n",
    "\n",
    "if job.errors:\n",
    "    print(f'Errores al cargar los nuevos datos: {job.errors}')\n",
    "else:\n",
    "    print('Datos cargados con exito!')"
   ]
  }
 ],
 "metadata": {
  "kernelspec": {
   "display_name": "Python 3 (ipykernel)",
   "language": "python",
   "name": "python3"
  },
  "language_info": {
   "codemirror_mode": {
    "name": "ipython",
    "version": 3
   },
   "file_extension": ".py",
   "mimetype": "text/x-python",
   "name": "python",
   "nbconvert_exporter": "python",
   "pygments_lexer": "ipython3",
   "version": "3.11.2"
  }
 },
 "nbformat": 4,
 "nbformat_minor": 5
}
