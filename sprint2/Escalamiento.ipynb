{
 "cells": [
  {
   "cell_type": "code",
   "execution_count": 1,
   "id": "82c66b70-6fe9-4161-a2fc-7cfbe32f8ad7",
   "metadata": {},
   "outputs": [
    {
     "name": "stdout",
     "output_type": "stream",
     "text": [
      "Note: you may need to restart the kernel to use updated packages.\n"
     ]
    },
    {
     "name": "stderr",
     "output_type": "stream",
     "text": [
      "El nombre de archivo, el nombre de directorio o la sintaxis de la etiqueta del volumen no son correctos.\n"
     ]
    },
    {
     "name": "stdout",
     "output_type": "stream",
     "text": [
      "Note: you may need to restart the kernel to use updated packages.\n"
     ]
    },
    {
     "name": "stderr",
     "output_type": "stream",
     "text": [
      "El nombre de archivo, el nombre de directorio o la sintaxis de la etiqueta del volumen no son correctos.\n"
     ]
    },
    {
     "name": "stdout",
     "output_type": "stream",
     "text": [
      "Note: you may need to restart the kernel to use updated packages.\n"
     ]
    },
    {
     "name": "stderr",
     "output_type": "stream",
     "text": [
      "El nombre de archivo, el nombre de directorio o la sintaxis de la etiqueta del volumen no son correctos.\n"
     ]
    }
   ],
   "source": [
    "%pip install pandas\n",
    "%pip install seaborn\n",
    "%pip install matplotlib"
   ]
  },
  {
   "cell_type": "code",
   "execution_count": 2,
   "id": "e898e148-ad8f-4f6b-875d-f725a4a627e9",
   "metadata": {},
   "outputs": [],
   "source": [
    "import pandas as pd\n",
    "import seaborn as sns"
   ]
  },
  {
   "cell_type": "code",
   "execution_count": 5,
   "id": "b8359944-1986-4aca-b762-4eed7b4b71b0",
   "metadata": {},
   "outputs": [],
   "source": [
    "df = pd.read_csv(\"../lapd.csv\")"
   ]
  },
  {
   "cell_type": "code",
   "execution_count": 6,
   "id": "be6dfcda-0888-42db-ba1e-4c8b8bde23f4",
   "metadata": {},
   "outputs": [
    {
     "data": {
      "text/html": [
       "<div>\n",
       "<style scoped>\n",
       "    .dataframe tbody tr th:only-of-type {\n",
       "        vertical-align: middle;\n",
       "    }\n",
       "\n",
       "    .dataframe tbody tr th {\n",
       "        vertical-align: top;\n",
       "    }\n",
       "\n",
       "    .dataframe thead th {\n",
       "        text-align: right;\n",
       "    }\n",
       "</style>\n",
       "<table border=\"1\" class=\"dataframe\">\n",
       "  <thead>\n",
       "    <tr style=\"text-align: right;\">\n",
       "      <th></th>\n",
       "      <th>Unnamed: 0</th>\n",
       "      <th>dr_no</th>\n",
       "      <th>date_rptd</th>\n",
       "      <th>date_occ</th>\n",
       "      <th>time_occ</th>\n",
       "      <th>area</th>\n",
       "      <th>area_name</th>\n",
       "      <th>rpt_dist_no</th>\n",
       "      <th>part_1_2</th>\n",
       "      <th>crm_cd</th>\n",
       "      <th>...</th>\n",
       "      <th>status</th>\n",
       "      <th>status_desc</th>\n",
       "      <th>crm_cd_1</th>\n",
       "      <th>location</th>\n",
       "      <th>lat</th>\n",
       "      <th>lon</th>\n",
       "      <th>crm_cd_2</th>\n",
       "      <th>cross_street</th>\n",
       "      <th>crm_cd_3</th>\n",
       "      <th>crm_cd_4</th>\n",
       "    </tr>\n",
       "  </thead>\n",
       "  <tbody>\n",
       "    <tr>\n",
       "      <th>0</th>\n",
       "      <td>0</td>\n",
       "      <td>10304468</td>\n",
       "      <td>2020-01-08T00:00:00.000</td>\n",
       "      <td>2020-01-08T00:00:00.000</td>\n",
       "      <td>2230</td>\n",
       "      <td>3</td>\n",
       "      <td>Southwest</td>\n",
       "      <td>377</td>\n",
       "      <td>2</td>\n",
       "      <td>624</td>\n",
       "      <td>...</td>\n",
       "      <td>AO</td>\n",
       "      <td>Adult Other</td>\n",
       "      <td>624.0</td>\n",
       "      <td>1100 W  39TH                         PL</td>\n",
       "      <td>34.0141</td>\n",
       "      <td>-118.2978</td>\n",
       "      <td>NaN</td>\n",
       "      <td>NaN</td>\n",
       "      <td>NaN</td>\n",
       "      <td>NaN</td>\n",
       "    </tr>\n",
       "    <tr>\n",
       "      <th>1</th>\n",
       "      <td>1</td>\n",
       "      <td>190101086</td>\n",
       "      <td>2020-01-02T00:00:00.000</td>\n",
       "      <td>2020-01-01T00:00:00.000</td>\n",
       "      <td>330</td>\n",
       "      <td>1</td>\n",
       "      <td>Central</td>\n",
       "      <td>163</td>\n",
       "      <td>2</td>\n",
       "      <td>624</td>\n",
       "      <td>...</td>\n",
       "      <td>IC</td>\n",
       "      <td>Invest Cont</td>\n",
       "      <td>624.0</td>\n",
       "      <td>700 S  HILL                         ST</td>\n",
       "      <td>34.0459</td>\n",
       "      <td>-118.2545</td>\n",
       "      <td>NaN</td>\n",
       "      <td>NaN</td>\n",
       "      <td>NaN</td>\n",
       "      <td>NaN</td>\n",
       "    </tr>\n",
       "    <tr>\n",
       "      <th>2</th>\n",
       "      <td>2</td>\n",
       "      <td>200110444</td>\n",
       "      <td>2020-04-14T00:00:00.000</td>\n",
       "      <td>2020-02-13T00:00:00.000</td>\n",
       "      <td>1200</td>\n",
       "      <td>1</td>\n",
       "      <td>Central</td>\n",
       "      <td>155</td>\n",
       "      <td>2</td>\n",
       "      <td>845</td>\n",
       "      <td>...</td>\n",
       "      <td>AA</td>\n",
       "      <td>Adult Arrest</td>\n",
       "      <td>845.0</td>\n",
       "      <td>200 E  6TH                          ST</td>\n",
       "      <td>34.0448</td>\n",
       "      <td>-118.2474</td>\n",
       "      <td>NaN</td>\n",
       "      <td>NaN</td>\n",
       "      <td>NaN</td>\n",
       "      <td>NaN</td>\n",
       "    </tr>\n",
       "    <tr>\n",
       "      <th>3</th>\n",
       "      <td>3</td>\n",
       "      <td>191501505</td>\n",
       "      <td>2020-01-01T00:00:00.000</td>\n",
       "      <td>2020-01-01T00:00:00.000</td>\n",
       "      <td>1730</td>\n",
       "      <td>15</td>\n",
       "      <td>N Hollywood</td>\n",
       "      <td>1543</td>\n",
       "      <td>2</td>\n",
       "      <td>745</td>\n",
       "      <td>...</td>\n",
       "      <td>IC</td>\n",
       "      <td>Invest Cont</td>\n",
       "      <td>745.0</td>\n",
       "      <td>5400    CORTEEN                      PL</td>\n",
       "      <td>34.1685</td>\n",
       "      <td>-118.4019</td>\n",
       "      <td>998.0</td>\n",
       "      <td>NaN</td>\n",
       "      <td>NaN</td>\n",
       "      <td>NaN</td>\n",
       "    </tr>\n",
       "    <tr>\n",
       "      <th>4</th>\n",
       "      <td>4</td>\n",
       "      <td>191921269</td>\n",
       "      <td>2020-01-01T00:00:00.000</td>\n",
       "      <td>2020-01-01T00:00:00.000</td>\n",
       "      <td>415</td>\n",
       "      <td>19</td>\n",
       "      <td>Mission</td>\n",
       "      <td>1998</td>\n",
       "      <td>2</td>\n",
       "      <td>740</td>\n",
       "      <td>...</td>\n",
       "      <td>IC</td>\n",
       "      <td>Invest Cont</td>\n",
       "      <td>740.0</td>\n",
       "      <td>14400    TITUS                        ST</td>\n",
       "      <td>34.2198</td>\n",
       "      <td>-118.4468</td>\n",
       "      <td>NaN</td>\n",
       "      <td>NaN</td>\n",
       "      <td>NaN</td>\n",
       "      <td>NaN</td>\n",
       "    </tr>\n",
       "  </tbody>\n",
       "</table>\n",
       "<p>5 rows × 29 columns</p>\n",
       "</div>"
      ],
      "text/plain": [
       "   Unnamed: 0      dr_no                date_rptd                 date_occ  \\\n",
       "0           0   10304468  2020-01-08T00:00:00.000  2020-01-08T00:00:00.000   \n",
       "1           1  190101086  2020-01-02T00:00:00.000  2020-01-01T00:00:00.000   \n",
       "2           2  200110444  2020-04-14T00:00:00.000  2020-02-13T00:00:00.000   \n",
       "3           3  191501505  2020-01-01T00:00:00.000  2020-01-01T00:00:00.000   \n",
       "4           4  191921269  2020-01-01T00:00:00.000  2020-01-01T00:00:00.000   \n",
       "\n",
       "   time_occ  area    area_name  rpt_dist_no  part_1_2  crm_cd  ... status  \\\n",
       "0      2230     3    Southwest          377         2     624  ...     AO   \n",
       "1       330     1      Central          163         2     624  ...     IC   \n",
       "2      1200     1      Central          155         2     845  ...     AA   \n",
       "3      1730    15  N Hollywood         1543         2     745  ...     IC   \n",
       "4       415    19      Mission         1998         2     740  ...     IC   \n",
       "\n",
       "    status_desc  crm_cd_1                                  location      lat  \\\n",
       "0   Adult Other     624.0   1100 W  39TH                         PL  34.0141   \n",
       "1   Invest Cont     624.0    700 S  HILL                         ST  34.0459   \n",
       "2  Adult Arrest     845.0    200 E  6TH                          ST  34.0448   \n",
       "3   Invest Cont     745.0   5400    CORTEEN                      PL  34.1685   \n",
       "4   Invest Cont     740.0  14400    TITUS                        ST  34.2198   \n",
       "\n",
       "        lon crm_cd_2  cross_street crm_cd_3 crm_cd_4  \n",
       "0 -118.2978      NaN           NaN      NaN      NaN  \n",
       "1 -118.2545      NaN           NaN      NaN      NaN  \n",
       "2 -118.2474      NaN           NaN      NaN      NaN  \n",
       "3 -118.4019    998.0           NaN      NaN      NaN  \n",
       "4 -118.4468      NaN           NaN      NaN      NaN  \n",
       "\n",
       "[5 rows x 29 columns]"
      ]
     },
     "execution_count": 6,
     "metadata": {},
     "output_type": "execute_result"
    }
   ],
   "source": [
    "df.head()"
   ]
  },
  {
   "cell_type": "code",
   "execution_count": null,
   "id": "48de6e1c-92ab-4f6c-bd68-d8d128dcc9a4",
   "metadata": {},
   "outputs": [],
   "source": []
  }
 ],
 "metadata": {
  "kernelspec": {
   "display_name": "Python 3 (ipykernel)",
   "language": "python",
   "name": "python3"
  },
  "language_info": {
   "codemirror_mode": {
    "name": "ipython",
    "version": 3
   },
   "file_extension": ".py",
   "mimetype": "text/x-python",
   "name": "python",
   "nbconvert_exporter": "python",
   "pygments_lexer": "ipython3",
   "version": "3.9.0"
  }
 },
 "nbformat": 4,
 "nbformat_minor": 5
}
