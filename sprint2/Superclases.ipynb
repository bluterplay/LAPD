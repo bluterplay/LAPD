{
 "cells": [
  {
   "cell_type": "code",
   "execution_count": 1,
   "id": "61ff6ce2",
   "metadata": {},
   "outputs": [],
   "source": [
    "import pandas as pd"
   ]
  },
  {
   "cell_type": "code",
   "execution_count": 2,
   "id": "bc252f0e",
   "metadata": {},
   "outputs": [],
   "source": [
    "def Superclases(df):\n",
    "    sp_clase = pd.read_csv('crimecodes - superclass.csv')\n",
    "    sp_class = dict(zip(sp_clase.crm_cd.astype(str),sp_clase.NewCode.astype(str)))\n",
    "    \n",
    "    df.crm_cd = df.crm_cd.astype(str).map(sp_class)\n",
    "    \n",
    "    return df"
   ]
  },
  {
   "cell_type": "code",
   "execution_count": 3,
   "id": "b3e94bf6",
   "metadata": {},
   "outputs": [],
   "source": [
    "df = pd.read_csv('DatosLimpios (1).csv')"
   ]
  },
  {
   "cell_type": "code",
   "execution_count": 4,
   "id": "01864fe4",
   "metadata": {},
   "outputs": [
    {
     "data": {
      "text/plain": [
       "510    72566\n",
       "624    53105\n",
       "354    43670\n",
       "330    42377\n",
       "740    41623\n",
       "       ...  \n",
       "906        4\n",
       "452        3\n",
       "349        2\n",
       "884        2\n",
       "882        1\n",
       "Name: crm_cd, Length: 137, dtype: int64"
      ]
     },
     "execution_count": 4,
     "metadata": {},
     "output_type": "execute_result"
    }
   ],
   "source": [
    "df.crm_cd.value_counts()"
   ]
  },
  {
   "cell_type": "code",
   "execution_count": 5,
   "id": "94fb1fd0",
   "metadata": {},
   "outputs": [],
   "source": [
    "df = Superclases(df)"
   ]
  },
  {
   "cell_type": "code",
   "execution_count": 6,
   "id": "d8cc86bf",
   "metadata": {},
   "outputs": [
    {
     "data": {
      "text/plain": [
       "104    220180\n",
       "103    156884\n",
       "100    141929\n",
       "101     97648\n",
       "102     56724\n",
       "Name: crm_cd, dtype: int64"
      ]
     },
     "execution_count": 6,
     "metadata": {},
     "output_type": "execute_result"
    }
   ],
   "source": [
    "df.crm_cd.value_counts()"
   ]
  },
  {
   "cell_type": "code",
   "execution_count": 7,
   "id": "eb2cac8a",
   "metadata": {},
   "outputs": [
    {
     "data": {
      "text/plain": [
       "array(['104', '100', '101', '103', '102'], dtype=object)"
      ]
     },
     "execution_count": 7,
     "metadata": {},
     "output_type": "execute_result"
    }
   ],
   "source": [
    "df.crm_cd.unique()"
   ]
  },
  {
   "cell_type": "code",
   "execution_count": 8,
   "id": "9326aa73",
   "metadata": {},
   "outputs": [
    {
     "data": {
      "text/plain": [
       "0"
      ]
     },
     "execution_count": 8,
     "metadata": {},
     "output_type": "execute_result"
    }
   ],
   "source": [
    "df.crm_cd.isna().sum()"
   ]
  }
 ],
 "metadata": {
  "kernelspec": {
   "display_name": "Python 3 (ipykernel)",
   "language": "python",
   "name": "python3"
  },
  "language_info": {
   "codemirror_mode": {
    "name": "ipython",
    "version": 3
   },
   "file_extension": ".py",
   "mimetype": "text/x-python",
   "name": "python",
   "nbconvert_exporter": "python",
   "pygments_lexer": "ipython3",
   "version": "3.10.6"
  }
 },
 "nbformat": 4,
 "nbformat_minor": 5
}
