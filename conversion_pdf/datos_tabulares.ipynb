{
  "nbformat": 4,
  "nbformat_minor": 0,
  "metadata": {
    "colab": {
      "provenance": []
    },
    "kernelspec": {
      "name": "python3",
      "display_name": "Python 3"
    },
    "language_info": {
      "name": "python"
    }
  },
  "cells": [
    {
      "cell_type": "code",
      "source": [
        "!pip install PyMuPDF"
      ],
      "metadata": {
        "colab": {
          "base_uri": "https://localhost:8080/"
        },
        "id": "byJCyuu_uUaO",
        "outputId": "0f117d3b-4d9f-40c7-8117-90797a3dd092"
      },
      "execution_count": 1,
      "outputs": [
        {
          "output_type": "stream",
          "name": "stdout",
          "text": [
            "Looking in indexes: https://pypi.org/simple, https://us-python.pkg.dev/colab-wheels/public/simple/\n",
            "Collecting PyMuPDF\n",
            "  Downloading PyMuPDF-1.21.1-cp38-cp38-manylinux_2_17_x86_64.manylinux2014_x86_64.whl (14.0 MB)\n",
            "\u001b[2K     \u001b[90m━━━━━━━━━━━━━━━━━━━━━━━━━━━━━━━━━━━━━━━━\u001b[0m \u001b[32m14.0/14.0 MB\u001b[0m \u001b[31m55.8 MB/s\u001b[0m eta \u001b[36m0:00:00\u001b[0m\n",
            "\u001b[?25hInstalling collected packages: PyMuPDF\n",
            "Successfully installed PyMuPDF-1.21.1\n"
          ]
        }
      ]
    },
    {
      "cell_type": "code",
      "execution_count": 2,
      "metadata": {
        "id": "Zp6ggsPYsvwk"
      },
      "outputs": [],
      "source": [
        "import numpy as np\n",
        "import pandas as pd\n",
        "import fitz\n",
        "import re"
      ]
    },
    {
      "cell_type": "code",
      "source": [
        "doc = fitz.open(\"/content/MO_CODES_Numerical_20191119.pdf\") "
      ],
      "metadata": {
        "id": "fosG-cqLs0LU"
      },
      "execution_count": 3,
      "outputs": []
    },
    {
      "cell_type": "code",
      "source": [
        "for page in doc:\n",
        "  page.get_text().split()"
      ],
      "metadata": {
        "id": "fY5zdCoQu8Xb"
      },
      "execution_count": 4,
      "outputs": []
    },
    {
      "cell_type": "code",
      "source": [
        "text = [re.findall(r\"\\d{4}\", page.get_text()) for page in doc]\n",
        "text2 = [re.split(r\"\\d{4}\", page.get_text())[1:] for page in doc]"
      ],
      "metadata": {
        "id": "qJdNl7IKu-IT"
      },
      "execution_count": 5,
      "outputs": []
    },
    {
      "cell_type": "code",
      "source": [
        "count = 0\n",
        "mo_code = [code for page in text for code in page]\n",
        "name = [name for page in text2 for name in page]\n",
        "name = [re.sub(r'\\n', '', i) for i in name]"
      ],
      "metadata": {
        "id": "djKSTkWfGQxz"
      },
      "execution_count": 6,
      "outputs": []
    },
    {
      "cell_type": "code",
      "source": [
        "d = {\"mo_code\": mo_code, \"name\": name}\n",
        "df = pd.DataFrame(data = d)"
      ],
      "metadata": {
        "id": "7T71sVfeJ5Fx"
      },
      "execution_count": 7,
      "outputs": []
    },
    {
      "cell_type": "code",
      "source": [
        "df.to_csv(\"mo_codes\", index=False)"
      ],
      "metadata": {
        "id": "YvXH5Mxuzp9H"
      },
      "execution_count": 8,
      "outputs": []
    },
    {
      "cell_type": "code",
      "source": [],
      "metadata": {
        "id": "S0BSHZ0tLQxi"
      },
      "execution_count": null,
      "outputs": []
    }
  ]
}