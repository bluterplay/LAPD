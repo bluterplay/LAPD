{
 "cells": [
  {
   "cell_type": "code",
   "execution_count": 1,
   "id": "d26d5b0b",
   "metadata": {},
   "outputs": [],
   "source": [
    "import pandas as pd"
   ]
  },
  {
   "cell_type": "code",
   "execution_count": 2,
   "id": "8e30a142",
   "metadata": {},
   "outputs": [],
   "source": [
    "p0 = pd.read_csv('prediccion_0.csv')\n",
    "p1 = pd.read_csv('prediccion_1.csv')\n",
    "p2 = pd.read_csv('prediccion_2.csv')\n",
    "p3 = pd.read_csv('prediccion_3.csv')\n",
    "p4 = pd.read_csv('prediccion_4.csv')"
   ]
  },
  {
   "cell_type": "code",
   "execution_count": 3,
   "id": "b8dcc63f",
   "metadata": {},
   "outputs": [],
   "source": [
    "prediccion_zonas = pd.concat([p0,p1,p2,p3,p4])"
   ]
  },
  {
   "cell_type": "code",
   "execution_count": 4,
   "id": "ad6488b5",
   "metadata": {},
   "outputs": [
    {
     "data": {
      "text/plain": [
       "date_rptd    0\n",
       "count        0\n",
       "y_hat        0\n",
       "crimen       0\n",
       "zona         0\n",
       "dtype: int64"
      ]
     },
     "execution_count": 4,
     "metadata": {},
     "output_type": "execute_result"
    }
   ],
   "source": [
    "prediccion_zonas.isna().sum()"
   ]
  },
  {
   "cell_type": "code",
   "execution_count": 5,
   "id": "c958bb8c",
   "metadata": {},
   "outputs": [
    {
     "data": {
      "text/html": [
       "<div>\n",
       "<style scoped>\n",
       "    .dataframe tbody tr th:only-of-type {\n",
       "        vertical-align: middle;\n",
       "    }\n",
       "\n",
       "    .dataframe tbody tr th {\n",
       "        vertical-align: top;\n",
       "    }\n",
       "\n",
       "    .dataframe thead th {\n",
       "        text-align: right;\n",
       "    }\n",
       "</style>\n",
       "<table border=\"1\" class=\"dataframe\">\n",
       "  <thead>\n",
       "    <tr style=\"text-align: right;\">\n",
       "      <th></th>\n",
       "      <th>date_rptd</th>\n",
       "      <th>count</th>\n",
       "      <th>y_hat</th>\n",
       "      <th>crimen</th>\n",
       "      <th>zona</th>\n",
       "    </tr>\n",
       "  </thead>\n",
       "  <tbody>\n",
       "    <tr>\n",
       "      <th>0</th>\n",
       "      <td>2020-02-09</td>\n",
       "      <td>70.0</td>\n",
       "      <td>72.0</td>\n",
       "      <td>104</td>\n",
       "      <td>0</td>\n",
       "    </tr>\n",
       "    <tr>\n",
       "      <th>1</th>\n",
       "      <td>2020-02-10</td>\n",
       "      <td>98.0</td>\n",
       "      <td>99.0</td>\n",
       "      <td>104</td>\n",
       "      <td>0</td>\n",
       "    </tr>\n",
       "    <tr>\n",
       "      <th>2</th>\n",
       "      <td>2020-02-11</td>\n",
       "      <td>86.0</td>\n",
       "      <td>88.0</td>\n",
       "      <td>104</td>\n",
       "      <td>0</td>\n",
       "    </tr>\n",
       "    <tr>\n",
       "      <th>3</th>\n",
       "      <td>2020-02-12</td>\n",
       "      <td>74.0</td>\n",
       "      <td>75.0</td>\n",
       "      <td>104</td>\n",
       "      <td>0</td>\n",
       "    </tr>\n",
       "    <tr>\n",
       "      <th>4</th>\n",
       "      <td>2020-02-13</td>\n",
       "      <td>107.0</td>\n",
       "      <td>109.0</td>\n",
       "      <td>104</td>\n",
       "      <td>0</td>\n",
       "    </tr>\n",
       "    <tr>\n",
       "      <th>...</th>\n",
       "      <td>...</td>\n",
       "      <td>...</td>\n",
       "      <td>...</td>\n",
       "      <td>...</td>\n",
       "      <td>...</td>\n",
       "    </tr>\n",
       "    <tr>\n",
       "      <th>5221</th>\n",
       "      <td>2023-02-22</td>\n",
       "      <td>3.0</td>\n",
       "      <td>3.0</td>\n",
       "      <td>102</td>\n",
       "      <td>4</td>\n",
       "    </tr>\n",
       "    <tr>\n",
       "      <th>5222</th>\n",
       "      <td>2023-02-23</td>\n",
       "      <td>2.0</td>\n",
       "      <td>2.0</td>\n",
       "      <td>102</td>\n",
       "      <td>4</td>\n",
       "    </tr>\n",
       "    <tr>\n",
       "      <th>5223</th>\n",
       "      <td>2023-02-24</td>\n",
       "      <td>2.0</td>\n",
       "      <td>2.0</td>\n",
       "      <td>102</td>\n",
       "      <td>4</td>\n",
       "    </tr>\n",
       "    <tr>\n",
       "      <th>5224</th>\n",
       "      <td>2023-02-25</td>\n",
       "      <td>1.0</td>\n",
       "      <td>1.0</td>\n",
       "      <td>102</td>\n",
       "      <td>4</td>\n",
       "    </tr>\n",
       "    <tr>\n",
       "      <th>5225</th>\n",
       "      <td>2023-02-27</td>\n",
       "      <td>1.0</td>\n",
       "      <td>1.0</td>\n",
       "      <td>102</td>\n",
       "      <td>4</td>\n",
       "    </tr>\n",
       "  </tbody>\n",
       "</table>\n",
       "<p>27494 rows × 5 columns</p>\n",
       "</div>"
      ],
      "text/plain": [
       "       date_rptd  count  y_hat  crimen  zona\n",
       "0     2020-02-09   70.0   72.0     104     0\n",
       "1     2020-02-10   98.0   99.0     104     0\n",
       "2     2020-02-11   86.0   88.0     104     0\n",
       "3     2020-02-12   74.0   75.0     104     0\n",
       "4     2020-02-13  107.0  109.0     104     0\n",
       "...          ...    ...    ...     ...   ...\n",
       "5221  2023-02-22    3.0    3.0     102     4\n",
       "5222  2023-02-23    2.0    2.0     102     4\n",
       "5223  2023-02-24    2.0    2.0     102     4\n",
       "5224  2023-02-25    1.0    1.0     102     4\n",
       "5225  2023-02-27    1.0    1.0     102     4\n",
       "\n",
       "[27494 rows x 5 columns]"
      ]
     },
     "execution_count": 5,
     "metadata": {},
     "output_type": "execute_result"
    }
   ],
   "source": [
    "prediccion_zonas"
   ]
  },
  {
   "cell_type": "code",
   "execution_count": 10,
   "id": "af3fb530",
   "metadata": {},
   "outputs": [],
   "source": [
    "#prediccion_zonas.to_csv('prediccion_zonas.csv',index=False)"
   ]
  },
  {
   "cell_type": "code",
   "execution_count": null,
   "id": "e4ecb9e9",
   "metadata": {},
   "outputs": [],
   "source": []
  }
 ],
 "metadata": {
  "kernelspec": {
   "display_name": "Python 3 (ipykernel)",
   "language": "python",
   "name": "python3"
  },
  "language_info": {
   "codemirror_mode": {
    "name": "ipython",
    "version": 3
   },
   "file_extension": ".py",
   "mimetype": "text/x-python",
   "name": "python",
   "nbconvert_exporter": "python",
   "pygments_lexer": "ipython3",
   "version": "3.10.6"
  }
 },
 "nbformat": 4,
 "nbformat_minor": 5
}
